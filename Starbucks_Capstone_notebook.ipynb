{
 "cells": [
  {
   "cell_type": "markdown",
   "metadata": {
    "toc": true
   },
   "source": [
    "<h1>Table of Contents<span class=\"tocSkip\"></span></h1>\n",
    "<div class=\"toc\"><ul class=\"toc-item\"><li><span><a href=\"#Starbucks-Capstone-Challenge---Introduction\" data-toc-modified-id=\"Starbucks-Capstone-Challenge---Introduction-1\"><span class=\"toc-item-num\">1&nbsp;&nbsp;</span>Starbucks Capstone Challenge - Introduction</a></span><ul class=\"toc-item\"><li><span><a href=\"#Example\" data-toc-modified-id=\"Example-1.1\"><span class=\"toc-item-num\">1.1&nbsp;&nbsp;</span>Example</a></span></li><li><span><a href=\"#Cleaning\" data-toc-modified-id=\"Cleaning-1.2\"><span class=\"toc-item-num\">1.2&nbsp;&nbsp;</span>Cleaning</a></span></li><li><span><a href=\"#Final-Advice\" data-toc-modified-id=\"Final-Advice-1.3\"><span class=\"toc-item-num\">1.3&nbsp;&nbsp;</span>Final Advice</a></span></li></ul></li><li><span><a href=\"#Data-Sets\" data-toc-modified-id=\"Data-Sets-2\"><span class=\"toc-item-num\">2&nbsp;&nbsp;</span>Data Sets</a></span></li><li><span><a href=\"#Importing-Libraries-and-data\" data-toc-modified-id=\"Importing-Libraries-and-data-3\"><span class=\"toc-item-num\">3&nbsp;&nbsp;</span>Importing Libraries and data</a></span></li><li><span><a href=\"#EDA\" data-toc-modified-id=\"EDA-4\"><span class=\"toc-item-num\">4&nbsp;&nbsp;</span>EDA</a></span><ul class=\"toc-item\"><li><span><a href=\"#Looking-at-the-portfolio-(offer-type)-data\" data-toc-modified-id=\"Looking-at-the-portfolio-(offer-type)-data-4.1\"><span class=\"toc-item-num\">4.1&nbsp;&nbsp;</span>Looking at the portfolio (offer type) data</a></span></li><li><span><a href=\"#Looking-at-the-profile-(customer-demographic)-data\" data-toc-modified-id=\"Looking-at-the-profile-(customer-demographic)-data-4.2\"><span class=\"toc-item-num\">4.2&nbsp;&nbsp;</span>Looking at the profile (customer demographic) data</a></span></li><li><span><a href=\"#Looking-at-the-transcript-(transactions)-data\" data-toc-modified-id=\"Looking-at-the-transcript-(transactions)-data-4.3\"><span class=\"toc-item-num\">4.3&nbsp;&nbsp;</span>Looking at the transcript (transactions) data</a></span></li></ul></li><li><span><a href=\"#Data-Preparation\" data-toc-modified-id=\"Data-Preparation-5\"><span class=\"toc-item-num\">5&nbsp;&nbsp;</span>Data Preparation</a></span><ul class=\"toc-item\"><li><span><a href=\"#Cleaning-raw-data\" data-toc-modified-id=\"Cleaning-raw-data-5.1\"><span class=\"toc-item-num\">5.1&nbsp;&nbsp;</span>Cleaning raw data</a></span><ul class=\"toc-item\"><li><span><a href=\"#Portfolio-data\" data-toc-modified-id=\"Portfolio-data-5.1.1\"><span class=\"toc-item-num\">5.1.1&nbsp;&nbsp;</span>Portfolio data</a></span></li><li><span><a href=\"#Profile-data\" data-toc-modified-id=\"Profile-data-5.1.2\"><span class=\"toc-item-num\">5.1.2&nbsp;&nbsp;</span>Profile data</a></span></li><li><span><a href=\"#Transcript-data\" data-toc-modified-id=\"Transcript-data-5.1.3\"><span class=\"toc-item-num\">5.1.3&nbsp;&nbsp;</span>Transcript data</a></span></li><li><span><a href=\"#Merge-Transcript,-profile-and-portfolio-data\" data-toc-modified-id=\"Merge-Transcript,-profile-and-portfolio-data-5.1.4\"><span class=\"toc-item-num\">5.1.4&nbsp;&nbsp;</span>Merge Transcript, profile and portfolio data</a></span></li></ul></li><li><span><a href=\"#Understanding-offer-types-and-events\" data-toc-modified-id=\"Understanding-offer-types-and-events-5.2\"><span class=\"toc-item-num\">5.2&nbsp;&nbsp;</span>Understanding offer types and events</a></span><ul class=\"toc-item\"><li><span><a href=\"#Sample-bogo-and-discount-journey\" data-toc-modified-id=\"Sample-bogo-and-discount-journey-5.2.1\"><span class=\"toc-item-num\">5.2.1&nbsp;&nbsp;</span>Sample bogo and discount journey</a></span></li><li><span><a href=\"#Sample-Informational-offer-journey\" data-toc-modified-id=\"Sample-Informational-offer-journey-5.2.2\"><span class=\"toc-item-num\">5.2.2&nbsp;&nbsp;</span>Sample Informational offer journey</a></span></li></ul></li><li><span><a href=\"#Defining-Objective-and-Methodology-for-data-cleaning\" data-toc-modified-id=\"Defining-Objective-and-Methodology-for-data-cleaning-5.3\"><span class=\"toc-item-num\">5.3&nbsp;&nbsp;</span>Defining Objective and Methodology for data cleaning</a></span><ul class=\"toc-item\"><li><span><a href=\"#Motivation:\" data-toc-modified-id=\"Motivation:-5.3.1\"><span class=\"toc-item-num\">5.3.1&nbsp;&nbsp;</span>Motivation:</a></span></li><li><span><a href=\"#Considerations-prior-to-data-cleaning:\" data-toc-modified-id=\"Considerations-prior-to-data-cleaning:-5.3.2\"><span class=\"toc-item-num\">5.3.2&nbsp;&nbsp;</span>Considerations prior to data cleaning:</a></span><ul class=\"toc-item\"><li><span><a href=\"#Event-space:\" data-toc-modified-id=\"Event-space:-5.3.2.1\"><span class=\"toc-item-num\">5.3.2.1&nbsp;&nbsp;</span>Event space:</a></span></li><li><span><a href=\"#Completed-Informational-offers:\" data-toc-modified-id=\"Completed-Informational-offers:-5.3.2.2\"><span class=\"toc-item-num\">5.3.2.2&nbsp;&nbsp;</span>Completed Informational offers:</a></span></li><li><span><a href=\"#Duration:\" data-toc-modified-id=\"Duration:-5.3.2.3\"><span class=\"toc-item-num\">5.3.2.3&nbsp;&nbsp;</span>Duration:</a></span></li><li><span><a href=\"#Defining-Target-variable:\" data-toc-modified-id=\"Defining-Target-variable:-5.3.2.4\"><span class=\"toc-item-num\">5.3.2.4&nbsp;&nbsp;</span>Defining Target variable:</a></span></li><li><span><a href=\"#Using-time-to-design-target-variable:\" data-toc-modified-id=\"Using-time-to-design-target-variable:-5.3.2.5\"><span class=\"toc-item-num\">5.3.2.5&nbsp;&nbsp;</span>Using <code>time</code> to design target variable:</a></span></li><li><span><a href=\"#Cleaning-pipeline-process-flow:\" data-toc-modified-id=\"Cleaning-pipeline-process-flow:-5.3.2.6\"><span class=\"toc-item-num\">5.3.2.6&nbsp;&nbsp;</span>Cleaning pipeline process flow:</a></span></li></ul></li></ul></li><li><span><a href=\"#Designing-Data-Cleaning-Pipeline\" data-toc-modified-id=\"Designing-Data-Cleaning-Pipeline-5.4\"><span class=\"toc-item-num\">5.4&nbsp;&nbsp;</span>Designing Data Cleaning Pipeline</a></span><ul class=\"toc-item\"><li><span><a href=\"#Designing-pipeline-to-clean-bogo/discount-offers\" data-toc-modified-id=\"Designing-pipeline-to-clean-bogo/discount-offers-5.4.1\"><span class=\"toc-item-num\">5.4.1&nbsp;&nbsp;</span>Designing pipeline to clean bogo/discount offers</a></span></li><li><span><a href=\"#Designing-pipeline-to-clean-informational-offers\" data-toc-modified-id=\"Designing-pipeline-to-clean-informational-offers-5.4.2\"><span class=\"toc-item-num\">5.4.2&nbsp;&nbsp;</span>Designing pipeline to clean informational offers</a></span></li><li><span><a href=\"#Designing-the-master-pipeline\" data-toc-modified-id=\"Designing-the-master-pipeline-5.4.3\"><span class=\"toc-item-num\">5.4.3&nbsp;&nbsp;</span>Designing the master pipeline</a></span></li><li><span><a href=\"#Run-the-pipeline\" data-toc-modified-id=\"Run-the-pipeline-5.4.4\"><span class=\"toc-item-num\">5.4.4&nbsp;&nbsp;</span>Run the pipeline</a></span></li></ul></li></ul></li><li><span><a href=\"#EDA---Continued\" data-toc-modified-id=\"EDA---Continued-6\"><span class=\"toc-item-num\">6&nbsp;&nbsp;</span>EDA - Continued</a></span><ul class=\"toc-item\"><li><span><a href=\"#Checking-If-we-have-imbalanced-classes\" data-toc-modified-id=\"Checking-If-we-have-imbalanced-classes-6.1\"><span class=\"toc-item-num\">6.1&nbsp;&nbsp;</span>Checking If we have imbalanced classes</a></span></li><li><span><a href=\"#Successful-offers-by-offer-types\" data-toc-modified-id=\"Successful-offers-by-offer-types-6.2\"><span class=\"toc-item-num\">6.2&nbsp;&nbsp;</span>Successful offers by offer types</a></span><ul class=\"toc-item\"><li><span><a href=\"#Amount-spent-by-offer-type\" data-toc-modified-id=\"Amount-spent-by-offer-type-6.2.1\"><span class=\"toc-item-num\">6.2.1&nbsp;&nbsp;</span>Amount spent by offer type</a></span></li></ul></li><li><span><a href=\"#Successful-offers-and-gender,-age\" data-toc-modified-id=\"Successful-offers-and-gender,-age-6.3\"><span class=\"toc-item-num\">6.3&nbsp;&nbsp;</span>Successful offers and gender, age</a></span></li><li><span><a href=\"#Successful-offers-by-income-and-gender\" data-toc-modified-id=\"Successful-offers-by-income-and-gender-6.4\"><span class=\"toc-item-num\">6.4&nbsp;&nbsp;</span>Successful offers by income and gender</a></span></li><li><span><a href=\"#Successful-offers-and-membership-data\" data-toc-modified-id=\"Successful-offers-and-membership-data-6.5\"><span class=\"toc-item-num\">6.5&nbsp;&nbsp;</span>Successful offers and membership data</a></span></li></ul></li><li><span><a href=\"#Final-Data-Preparation-+-Feature-Engineering\" data-toc-modified-id=\"Final-Data-Preparation-+-Feature-Engineering-7\"><span class=\"toc-item-num\">7&nbsp;&nbsp;</span>Final Data Preparation + Feature Engineering</a></span><ul class=\"toc-item\"><li><span><a href=\"#Filling-nulls-for-Income,-Gender.\" data-toc-modified-id=\"Filling-nulls-for-Income,-Gender.-7.1\"><span class=\"toc-item-num\">7.1&nbsp;&nbsp;</span>Filling nulls for Income, Gender.</a></span><ul class=\"toc-item\"><li><span><a href=\"#Understanding-the-proportion-of-missing-values\" data-toc-modified-id=\"Understanding-the-proportion-of-missing-values-7.1.1\"><span class=\"toc-item-num\">7.1.1&nbsp;&nbsp;</span>Understanding the proportion of missing values</a></span></li><li><span><a href=\"#Understanding-the-distribution-by-offer-type-between-outlier-data-and-regular-data\" data-toc-modified-id=\"Understanding-the-distribution-by-offer-type-between-outlier-data-and-regular-data-7.1.2\"><span class=\"toc-item-num\">7.1.2&nbsp;&nbsp;</span>Understanding the distribution by offer type between outlier data and regular data</a></span></li><li><span><a href=\"#Understanding-the-distribution-by-spend-between-outlier-data-and-regular-data\" data-toc-modified-id=\"Understanding-the-distribution-by-spend-between-outlier-data-and-regular-data-7.1.3\"><span class=\"toc-item-num\">7.1.3&nbsp;&nbsp;</span>Understanding the distribution by spend between outlier data and regular data</a></span></li><li><span><a href=\"#Difference-in-descriptive-stats-for-amount-spent-and-days_since_member-between-outlier-and-regular-data\" data-toc-modified-id=\"Difference-in-descriptive-stats-for-amount-spent-and-days_since_member-between-outlier-and-regular-data-7.1.4\"><span class=\"toc-item-num\">7.1.4&nbsp;&nbsp;</span>Difference in descriptive stats for <code>amount</code> spent and <code>days_since_member</code> between outlier and regular data</a></span></li><li><span><a href=\"#Filling-missing-values\" data-toc-modified-id=\"Filling-missing-values-7.1.5\"><span class=\"toc-item-num\">7.1.5&nbsp;&nbsp;</span>Filling missing values</a></span></li></ul></li><li><span><a href=\"#Creating-Strattified-training-and-testing-data\" data-toc-modified-id=\"Creating-Strattified-training-and-testing-data-7.2\"><span class=\"toc-item-num\">7.2&nbsp;&nbsp;</span>Creating Strattified training and testing data</a></span></li><li><span><a href=\"#Pipelines\" data-toc-modified-id=\"Pipelines-7.3\"><span class=\"toc-item-num\">7.3&nbsp;&nbsp;</span>Pipelines</a></span><ul class=\"toc-item\"><li><span><a href=\"#Numerical-Pipeline\" data-toc-modified-id=\"Numerical-Pipeline-7.3.1\"><span class=\"toc-item-num\">7.3.1&nbsp;&nbsp;</span>Numerical Pipeline</a></span></li><li><span><a href=\"#Categorical-Pipeline\" data-toc-modified-id=\"Categorical-Pipeline-7.3.2\"><span class=\"toc-item-num\">7.3.2&nbsp;&nbsp;</span>Categorical Pipeline</a></span></li><li><span><a href=\"#Fill-Pipeline\" data-toc-modified-id=\"Fill-Pipeline-7.3.3\"><span class=\"toc-item-num\">7.3.3&nbsp;&nbsp;</span>Fill Pipeline</a></span></li></ul></li></ul></li><li><span><a href=\"#Modeling\" data-toc-modified-id=\"Modeling-8\"><span class=\"toc-item-num\">8&nbsp;&nbsp;</span>Modeling</a></span><ul class=\"toc-item\"><li><span><a href=\"#Performance-Metric\" data-toc-modified-id=\"Performance-Metric-8.1\"><span class=\"toc-item-num\">8.1&nbsp;&nbsp;</span>Performance Metric</a></span></li><li><span><a href=\"#Create-a-function-for-cross-validating-multiple-algorithms\" data-toc-modified-id=\"Create-a-function-for-cross-validating-multiple-algorithms-8.2\"><span class=\"toc-item-num\">8.2&nbsp;&nbsp;</span>Create a function for cross validating multiple algorithms</a></span></li><li><span><a href=\"#Hyperparameter-tuning\" data-toc-modified-id=\"Hyperparameter-tuning-8.3\"><span class=\"toc-item-num\">8.3&nbsp;&nbsp;</span>Hyperparameter tuning</a></span><ul class=\"toc-item\"><li><span><a href=\"#XGBoost-Classifier\" data-toc-modified-id=\"XGBoost-Classifier-8.3.1\"><span class=\"toc-item-num\">8.3.1&nbsp;&nbsp;</span>XGBoost Classifier</a></span></li><li><span><a href=\"#Gradient-Boosting-Classifier\" data-toc-modified-id=\"Gradient-Boosting-Classifier-8.3.2\"><span class=\"toc-item-num\">8.3.2&nbsp;&nbsp;</span>Gradient Boosting Classifier</a></span></li><li><span><a href=\"#Random-Forest\" data-toc-modified-id=\"Random-Forest-8.3.3\"><span class=\"toc-item-num\">8.3.3&nbsp;&nbsp;</span>Random Forest</a></span></li></ul></li><li><span><a href=\"#Ensemble-Classifier\" data-toc-modified-id=\"Ensemble-Classifier-8.4\"><span class=\"toc-item-num\">8.4&nbsp;&nbsp;</span>Ensemble Classifier</a></span></li><li><span><a href=\"#Predicting\" data-toc-modified-id=\"Predicting-8.5\"><span class=\"toc-item-num\">8.5&nbsp;&nbsp;</span>Predicting</a></span><ul class=\"toc-item\"><li><span><a href=\"#Thoughts:\" data-toc-modified-id=\"Thoughts:-8.5.1\"><span class=\"toc-item-num\">8.5.1&nbsp;&nbsp;</span>Thoughts:</a></span></li></ul></li></ul></li><li><span><a href=\"#Conclusion\" data-toc-modified-id=\"Conclusion-9\"><span class=\"toc-item-num\">9&nbsp;&nbsp;</span>Conclusion</a></span><ul class=\"toc-item\"><li><span><a href=\"#Reflections:\" data-toc-modified-id=\"Reflections:-9.1\"><span class=\"toc-item-num\">9.1&nbsp;&nbsp;</span>Reflections:</a></span></li><li><span><a href=\"#Potential-Improvements:\" data-toc-modified-id=\"Potential-Improvements:-9.2\"><span class=\"toc-item-num\">9.2&nbsp;&nbsp;</span>Potential Improvements:</a></span></li></ul></li></ul></div>"
   ]
  },
  {
   "cell_type": "markdown",
   "metadata": {},
   "source": [
    "# Starbucks Capstone Challenge - Introduction\n",
    "\n",
    "This data set contains simulated data that mimics customer behavior on the Starbucks rewards mobile app. Once every few days, Starbucks sends out an offer to users of the mobile app. An offer can be merely an advertisement for a drink or an actual offer such as a discount or BOGO (buy one get one free). Some users might not receive any offer during certain weeks. \n",
    "\n",
    "Not all users receive the same offer, and that is the challenge to solve with this data set.\n",
    "\n",
    "Your task is to combine transaction, demographic and offer data to determine which demographic groups respond best to which offer type. This data set is a simplified version of the real Starbucks app because the underlying simulator only has one product whereas Starbucks actually sells dozens of products.\n",
    "\n",
    "Every offer has a validity period before the offer expires. As an example, a BOGO offer might be valid for only 5 days. You'll see in the data set that informational offers have a validity period even though these ads are merely providing information about a product; for example, if an informational offer has 7 days of validity, you can assume the customer is feeling the influence of the offer for 7 days after receiving the advertisement.\n",
    "\n",
    "You'll be given transactional data showing user purchases made on the app including the timestamp of purchase and the amount of money spent on a purchase. This transactional data also has a record for each offer that a user receives as well as a record for when a user actually views the offer. There are also records for when a user completes an offer. \n",
    "\n",
    "Keep in mind as well that someone using the app might make a purchase through the app without having received an offer or seen an offer.\n",
    "\n",
    "## Example\n",
    "\n",
    "To give an example, a user could receive a discount offer buy 10 dollars get 2 off on Monday. The offer is valid for 10 days from receipt. If the customer accumulates at least 10 dollars in purchases during the validity period, the customer completes the offer.\n",
    "\n",
    "However, there are a few things to watch out for in this data set. Customers do not opt into the offers that they receive; in other words, a user can receive an offer, never actually view the offer, and still complete the offer. For example, a user might receive the \"buy 10 dollars get 2 dollars off offer\", but the user never opens the offer during the 10 day validity period. The customer spends 15 dollars during those ten days. There will be an offer completion record in the data set; however, the customer was not influenced by the offer because the customer never viewed the offer.\n",
    "\n",
    "## Cleaning\n",
    "\n",
    "This makes data cleaning especially important and tricky.\n",
    "\n",
    "You'll also want to take into account that some demographic groups will make purchases even if they don't receive an offer. From a business perspective, if a customer is going to make a 10 dollar purchase without an offer anyway, you wouldn't want to send a buy 10 dollars get 2 dollars off offer. You'll want to try to assess what a certain demographic group will buy when not receiving any offers.\n",
    "\n",
    "## Final Advice\n",
    "\n",
    "Because this is a capstone project, you are free to analyze the data any way you see fit. For example, you could build a machine learning model that predicts how much someone will spend based on demographics and offer type. Or you could build a model that predicts whether or not someone will respond to an offer. Or, you don't need to build a machine learning model at all. You could develop a set of heuristics that determine what offer you should send to each customer (i.e., 75 percent of women customers who were 35 years old responded to offer A vs 40 percent from the same demographic to offer B, so send offer A)."
   ]
  },
  {
   "cell_type": "markdown",
   "metadata": {},
   "source": [
    "# Data Sets\n",
    "\n",
    "The data is contained in three files:\n",
    "\n",
    "* portfolio.json - containing offer ids and meta data about each offer (duration, type, etc.)\n",
    "* profile.json - demographic data for each customer\n",
    "* transcript.json - records for transactions, offers received, offers viewed, and offers completed\n",
    "\n",
    "Here is the schema and explanation of each variable in the files:\n",
    "\n",
    "**portfolio.json**\n",
    "* id (string) - offer id\n",
    "* offer_type (string) - type of offer ie BOGO, discount, informational\n",
    "* difficulty (int) - minimum required spend to complete an offer\n",
    "* reward (int) - reward given for completing an offer\n",
    "* duration (int) - time for offer to be open, in days\n",
    "* channels (list of strings)\n",
    "\n",
    "**profile.json**\n",
    "* age (int) - age of the customer \n",
    "* became_member_on (int) - date when customer created an app account\n",
    "* gender (str) - gender of the customer (note some entries contain 'O' for other rather than M or F)\n",
    "* id (str) - customer id\n",
    "* income (float) - customer's income\n",
    "\n",
    "**transcript.json**\n",
    "* event (str) - record description (ie transaction, offer received, offer viewed, etc.)\n",
    "* person (str) - customer id\n",
    "* time (int) - time in hours since start of test. The data begins at time t=0\n",
    "* value - (dict of strings) - either an offer id or transaction amount depending on the record\n",
    "\n",
    "**Note:** If you are using the workspace, you will need to go to the terminal and run the command `conda update pandas` before reading in the files. This is because the version of pandas in the workspace cannot read in the transcript.json file correctly, but the newest version of pandas can. You can access the termnal from the orange icon in the top left of this notebook.  \n",
    "\n",
    "You can see how to access the terminal and how the install works using the two images below.  First you need to access the terminal:\n",
    "\n",
    "<img src=\"./images/pic1.png\"/>\n",
    "\n",
    "Then you will want to run the above command:\n",
    "\n",
    "<img src=\"./images/pic2.png\"/>\n",
    "\n",
    "Finally, when you enter back into the notebook (use the jupyter icon again), you should be able to run the below cell without any errors."
   ]
  },
  {
   "cell_type": "markdown",
   "metadata": {},
   "source": [
    "# Importing Libraries and data"
   ]
  },
  {
   "cell_type": "code",
   "execution_count": 200,
   "metadata": {},
   "outputs": [],
   "source": [
    "import pandas as pd\n",
    "import numpy as np\n",
    "import math\n",
    "import json\n",
    "import seaborn as sns\n",
    "import matplotlib.pyplot as plt\n",
    "%matplotlib inline\n",
    "import datetime\n",
    "sns.set_theme(style=\"darkgrid\")"
   ]
  },
  {
   "cell_type": "code",
   "execution_count": 2,
   "metadata": {},
   "outputs": [],
   "source": [
    "# Importing the data\n",
    "# read in the json files\n",
    "portfolio = pd.read_json('data/portfolio.json', orient='records', lines=True)\n",
    "profile = pd.read_json('data/profile.json', orient='records', lines=True)\n",
    "transcript = pd.read_json('data/transcript.json', orient='records', lines=True)"
   ]
  },
  {
   "cell_type": "markdown",
   "metadata": {},
   "source": [
    "# EDA\n",
    "\n",
    "## Looking at the portfolio (offer type) data"
   ]
  },
  {
   "cell_type": "code",
   "execution_count": 3,
   "metadata": {},
   "outputs": [
    {
     "data": {
      "text/html": [
       "<div>\n",
       "<style scoped>\n",
       "    .dataframe tbody tr th:only-of-type {\n",
       "        vertical-align: middle;\n",
       "    }\n",
       "\n",
       "    .dataframe tbody tr th {\n",
       "        vertical-align: top;\n",
       "    }\n",
       "\n",
       "    .dataframe thead th {\n",
       "        text-align: right;\n",
       "    }\n",
       "</style>\n",
       "<table border=\"1\" class=\"dataframe\">\n",
       "  <thead>\n",
       "    <tr style=\"text-align: right;\">\n",
       "      <th></th>\n",
       "      <th>reward</th>\n",
       "      <th>channels</th>\n",
       "      <th>difficulty</th>\n",
       "      <th>duration</th>\n",
       "      <th>offer_type</th>\n",
       "      <th>id</th>\n",
       "    </tr>\n",
       "  </thead>\n",
       "  <tbody>\n",
       "    <tr>\n",
       "      <th>0</th>\n",
       "      <td>10</td>\n",
       "      <td>[email, mobile, social]</td>\n",
       "      <td>10</td>\n",
       "      <td>7</td>\n",
       "      <td>bogo</td>\n",
       "      <td>ae264e3637204a6fb9bb56bc8210ddfd</td>\n",
       "    </tr>\n",
       "    <tr>\n",
       "      <th>1</th>\n",
       "      <td>10</td>\n",
       "      <td>[web, email, mobile, social]</td>\n",
       "      <td>10</td>\n",
       "      <td>5</td>\n",
       "      <td>bogo</td>\n",
       "      <td>4d5c57ea9a6940dd891ad53e9dbe8da0</td>\n",
       "    </tr>\n",
       "    <tr>\n",
       "      <th>2</th>\n",
       "      <td>0</td>\n",
       "      <td>[web, email, mobile]</td>\n",
       "      <td>0</td>\n",
       "      <td>4</td>\n",
       "      <td>informational</td>\n",
       "      <td>3f207df678b143eea3cee63160fa8bed</td>\n",
       "    </tr>\n",
       "    <tr>\n",
       "      <th>3</th>\n",
       "      <td>5</td>\n",
       "      <td>[web, email, mobile]</td>\n",
       "      <td>5</td>\n",
       "      <td>7</td>\n",
       "      <td>bogo</td>\n",
       "      <td>9b98b8c7a33c4b65b9aebfe6a799e6d9</td>\n",
       "    </tr>\n",
       "    <tr>\n",
       "      <th>4</th>\n",
       "      <td>5</td>\n",
       "      <td>[web, email]</td>\n",
       "      <td>20</td>\n",
       "      <td>10</td>\n",
       "      <td>discount</td>\n",
       "      <td>0b1e1539f2cc45b7b9fa7c272da2e1d7</td>\n",
       "    </tr>\n",
       "  </tbody>\n",
       "</table>\n",
       "</div>"
      ],
      "text/plain": [
       "   reward                      channels  difficulty  duration     offer_type  \\\n",
       "0      10       [email, mobile, social]          10         7           bogo   \n",
       "1      10  [web, email, mobile, social]          10         5           bogo   \n",
       "2       0          [web, email, mobile]           0         4  informational   \n",
       "3       5          [web, email, mobile]           5         7           bogo   \n",
       "4       5                  [web, email]          20        10       discount   \n",
       "\n",
       "                                 id  \n",
       "0  ae264e3637204a6fb9bb56bc8210ddfd  \n",
       "1  4d5c57ea9a6940dd891ad53e9dbe8da0  \n",
       "2  3f207df678b143eea3cee63160fa8bed  \n",
       "3  9b98b8c7a33c4b65b9aebfe6a799e6d9  \n",
       "4  0b1e1539f2cc45b7b9fa7c272da2e1d7  "
      ]
     },
     "execution_count": 3,
     "metadata": {},
     "output_type": "execute_result"
    }
   ],
   "source": [
    "# glimpse at the first few rows\n",
    "portfolio.head()"
   ]
  },
  {
   "cell_type": "code",
   "execution_count": 4,
   "metadata": {},
   "outputs": [
    {
     "data": {
      "text/plain": [
       "(10, 6)"
      ]
     },
     "execution_count": 4,
     "metadata": {},
     "output_type": "execute_result"
    }
   ],
   "source": [
    "# check shape\n",
    "portfolio.shape"
   ]
  },
  {
   "cell_type": "code",
   "execution_count": 5,
   "metadata": {},
   "outputs": [
    {
     "data": {
      "text/plain": [
       "array(['bogo', 'informational', 'discount'], dtype=object)"
      ]
     },
     "execution_count": 5,
     "metadata": {},
     "output_type": "execute_result"
    }
   ],
   "source": [
    "## Different type of offers\n",
    "portfolio['offer_type'].unique()"
   ]
  },
  {
   "cell_type": "code",
   "execution_count": 6,
   "metadata": {},
   "outputs": [
    {
     "data": {
      "text/plain": [
       "reward        0\n",
       "channels      0\n",
       "difficulty    0\n",
       "duration      0\n",
       "offer_type    0\n",
       "id            0\n",
       "dtype: int64"
      ]
     },
     "execution_count": 6,
     "metadata": {},
     "output_type": "execute_result"
    }
   ],
   "source": [
    "# check NAs\n",
    "portfolio.isna().sum()"
   ]
  },
  {
   "cell_type": "markdown",
   "metadata": {},
   "source": [
    "## Looking at the profile (customer demographic) data"
   ]
  },
  {
   "cell_type": "code",
   "execution_count": 7,
   "metadata": {},
   "outputs": [
    {
     "data": {
      "text/html": [
       "<div>\n",
       "<style scoped>\n",
       "    .dataframe tbody tr th:only-of-type {\n",
       "        vertical-align: middle;\n",
       "    }\n",
       "\n",
       "    .dataframe tbody tr th {\n",
       "        vertical-align: top;\n",
       "    }\n",
       "\n",
       "    .dataframe thead th {\n",
       "        text-align: right;\n",
       "    }\n",
       "</style>\n",
       "<table border=\"1\" class=\"dataframe\">\n",
       "  <thead>\n",
       "    <tr style=\"text-align: right;\">\n",
       "      <th></th>\n",
       "      <th>gender</th>\n",
       "      <th>age</th>\n",
       "      <th>id</th>\n",
       "      <th>became_member_on</th>\n",
       "      <th>income</th>\n",
       "    </tr>\n",
       "  </thead>\n",
       "  <tbody>\n",
       "    <tr>\n",
       "      <th>0</th>\n",
       "      <td>None</td>\n",
       "      <td>118</td>\n",
       "      <td>68be06ca386d4c31939f3a4f0e3dd783</td>\n",
       "      <td>20170212</td>\n",
       "      <td>NaN</td>\n",
       "    </tr>\n",
       "    <tr>\n",
       "      <th>1</th>\n",
       "      <td>F</td>\n",
       "      <td>55</td>\n",
       "      <td>0610b486422d4921ae7d2bf64640c50b</td>\n",
       "      <td>20170715</td>\n",
       "      <td>112000.0</td>\n",
       "    </tr>\n",
       "    <tr>\n",
       "      <th>2</th>\n",
       "      <td>None</td>\n",
       "      <td>118</td>\n",
       "      <td>38fe809add3b4fcf9315a9694bb96ff5</td>\n",
       "      <td>20180712</td>\n",
       "      <td>NaN</td>\n",
       "    </tr>\n",
       "    <tr>\n",
       "      <th>3</th>\n",
       "      <td>F</td>\n",
       "      <td>75</td>\n",
       "      <td>78afa995795e4d85b5d9ceeca43f5fef</td>\n",
       "      <td>20170509</td>\n",
       "      <td>100000.0</td>\n",
       "    </tr>\n",
       "    <tr>\n",
       "      <th>4</th>\n",
       "      <td>None</td>\n",
       "      <td>118</td>\n",
       "      <td>a03223e636434f42ac4c3df47e8bac43</td>\n",
       "      <td>20170804</td>\n",
       "      <td>NaN</td>\n",
       "    </tr>\n",
       "  </tbody>\n",
       "</table>\n",
       "</div>"
      ],
      "text/plain": [
       "  gender  age                                id  became_member_on    income\n",
       "0   None  118  68be06ca386d4c31939f3a4f0e3dd783          20170212       NaN\n",
       "1      F   55  0610b486422d4921ae7d2bf64640c50b          20170715  112000.0\n",
       "2   None  118  38fe809add3b4fcf9315a9694bb96ff5          20180712       NaN\n",
       "3      F   75  78afa995795e4d85b5d9ceeca43f5fef          20170509  100000.0\n",
       "4   None  118  a03223e636434f42ac4c3df47e8bac43          20170804       NaN"
      ]
     },
     "execution_count": 7,
     "metadata": {},
     "output_type": "execute_result"
    }
   ],
   "source": [
    "# glimpse at the first few rows\n",
    "profile.head()"
   ]
  },
  {
   "cell_type": "code",
   "execution_count": 8,
   "metadata": {},
   "outputs": [
    {
     "data": {
      "text/plain": [
       "(17000, 5)"
      ]
     },
     "execution_count": 8,
     "metadata": {},
     "output_type": "execute_result"
    }
   ],
   "source": [
    "# check shape\n",
    "profile.shape"
   ]
  },
  {
   "cell_type": "code",
   "execution_count": 9,
   "metadata": {},
   "outputs": [
    {
     "data": {
      "text/plain": [
       "gender              2175\n",
       "age                    0\n",
       "id                     0\n",
       "became_member_on       0\n",
       "income              2175\n",
       "dtype: int64"
      ]
     },
     "execution_count": 9,
     "metadata": {},
     "output_type": "execute_result"
    }
   ],
   "source": [
    "# check NAs\n",
    "profile.isna().sum()"
   ]
  },
  {
   "cell_type": "code",
   "execution_count": 10,
   "metadata": {},
   "outputs": [
    {
     "data": {
      "text/plain": [
       "M    0.572277\n",
       "F    0.413423\n",
       "O    0.014300\n",
       "Name: gender, dtype: float64"
      ]
     },
     "execution_count": 10,
     "metadata": {},
     "output_type": "execute_result"
    }
   ],
   "source": [
    "# Different types of genders\n",
    "profile['gender'].value_counts(normalize=True)"
   ]
  },
  {
   "cell_type": "code",
   "execution_count": 11,
   "metadata": {},
   "outputs": [
    {
     "data": {
      "image/png": "[encoded data removed]",
      "text/plain": [
       "<Figure size 432x288 with 1 Axes>"
      ]
     },
     "metadata": {
      "needs_background": "light"
     },
     "output_type": "display_data"
    }
   ],
   "source": [
    "# Distribution of age across the dataset\n",
    "sns.histplot(data=profile,x='age')\n",
    "plt.show()"
   ]
  },
  {
   "cell_type": "markdown",
   "metadata": {},
   "source": [
    "- The biggest chunk of samples have an age capped at 118. These are clearly outliers and unrealistic values. We might have to clean this piece up.\n",
    "- Let's explore these rows further."
   ]
  },
  {
   "cell_type": "code",
   "execution_count": 12,
   "metadata": {},
   "outputs": [
    {
     "data": {
      "text/html": [
       "<div>\n",
       "<style scoped>\n",
       "    .dataframe tbody tr th:only-of-type {\n",
       "        vertical-align: middle;\n",
       "    }\n",
       "\n",
       "    .dataframe tbody tr th {\n",
       "        vertical-align: top;\n",
       "    }\n",
       "\n",
       "    .dataframe thead th {\n",
       "        text-align: right;\n",
       "    }\n",
       "</style>\n",
       "<table border=\"1\" class=\"dataframe\">\n",
       "  <thead>\n",
       "    <tr style=\"text-align: right;\">\n",
       "      <th></th>\n",
       "      <th>gender</th>\n",
       "      <th>age</th>\n",
       "      <th>income</th>\n",
       "    </tr>\n",
       "  </thead>\n",
       "  <tbody>\n",
       "    <tr>\n",
       "      <th>0</th>\n",
       "      <td>None</td>\n",
       "      <td>118</td>\n",
       "      <td>NaN</td>\n",
       "    </tr>\n",
       "    <tr>\n",
       "      <th>2</th>\n",
       "      <td>None</td>\n",
       "      <td>118</td>\n",
       "      <td>NaN</td>\n",
       "    </tr>\n",
       "    <tr>\n",
       "      <th>4</th>\n",
       "      <td>None</td>\n",
       "      <td>118</td>\n",
       "      <td>NaN</td>\n",
       "    </tr>\n",
       "    <tr>\n",
       "      <th>6</th>\n",
       "      <td>None</td>\n",
       "      <td>118</td>\n",
       "      <td>NaN</td>\n",
       "    </tr>\n",
       "    <tr>\n",
       "      <th>7</th>\n",
       "      <td>None</td>\n",
       "      <td>118</td>\n",
       "      <td>NaN</td>\n",
       "    </tr>\n",
       "  </tbody>\n",
       "</table>\n",
       "</div>"
      ],
      "text/plain": [
       "  gender  age  income\n",
       "0   None  118     NaN\n",
       "2   None  118     NaN\n",
       "4   None  118     NaN\n",
       "6   None  118     NaN\n",
       "7   None  118     NaN"
      ]
     },
     "execution_count": 12,
     "metadata": {},
     "output_type": "execute_result"
    }
   ],
   "source": [
    "# Looking at outlier rows for age\n",
    "profile_outlier_age = profile[profile['age'] == 118][['gender','age','income']]\n",
    "profile_outlier_age.head()"
   ]
  },
  {
   "cell_type": "code",
   "execution_count": 13,
   "metadata": {},
   "outputs": [
    {
     "data": {
      "text/plain": [
       "(2175, 3)"
      ]
     },
     "execution_count": 13,
     "metadata": {},
     "output_type": "execute_result"
    }
   ],
   "source": [
    "# check outlier shape\n",
    "profile_outlier_age.shape"
   ]
  },
  {
   "cell_type": "markdown",
   "metadata": {},
   "source": [
    "- It seems the outlier instances with age 118 account for all the missing values for gender and income features. This is convinient as the outliers and missing values are the same group."
   ]
  },
  {
   "cell_type": "code",
   "execution_count": 14,
   "metadata": {},
   "outputs": [
    {
     "data": {
      "image/png": "[encoded data removed]",
      "text/plain": [
       "<Figure size 404.625x360 with 1 Axes>"
      ]
     },
     "metadata": {
      "needs_background": "light"
     },
     "output_type": "display_data"
    }
   ],
   "source": [
    "# income distribution\n",
    "sns.displot(data=profile,x='income',hue='gender')\n",
    "plt.show()"
   ]
  },
  {
   "cell_type": "markdown",
   "metadata": {},
   "source": [
    "## Looking at the transcript (transactions) data"
   ]
  },
  {
   "cell_type": "code",
   "execution_count": 15,
   "metadata": {},
   "outputs": [
    {
     "data": {
      "text/html": [
       "<div>\n",
       "<style scoped>\n",
       "    .dataframe tbody tr th:only-of-type {\n",
       "        vertical-align: middle;\n",
       "    }\n",
       "\n",
       "    .dataframe tbody tr th {\n",
       "        vertical-align: top;\n",
       "    }\n",
       "\n",
       "    .dataframe thead th {\n",
       "        text-align: right;\n",
       "    }\n",
       "</style>\n",
       "<table border=\"1\" class=\"dataframe\">\n",
       "  <thead>\n",
       "    <tr style=\"text-align: right;\">\n",
       "      <th></th>\n",
       "      <th>person</th>\n",
       "      <th>event</th>\n",
       "      <th>value</th>\n",
       "      <th>time</th>\n",
       "    </tr>\n",
       "  </thead>\n",
       "  <tbody>\n",
       "    <tr>\n",
       "      <th>0</th>\n",
       "      <td>78afa995795e4d85b5d9ceeca43f5fef</td>\n",
       "      <td>offer received</td>\n",
       "      <td>{'offer id': '9b98b8c7a33c4b65b9aebfe6a799e6d9'}</td>\n",
       "      <td>0</td>\n",
       "    </tr>\n",
       "    <tr>\n",
       "      <th>1</th>\n",
       "      <td>a03223e636434f42ac4c3df47e8bac43</td>\n",
       "      <td>offer received</td>\n",
       "      <td>{'offer id': '0b1e1539f2cc45b7b9fa7c272da2e1d7'}</td>\n",
       "      <td>0</td>\n",
       "    </tr>\n",
       "    <tr>\n",
       "      <th>2</th>\n",
       "      <td>e2127556f4f64592b11af22de27a7932</td>\n",
       "      <td>offer received</td>\n",
       "      <td>{'offer id': '2906b810c7d4411798c6938adc9daaa5'}</td>\n",
       "      <td>0</td>\n",
       "    </tr>\n",
       "    <tr>\n",
       "      <th>3</th>\n",
       "      <td>8ec6ce2a7e7949b1bf142def7d0e0586</td>\n",
       "      <td>offer received</td>\n",
       "      <td>{'offer id': 'fafdcd668e3743c1bb461111dcafc2a4'}</td>\n",
       "      <td>0</td>\n",
       "    </tr>\n",
       "    <tr>\n",
       "      <th>4</th>\n",
       "      <td>68617ca6246f4fbc85e91a2a49552598</td>\n",
       "      <td>offer received</td>\n",
       "      <td>{'offer id': '4d5c57ea9a6940dd891ad53e9dbe8da0'}</td>\n",
       "      <td>0</td>\n",
       "    </tr>\n",
       "  </tbody>\n",
       "</table>\n",
       "</div>"
      ],
      "text/plain": [
       "                             person           event  \\\n",
       "0  78afa995795e4d85b5d9ceeca43f5fef  offer received   \n",
       "1  a03223e636434f42ac4c3df47e8bac43  offer received   \n",
       "2  e2127556f4f64592b11af22de27a7932  offer received   \n",
       "3  8ec6ce2a7e7949b1bf142def7d0e0586  offer received   \n",
       "4  68617ca6246f4fbc85e91a2a49552598  offer received   \n",
       "\n",
       "                                              value  time  \n",
       "0  {'offer id': '9b98b8c7a33c4b65b9aebfe6a799e6d9'}     0  \n",
       "1  {'offer id': '0b1e1539f2cc45b7b9fa7c272da2e1d7'}     0  \n",
       "2  {'offer id': '2906b810c7d4411798c6938adc9daaa5'}     0  \n",
       "3  {'offer id': 'fafdcd668e3743c1bb461111dcafc2a4'}     0  \n",
       "4  {'offer id': '4d5c57ea9a6940dd891ad53e9dbe8da0'}     0  "
      ]
     },
     "execution_count": 15,
     "metadata": {},
     "output_type": "execute_result"
    }
   ],
   "source": [
    "# glimpse at the first few rows\n",
    "transcript.head()"
   ]
  },
  {
   "cell_type": "code",
   "execution_count": 16,
   "metadata": {},
   "outputs": [
    {
     "data": {
      "text/plain": [
       "(306534, 4)"
      ]
     },
     "execution_count": 16,
     "metadata": {},
     "output_type": "execute_result"
    }
   ],
   "source": [
    "# check shape\n",
    "transcript.shape"
   ]
  },
  {
   "cell_type": "code",
   "execution_count": 17,
   "metadata": {},
   "outputs": [
    {
     "data": {
      "text/plain": [
       "person    0\n",
       "event     0\n",
       "value     0\n",
       "time      0\n",
       "dtype: int64"
      ]
     },
     "execution_count": 17,
     "metadata": {},
     "output_type": "execute_result"
    }
   ],
   "source": [
    "# check NAs\n",
    "transcript.isna().sum()"
   ]
  },
  {
   "cell_type": "code",
   "execution_count": 691,
   "metadata": {},
   "outputs": [
    {
     "data": {
      "image/png": "[encoded data removed]",
      "text/plain": [
       "<Figure size 1440x360 with 4 Axes>"
      ]
     },
     "metadata": {},
     "output_type": "display_data"
    }
   ],
   "source": [
    "# Distribution of events across time\n",
    "sns.displot(data=transcript,\n",
    "           x = 'time',\n",
    "           col = 'event')\n",
    "plt.show()"
   ]
  },
  {
   "cell_type": "markdown",
   "metadata": {},
   "source": [
    "- Seems most offers were `recieved` during specific times. This is evident from the peaks on the left most plot.\n",
    "- `Offer viewed` event has a similar kind of pattern with periodic highs.\n",
    "- `Transactions` happen throughout with relatively spaced out peaks and troughs.\n",
    "- There is no evident pattern to `completed offers`."
   ]
  },
  {
   "cell_type": "code",
   "execution_count": 19,
   "metadata": {},
   "outputs": [
    {
     "data": {
      "text/plain": [
       "transaction        138953\n",
       "offer received      76277\n",
       "offer viewed        57725\n",
       "offer completed     33579\n",
       "Name: event, dtype: int64"
      ]
     },
     "execution_count": 19,
     "metadata": {},
     "output_type": "execute_result"
    }
   ],
   "source": [
    "# Looking at different event types\n",
    "transcript['event'].value_counts()"
   ]
  },
  {
   "cell_type": "markdown",
   "metadata": {},
   "source": [
    "# Data Preparation"
   ]
  },
  {
   "cell_type": "code",
   "execution_count": 20,
   "metadata": {},
   "outputs": [],
   "source": [
    "# Creating a function to map long IDs to shorter convinient looking IDS\n",
    "def id_mapper(df,var):\n",
    "    '''\n",
    "    Def: Map long IDs to convinient short ids\n",
    "    \n",
    "    Args:\n",
    "        df: Dataframe to be used\n",
    "        var: name of the column with ID\n",
    "        \n",
    "    '''\n",
    "    # Create empty dict\n",
    "    coded_dict = dict()\n",
    "    # initialize counter\n",
    "    cter = 1\n",
    "    # create empty list to store ids\n",
    "    id_encoded = []\n",
    "    \n",
    "    for val in df[var]:\n",
    "        if val not in coded_dict:\n",
    "            coded_dict[val] = cter\n",
    "            cter+=1\n",
    "        \n",
    "        id_encoded.append(coded_dict[val])\n",
    "    return id_encoded"
   ]
  },
  {
   "cell_type": "markdown",
   "metadata": {},
   "source": [
    "## Cleaning raw data \n",
    "\n",
    "### Portfolio data"
   ]
  },
  {
   "cell_type": "code",
   "execution_count": 21,
   "metadata": {},
   "outputs": [
    {
     "data": {
      "text/html": [
       "<div>\n",
       "<style scoped>\n",
       "    .dataframe tbody tr th:only-of-type {\n",
       "        vertical-align: middle;\n",
       "    }\n",
       "\n",
       "    .dataframe tbody tr th {\n",
       "        vertical-align: top;\n",
       "    }\n",
       "\n",
       "    .dataframe thead th {\n",
       "        text-align: right;\n",
       "    }\n",
       "</style>\n",
       "<table border=\"1\" class=\"dataframe\">\n",
       "  <thead>\n",
       "    <tr style=\"text-align: right;\">\n",
       "      <th></th>\n",
       "      <th>reward</th>\n",
       "      <th>channels</th>\n",
       "      <th>difficulty</th>\n",
       "      <th>duration</th>\n",
       "      <th>offer_type</th>\n",
       "      <th>id</th>\n",
       "      <th>offer_id_encoded</th>\n",
       "    </tr>\n",
       "  </thead>\n",
       "  <tbody>\n",
       "    <tr>\n",
       "      <th>0</th>\n",
       "      <td>10</td>\n",
       "      <td>[email, mobile, social]</td>\n",
       "      <td>10</td>\n",
       "      <td>7</td>\n",
       "      <td>bogo</td>\n",
       "      <td>ae264e3637204a6fb9bb56bc8210ddfd</td>\n",
       "      <td>1</td>\n",
       "    </tr>\n",
       "    <tr>\n",
       "      <th>1</th>\n",
       "      <td>10</td>\n",
       "      <td>[web, email, mobile, social]</td>\n",
       "      <td>10</td>\n",
       "      <td>5</td>\n",
       "      <td>bogo</td>\n",
       "      <td>4d5c57ea9a6940dd891ad53e9dbe8da0</td>\n",
       "      <td>2</td>\n",
       "    </tr>\n",
       "    <tr>\n",
       "      <th>2</th>\n",
       "      <td>0</td>\n",
       "      <td>[web, email, mobile]</td>\n",
       "      <td>0</td>\n",
       "      <td>4</td>\n",
       "      <td>informational</td>\n",
       "      <td>3f207df678b143eea3cee63160fa8bed</td>\n",
       "      <td>3</td>\n",
       "    </tr>\n",
       "    <tr>\n",
       "      <th>3</th>\n",
       "      <td>5</td>\n",
       "      <td>[web, email, mobile]</td>\n",
       "      <td>5</td>\n",
       "      <td>7</td>\n",
       "      <td>bogo</td>\n",
       "      <td>9b98b8c7a33c4b65b9aebfe6a799e6d9</td>\n",
       "      <td>4</td>\n",
       "    </tr>\n",
       "    <tr>\n",
       "      <th>4</th>\n",
       "      <td>5</td>\n",
       "      <td>[web, email]</td>\n",
       "      <td>20</td>\n",
       "      <td>10</td>\n",
       "      <td>discount</td>\n",
       "      <td>0b1e1539f2cc45b7b9fa7c272da2e1d7</td>\n",
       "      <td>5</td>\n",
       "    </tr>\n",
       "  </tbody>\n",
       "</table>\n",
       "</div>"
      ],
      "text/plain": [
       "   reward                      channels  difficulty  duration     offer_type  \\\n",
       "0      10       [email, mobile, social]          10         7           bogo   \n",
       "1      10  [web, email, mobile, social]          10         5           bogo   \n",
       "2       0          [web, email, mobile]           0         4  informational   \n",
       "3       5          [web, email, mobile]           5         7           bogo   \n",
       "4       5                  [web, email]          20        10       discount   \n",
       "\n",
       "                                 id  offer_id_encoded  \n",
       "0  ae264e3637204a6fb9bb56bc8210ddfd                 1  \n",
       "1  4d5c57ea9a6940dd891ad53e9dbe8da0                 2  \n",
       "2  3f207df678b143eea3cee63160fa8bed                 3  \n",
       "3  9b98b8c7a33c4b65b9aebfe6a799e6d9                 4  \n",
       "4  0b1e1539f2cc45b7b9fa7c272da2e1d7                 5  "
      ]
     },
     "execution_count": 21,
     "metadata": {},
     "output_type": "execute_result"
    }
   ],
   "source": [
    "# Create a copy of the original data\n",
    "portfolio_clean = portfolio.copy()\n",
    "\n",
    "# Get a list of encoded IDs\n",
    "offer_id_encoded = id_mapper(df=portfolio_clean,var='id')\n",
    "\n",
    "# Create a column for encoded IDs\n",
    "portfolio_clean['offer_id_encoded'] = offer_id_encoded\n",
    "\n",
    "# glimpse\n",
    "portfolio_clean.head()"
   ]
  },
  {
   "cell_type": "code",
   "execution_count": 22,
   "metadata": {},
   "outputs": [],
   "source": [
    "# convert channels column into separate columns\n",
    "for index, row in portfolio_clean.iterrows():\n",
    "    for channel in ['web', 'email', 'social', 'mobile']:\n",
    "        if channel in portfolio.loc[index, 'channels']:\n",
    "            portfolio_clean.loc[index, channel] = 1\n",
    "        else:\n",
    "            portfolio_clean.loc[index, channel] = 0"
   ]
  },
  {
   "cell_type": "code",
   "execution_count": 23,
   "metadata": {},
   "outputs": [],
   "source": [
    "# dropping redundant columns\n",
    "portfolio_clean.drop('channels',axis=1,inplace=True)"
   ]
  },
  {
   "cell_type": "code",
   "execution_count": 24,
   "metadata": {
    "scrolled": true
   },
   "outputs": [
    {
     "data": {
      "text/html": [
       "<div>\n",
       "<style scoped>\n",
       "    .dataframe tbody tr th:only-of-type {\n",
       "        vertical-align: middle;\n",
       "    }\n",
       "\n",
       "    .dataframe tbody tr th {\n",
       "        vertical-align: top;\n",
       "    }\n",
       "\n",
       "    .dataframe thead th {\n",
       "        text-align: right;\n",
       "    }\n",
       "</style>\n",
       "<table border=\"1\" class=\"dataframe\">\n",
       "  <thead>\n",
       "    <tr style=\"text-align: right;\">\n",
       "      <th></th>\n",
       "      <th>reward</th>\n",
       "      <th>difficulty</th>\n",
       "      <th>duration</th>\n",
       "      <th>offer_type</th>\n",
       "      <th>id</th>\n",
       "      <th>offer_id_encoded</th>\n",
       "      <th>web</th>\n",
       "      <th>email</th>\n",
       "      <th>social</th>\n",
       "      <th>mobile</th>\n",
       "    </tr>\n",
       "  </thead>\n",
       "  <tbody>\n",
       "    <tr>\n",
       "      <th>0</th>\n",
       "      <td>10</td>\n",
       "      <td>10</td>\n",
       "      <td>7</td>\n",
       "      <td>bogo</td>\n",
       "      <td>ae264e3637204a6fb9bb56bc8210ddfd</td>\n",
       "      <td>1</td>\n",
       "      <td>0.0</td>\n",
       "      <td>1.0</td>\n",
       "      <td>1.0</td>\n",
       "      <td>1.0</td>\n",
       "    </tr>\n",
       "    <tr>\n",
       "      <th>1</th>\n",
       "      <td>10</td>\n",
       "      <td>10</td>\n",
       "      <td>5</td>\n",
       "      <td>bogo</td>\n",
       "      <td>4d5c57ea9a6940dd891ad53e9dbe8da0</td>\n",
       "      <td>2</td>\n",
       "      <td>1.0</td>\n",
       "      <td>1.0</td>\n",
       "      <td>1.0</td>\n",
       "      <td>1.0</td>\n",
       "    </tr>\n",
       "    <tr>\n",
       "      <th>2</th>\n",
       "      <td>0</td>\n",
       "      <td>0</td>\n",
       "      <td>4</td>\n",
       "      <td>informational</td>\n",
       "      <td>3f207df678b143eea3cee63160fa8bed</td>\n",
       "      <td>3</td>\n",
       "      <td>1.0</td>\n",
       "      <td>1.0</td>\n",
       "      <td>0.0</td>\n",
       "      <td>1.0</td>\n",
       "    </tr>\n",
       "    <tr>\n",
       "      <th>3</th>\n",
       "      <td>5</td>\n",
       "      <td>5</td>\n",
       "      <td>7</td>\n",
       "      <td>bogo</td>\n",
       "      <td>9b98b8c7a33c4b65b9aebfe6a799e6d9</td>\n",
       "      <td>4</td>\n",
       "      <td>1.0</td>\n",
       "      <td>1.0</td>\n",
       "      <td>0.0</td>\n",
       "      <td>1.0</td>\n",
       "    </tr>\n",
       "    <tr>\n",
       "      <th>4</th>\n",
       "      <td>5</td>\n",
       "      <td>20</td>\n",
       "      <td>10</td>\n",
       "      <td>discount</td>\n",
       "      <td>0b1e1539f2cc45b7b9fa7c272da2e1d7</td>\n",
       "      <td>5</td>\n",
       "      <td>1.0</td>\n",
       "      <td>1.0</td>\n",
       "      <td>0.0</td>\n",
       "      <td>0.0</td>\n",
       "    </tr>\n",
       "  </tbody>\n",
       "</table>\n",
       "</div>"
      ],
      "text/plain": [
       "   reward  difficulty  duration     offer_type  \\\n",
       "0      10          10         7           bogo   \n",
       "1      10          10         5           bogo   \n",
       "2       0           0         4  informational   \n",
       "3       5           5         7           bogo   \n",
       "4       5          20        10       discount   \n",
       "\n",
       "                                 id  offer_id_encoded  web  email  social  \\\n",
       "0  ae264e3637204a6fb9bb56bc8210ddfd                 1  0.0    1.0     1.0   \n",
       "1  4d5c57ea9a6940dd891ad53e9dbe8da0                 2  1.0    1.0     1.0   \n",
       "2  3f207df678b143eea3cee63160fa8bed                 3  1.0    1.0     0.0   \n",
       "3  9b98b8c7a33c4b65b9aebfe6a799e6d9                 4  1.0    1.0     0.0   \n",
       "4  0b1e1539f2cc45b7b9fa7c272da2e1d7                 5  1.0    1.0     0.0   \n",
       "\n",
       "   mobile  \n",
       "0     1.0  \n",
       "1     1.0  \n",
       "2     1.0  \n",
       "3     1.0  \n",
       "4     0.0  "
      ]
     },
     "execution_count": 24,
     "metadata": {},
     "output_type": "execute_result"
    }
   ],
   "source": [
    "# Glimpse at the clean data\n",
    "portfolio_clean.head()"
   ]
  },
  {
   "cell_type": "markdown",
   "metadata": {},
   "source": [
    "### Profile data"
   ]
  },
  {
   "cell_type": "code",
   "execution_count": 25,
   "metadata": {},
   "outputs": [
    {
     "data": {
      "text/html": [
       "<div>\n",
       "<style scoped>\n",
       "    .dataframe tbody tr th:only-of-type {\n",
       "        vertical-align: middle;\n",
       "    }\n",
       "\n",
       "    .dataframe tbody tr th {\n",
       "        vertical-align: top;\n",
       "    }\n",
       "\n",
       "    .dataframe thead th {\n",
       "        text-align: right;\n",
       "    }\n",
       "</style>\n",
       "<table border=\"1\" class=\"dataframe\">\n",
       "  <thead>\n",
       "    <tr style=\"text-align: right;\">\n",
       "      <th></th>\n",
       "      <th>gender</th>\n",
       "      <th>age</th>\n",
       "      <th>id</th>\n",
       "      <th>became_member_on</th>\n",
       "      <th>income</th>\n",
       "      <th>user_id_encoded</th>\n",
       "    </tr>\n",
       "  </thead>\n",
       "  <tbody>\n",
       "    <tr>\n",
       "      <th>0</th>\n",
       "      <td>None</td>\n",
       "      <td>118</td>\n",
       "      <td>68be06ca386d4c31939f3a4f0e3dd783</td>\n",
       "      <td>20170212</td>\n",
       "      <td>NaN</td>\n",
       "      <td>1</td>\n",
       "    </tr>\n",
       "    <tr>\n",
       "      <th>1</th>\n",
       "      <td>F</td>\n",
       "      <td>55</td>\n",
       "      <td>0610b486422d4921ae7d2bf64640c50b</td>\n",
       "      <td>20170715</td>\n",
       "      <td>112000.0</td>\n",
       "      <td>2</td>\n",
       "    </tr>\n",
       "    <tr>\n",
       "      <th>2</th>\n",
       "      <td>None</td>\n",
       "      <td>118</td>\n",
       "      <td>38fe809add3b4fcf9315a9694bb96ff5</td>\n",
       "      <td>20180712</td>\n",
       "      <td>NaN</td>\n",
       "      <td>3</td>\n",
       "    </tr>\n",
       "    <tr>\n",
       "      <th>3</th>\n",
       "      <td>F</td>\n",
       "      <td>75</td>\n",
       "      <td>78afa995795e4d85b5d9ceeca43f5fef</td>\n",
       "      <td>20170509</td>\n",
       "      <td>100000.0</td>\n",
       "      <td>4</td>\n",
       "    </tr>\n",
       "    <tr>\n",
       "      <th>4</th>\n",
       "      <td>None</td>\n",
       "      <td>118</td>\n",
       "      <td>a03223e636434f42ac4c3df47e8bac43</td>\n",
       "      <td>20170804</td>\n",
       "      <td>NaN</td>\n",
       "      <td>5</td>\n",
       "    </tr>\n",
       "  </tbody>\n",
       "</table>\n",
       "</div>"
      ],
      "text/plain": [
       "  gender  age                                id  became_member_on    income  \\\n",
       "0   None  118  68be06ca386d4c31939f3a4f0e3dd783          20170212       NaN   \n",
       "1      F   55  0610b486422d4921ae7d2bf64640c50b          20170715  112000.0   \n",
       "2   None  118  38fe809add3b4fcf9315a9694bb96ff5          20180712       NaN   \n",
       "3      F   75  78afa995795e4d85b5d9ceeca43f5fef          20170509  100000.0   \n",
       "4   None  118  a03223e636434f42ac4c3df47e8bac43          20170804       NaN   \n",
       "\n",
       "   user_id_encoded  \n",
       "0                1  \n",
       "1                2  \n",
       "2                3  \n",
       "3                4  \n",
       "4                5  "
      ]
     },
     "execution_count": 25,
     "metadata": {},
     "output_type": "execute_result"
    }
   ],
   "source": [
    "# Create a copy of the original data\n",
    "profile_clean = profile.copy()\n",
    "\n",
    "# Get a list of encoded IDs\n",
    "user_id_encoded = id_mapper(df=profile_clean,var='id')\n",
    "\n",
    "# Create a column for encoded IDs\n",
    "profile_clean['user_id_encoded'] = user_id_encoded\n",
    "\n",
    "# glimpse\n",
    "profile_clean.head()"
   ]
  },
  {
   "cell_type": "code",
   "execution_count": 26,
   "metadata": {},
   "outputs": [],
   "source": [
    "# Convert 'became_member_on' to date\n",
    "profile_clean['became_member_date'] = profile_clean['became_member_on'].apply(lambda x: pd.to_datetime(str(x), format='%Y%m%d'))\n",
    "\n",
    "# dropping redundant columns\n",
    "profile_clean.drop('became_member_on',axis=1,inplace=True)\n"
   ]
  },
  {
   "cell_type": "code",
   "execution_count": 27,
   "metadata": {},
   "outputs": [
    {
     "data": {
      "text/html": [
       "<div>\n",
       "<style scoped>\n",
       "    .dataframe tbody tr th:only-of-type {\n",
       "        vertical-align: middle;\n",
       "    }\n",
       "\n",
       "    .dataframe tbody tr th {\n",
       "        vertical-align: top;\n",
       "    }\n",
       "\n",
       "    .dataframe thead th {\n",
       "        text-align: right;\n",
       "    }\n",
       "</style>\n",
       "<table border=\"1\" class=\"dataframe\">\n",
       "  <thead>\n",
       "    <tr style=\"text-align: right;\">\n",
       "      <th></th>\n",
       "      <th>gender</th>\n",
       "      <th>age</th>\n",
       "      <th>id</th>\n",
       "      <th>income</th>\n",
       "      <th>user_id_encoded</th>\n",
       "      <th>became_member_date</th>\n",
       "    </tr>\n",
       "  </thead>\n",
       "  <tbody>\n",
       "    <tr>\n",
       "      <th>0</th>\n",
       "      <td>None</td>\n",
       "      <td>118</td>\n",
       "      <td>68be06ca386d4c31939f3a4f0e3dd783</td>\n",
       "      <td>NaN</td>\n",
       "      <td>1</td>\n",
       "      <td>2017-02-12</td>\n",
       "    </tr>\n",
       "    <tr>\n",
       "      <th>1</th>\n",
       "      <td>F</td>\n",
       "      <td>55</td>\n",
       "      <td>0610b486422d4921ae7d2bf64640c50b</td>\n",
       "      <td>112000.0</td>\n",
       "      <td>2</td>\n",
       "      <td>2017-07-15</td>\n",
       "    </tr>\n",
       "    <tr>\n",
       "      <th>2</th>\n",
       "      <td>None</td>\n",
       "      <td>118</td>\n",
       "      <td>38fe809add3b4fcf9315a9694bb96ff5</td>\n",
       "      <td>NaN</td>\n",
       "      <td>3</td>\n",
       "      <td>2018-07-12</td>\n",
       "    </tr>\n",
       "    <tr>\n",
       "      <th>3</th>\n",
       "      <td>F</td>\n",
       "      <td>75</td>\n",
       "      <td>78afa995795e4d85b5d9ceeca43f5fef</td>\n",
       "      <td>100000.0</td>\n",
       "      <td>4</td>\n",
       "      <td>2017-05-09</td>\n",
       "    </tr>\n",
       "    <tr>\n",
       "      <th>4</th>\n",
       "      <td>None</td>\n",
       "      <td>118</td>\n",
       "      <td>a03223e636434f42ac4c3df47e8bac43</td>\n",
       "      <td>NaN</td>\n",
       "      <td>5</td>\n",
       "      <td>2017-08-04</td>\n",
       "    </tr>\n",
       "  </tbody>\n",
       "</table>\n",
       "</div>"
      ],
      "text/plain": [
       "  gender  age                                id    income  user_id_encoded  \\\n",
       "0   None  118  68be06ca386d4c31939f3a4f0e3dd783       NaN                1   \n",
       "1      F   55  0610b486422d4921ae7d2bf64640c50b  112000.0                2   \n",
       "2   None  118  38fe809add3b4fcf9315a9694bb96ff5       NaN                3   \n",
       "3      F   75  78afa995795e4d85b5d9ceeca43f5fef  100000.0                4   \n",
       "4   None  118  a03223e636434f42ac4c3df47e8bac43       NaN                5   \n",
       "\n",
       "  became_member_date  \n",
       "0         2017-02-12  \n",
       "1         2017-07-15  \n",
       "2         2018-07-12  \n",
       "3         2017-05-09  \n",
       "4         2017-08-04  "
      ]
     },
     "execution_count": 27,
     "metadata": {},
     "output_type": "execute_result"
    }
   ],
   "source": [
    "# glimpse at the clean data\n",
    "profile_clean.head()"
   ]
  },
  {
   "cell_type": "markdown",
   "metadata": {},
   "source": [
    "### Transcript data"
   ]
  },
  {
   "cell_type": "markdown",
   "metadata": {},
   "source": [
    "- The value column associated with the event is a dictionary with 1 or multiple keys, value pairs. We need to first split these into separate columns"
   ]
  },
  {
   "cell_type": "code",
   "execution_count": 28,
   "metadata": {},
   "outputs": [
    {
     "name": "stdout",
     "output_type": "stream",
     "text": [
      "CPU times: user 1min 20s, sys: 1.2 s, total: 1min 21s\n",
      "Wall time: 1min 21s\n"
     ]
    },
    {
     "data": {
      "text/html": [
       "<div>\n",
       "<style scoped>\n",
       "    .dataframe tbody tr th:only-of-type {\n",
       "        vertical-align: middle;\n",
       "    }\n",
       "\n",
       "    .dataframe tbody tr th {\n",
       "        vertical-align: top;\n",
       "    }\n",
       "\n",
       "    .dataframe thead th {\n",
       "        text-align: right;\n",
       "    }\n",
       "</style>\n",
       "<table border=\"1\" class=\"dataframe\">\n",
       "  <thead>\n",
       "    <tr style=\"text-align: right;\">\n",
       "      <th></th>\n",
       "      <th>person</th>\n",
       "      <th>event</th>\n",
       "      <th>value</th>\n",
       "      <th>time</th>\n",
       "      <th>offer id</th>\n",
       "      <th>amount</th>\n",
       "      <th>offer_id</th>\n",
       "      <th>reward</th>\n",
       "    </tr>\n",
       "  </thead>\n",
       "  <tbody>\n",
       "    <tr>\n",
       "      <th>0</th>\n",
       "      <td>78afa995795e4d85b5d9ceeca43f5fef</td>\n",
       "      <td>offer received</td>\n",
       "      <td>{'offer id': '9b98b8c7a33c4b65b9aebfe6a799e6d9'}</td>\n",
       "      <td>0</td>\n",
       "      <td>9b98b8c7a33c4b65b9aebfe6a799e6d9</td>\n",
       "      <td>NaN</td>\n",
       "      <td>NaN</td>\n",
       "      <td>NaN</td>\n",
       "    </tr>\n",
       "    <tr>\n",
       "      <th>1</th>\n",
       "      <td>a03223e636434f42ac4c3df47e8bac43</td>\n",
       "      <td>offer received</td>\n",
       "      <td>{'offer id': '0b1e1539f2cc45b7b9fa7c272da2e1d7'}</td>\n",
       "      <td>0</td>\n",
       "      <td>0b1e1539f2cc45b7b9fa7c272da2e1d7</td>\n",
       "      <td>NaN</td>\n",
       "      <td>NaN</td>\n",
       "      <td>NaN</td>\n",
       "    </tr>\n",
       "    <tr>\n",
       "      <th>2</th>\n",
       "      <td>e2127556f4f64592b11af22de27a7932</td>\n",
       "      <td>offer received</td>\n",
       "      <td>{'offer id': '2906b810c7d4411798c6938adc9daaa5'}</td>\n",
       "      <td>0</td>\n",
       "      <td>2906b810c7d4411798c6938adc9daaa5</td>\n",
       "      <td>NaN</td>\n",
       "      <td>NaN</td>\n",
       "      <td>NaN</td>\n",
       "    </tr>\n",
       "    <tr>\n",
       "      <th>3</th>\n",
       "      <td>8ec6ce2a7e7949b1bf142def7d0e0586</td>\n",
       "      <td>offer received</td>\n",
       "      <td>{'offer id': 'fafdcd668e3743c1bb461111dcafc2a4'}</td>\n",
       "      <td>0</td>\n",
       "      <td>fafdcd668e3743c1bb461111dcafc2a4</td>\n",
       "      <td>NaN</td>\n",
       "      <td>NaN</td>\n",
       "      <td>NaN</td>\n",
       "    </tr>\n",
       "    <tr>\n",
       "      <th>4</th>\n",
       "      <td>68617ca6246f4fbc85e91a2a49552598</td>\n",
       "      <td>offer received</td>\n",
       "      <td>{'offer id': '4d5c57ea9a6940dd891ad53e9dbe8da0'}</td>\n",
       "      <td>0</td>\n",
       "      <td>4d5c57ea9a6940dd891ad53e9dbe8da0</td>\n",
       "      <td>NaN</td>\n",
       "      <td>NaN</td>\n",
       "      <td>NaN</td>\n",
       "    </tr>\n",
       "  </tbody>\n",
       "</table>\n",
       "</div>"
      ],
      "text/plain": [
       "                             person           event  \\\n",
       "0  78afa995795e4d85b5d9ceeca43f5fef  offer received   \n",
       "1  a03223e636434f42ac4c3df47e8bac43  offer received   \n",
       "2  e2127556f4f64592b11af22de27a7932  offer received   \n",
       "3  8ec6ce2a7e7949b1bf142def7d0e0586  offer received   \n",
       "4  68617ca6246f4fbc85e91a2a49552598  offer received   \n",
       "\n",
       "                                              value  time  \\\n",
       "0  {'offer id': '9b98b8c7a33c4b65b9aebfe6a799e6d9'}     0   \n",
       "1  {'offer id': '0b1e1539f2cc45b7b9fa7c272da2e1d7'}     0   \n",
       "2  {'offer id': '2906b810c7d4411798c6938adc9daaa5'}     0   \n",
       "3  {'offer id': 'fafdcd668e3743c1bb461111dcafc2a4'}     0   \n",
       "4  {'offer id': '4d5c57ea9a6940dd891ad53e9dbe8da0'}     0   \n",
       "\n",
       "                           offer id  amount offer_id  reward  \n",
       "0  9b98b8c7a33c4b65b9aebfe6a799e6d9     NaN      NaN     NaN  \n",
       "1  0b1e1539f2cc45b7b9fa7c272da2e1d7     NaN      NaN     NaN  \n",
       "2  2906b810c7d4411798c6938adc9daaa5     NaN      NaN     NaN  \n",
       "3  fafdcd668e3743c1bb461111dcafc2a4     NaN      NaN     NaN  \n",
       "4  4d5c57ea9a6940dd891ad53e9dbe8da0     NaN      NaN     NaN  "
      ]
     },
     "execution_count": 28,
     "metadata": {},
     "output_type": "execute_result"
    }
   ],
   "source": [
    "%%time\n",
    "# Create a copy of original data\n",
    "transcript_clean = transcript.copy()\n",
    "\n",
    "# Splitting the value column into individual columns\n",
    "transcript_clean = pd.concat([transcript_clean, transcript_clean['value'].apply(pd.Series)], axis=1)\n",
    "\n",
    "# glimpse at the data\n",
    "transcript_clean.head()"
   ]
  },
  {
   "cell_type": "markdown",
   "metadata": {},
   "source": [
    "- This looks good. However, we have 2 offer_id columns popping because of different event types. We need to merge these offer columns into a single offer_id column"
   ]
  },
  {
   "cell_type": "code",
   "execution_count": 29,
   "metadata": {},
   "outputs": [
    {
     "data": {
      "text/html": [
       "<div>\n",
       "<style scoped>\n",
       "    .dataframe tbody tr th:only-of-type {\n",
       "        vertical-align: middle;\n",
       "    }\n",
       "\n",
       "    .dataframe tbody tr th {\n",
       "        vertical-align: top;\n",
       "    }\n",
       "\n",
       "    .dataframe thead th {\n",
       "        text-align: right;\n",
       "    }\n",
       "</style>\n",
       "<table border=\"1\" class=\"dataframe\">\n",
       "  <thead>\n",
       "    <tr style=\"text-align: right;\">\n",
       "      <th></th>\n",
       "      <th>person</th>\n",
       "      <th>event</th>\n",
       "      <th>time</th>\n",
       "      <th>amount</th>\n",
       "      <th>reward</th>\n",
       "      <th>offer_id</th>\n",
       "    </tr>\n",
       "  </thead>\n",
       "  <tbody>\n",
       "    <tr>\n",
       "      <th>0</th>\n",
       "      <td>78afa995795e4d85b5d9ceeca43f5fef</td>\n",
       "      <td>offer received</td>\n",
       "      <td>0</td>\n",
       "      <td>NaN</td>\n",
       "      <td>NaN</td>\n",
       "      <td>9b98b8c7a33c4b65b9aebfe6a799e6d9</td>\n",
       "    </tr>\n",
       "    <tr>\n",
       "      <th>1</th>\n",
       "      <td>a03223e636434f42ac4c3df47e8bac43</td>\n",
       "      <td>offer received</td>\n",
       "      <td>0</td>\n",
       "      <td>NaN</td>\n",
       "      <td>NaN</td>\n",
       "      <td>0b1e1539f2cc45b7b9fa7c272da2e1d7</td>\n",
       "    </tr>\n",
       "    <tr>\n",
       "      <th>2</th>\n",
       "      <td>e2127556f4f64592b11af22de27a7932</td>\n",
       "      <td>offer received</td>\n",
       "      <td>0</td>\n",
       "      <td>NaN</td>\n",
       "      <td>NaN</td>\n",
       "      <td>2906b810c7d4411798c6938adc9daaa5</td>\n",
       "    </tr>\n",
       "    <tr>\n",
       "      <th>3</th>\n",
       "      <td>8ec6ce2a7e7949b1bf142def7d0e0586</td>\n",
       "      <td>offer received</td>\n",
       "      <td>0</td>\n",
       "      <td>NaN</td>\n",
       "      <td>NaN</td>\n",
       "      <td>fafdcd668e3743c1bb461111dcafc2a4</td>\n",
       "    </tr>\n",
       "    <tr>\n",
       "      <th>4</th>\n",
       "      <td>68617ca6246f4fbc85e91a2a49552598</td>\n",
       "      <td>offer received</td>\n",
       "      <td>0</td>\n",
       "      <td>NaN</td>\n",
       "      <td>NaN</td>\n",
       "      <td>4d5c57ea9a6940dd891ad53e9dbe8da0</td>\n",
       "    </tr>\n",
       "  </tbody>\n",
       "</table>\n",
       "</div>"
      ],
      "text/plain": [
       "                             person           event  time  amount  reward  \\\n",
       "0  78afa995795e4d85b5d9ceeca43f5fef  offer received     0     NaN     NaN   \n",
       "1  a03223e636434f42ac4c3df47e8bac43  offer received     0     NaN     NaN   \n",
       "2  e2127556f4f64592b11af22de27a7932  offer received     0     NaN     NaN   \n",
       "3  8ec6ce2a7e7949b1bf142def7d0e0586  offer received     0     NaN     NaN   \n",
       "4  68617ca6246f4fbc85e91a2a49552598  offer received     0     NaN     NaN   \n",
       "\n",
       "                           offer_id  \n",
       "0  9b98b8c7a33c4b65b9aebfe6a799e6d9  \n",
       "1  0b1e1539f2cc45b7b9fa7c272da2e1d7  \n",
       "2  2906b810c7d4411798c6938adc9daaa5  \n",
       "3  fafdcd668e3743c1bb461111dcafc2a4  \n",
       "4  4d5c57ea9a6940dd891ad53e9dbe8da0  "
      ]
     },
     "execution_count": 29,
     "metadata": {},
     "output_type": "execute_result"
    }
   ],
   "source": [
    "# merge the offer id columns into a single merged offer column\n",
    "transcript_clean['merged_id'] = np.where(transcript_clean['offer id'].isnull() & transcript_clean['offer_id'].notnull(), transcript_clean['offer_id'],transcript_clean['offer id'])\n",
    "\n",
    "# drop the previous offer id and value colums as they are redundant\n",
    "transcript_clean.drop(['offer id', 'offer_id','value'], axis=1, inplace=True)\n",
    "\n",
    "# rename the merged_id to a new offer_id column\n",
    "transcript_clean.rename(columns={'merged_id': 'offer_id'}, inplace=True)\n",
    "\n",
    "# glimpse\n",
    "transcript_clean.head()\n"
   ]
  },
  {
   "cell_type": "markdown",
   "metadata": {},
   "source": [
    "### Merge Transcript, profile and portfolio data"
   ]
  },
  {
   "cell_type": "code",
   "execution_count": 30,
   "metadata": {},
   "outputs": [
    {
     "data": {
      "text/plain": [
       "((306534, 6), (306534, 16), (306534, 18))"
      ]
     },
     "execution_count": 30,
     "metadata": {},
     "output_type": "execute_result"
    }
   ],
   "source": [
    "# Merge transcript and portfolio datasets\n",
    "trascript_portfolio = pd.merge(transcript_clean,portfolio_clean,how='left',left_on='offer_id',right_on='id')\n",
    "\n",
    "# Merge the above df with profile information\n",
    "trascript_portfolio_profile = pd.merge(trascript_portfolio,profile_clean,how='left',left_on='person',right_on='id')\n",
    "\n",
    "# convert time to float\n",
    "trascript_portfolio_profile['time'] = trascript_portfolio_profile['time'].astype(float)\n",
    "\n",
    "# Drop redundant columns as we have created new encoded columns\n",
    "trascript_portfolio_profile.drop(['person','offer_id','id_x','id_y'],axis=1,inplace=True)\n",
    "\n",
    "# Renaming columns\n",
    "trascript_portfolio_profile.rename(columns={'reward_x': 'reward_trans','reward_y':'reward_port'}, inplace=True)\n",
    "\n",
    "# check shapes\n",
    "transcript_clean.shape, trascript_portfolio.shape, trascript_portfolio_profile.shape"
   ]
  },
  {
   "cell_type": "markdown",
   "metadata": {},
   "source": [
    "- Structurally all dataframes look consistent."
   ]
  },
  {
   "cell_type": "code",
   "execution_count": 31,
   "metadata": {},
   "outputs": [
    {
     "data": {
      "text/html": [
       "<div>\n",
       "<style scoped>\n",
       "    .dataframe tbody tr th:only-of-type {\n",
       "        vertical-align: middle;\n",
       "    }\n",
       "\n",
       "    .dataframe tbody tr th {\n",
       "        vertical-align: top;\n",
       "    }\n",
       "\n",
       "    .dataframe thead th {\n",
       "        text-align: right;\n",
       "    }\n",
       "</style>\n",
       "<table border=\"1\" class=\"dataframe\">\n",
       "  <thead>\n",
       "    <tr style=\"text-align: right;\">\n",
       "      <th></th>\n",
       "      <th>event</th>\n",
       "      <th>time</th>\n",
       "      <th>amount</th>\n",
       "      <th>reward_trans</th>\n",
       "      <th>reward_port</th>\n",
       "      <th>difficulty</th>\n",
       "      <th>duration</th>\n",
       "      <th>offer_type</th>\n",
       "      <th>offer_id_encoded</th>\n",
       "      <th>web</th>\n",
       "      <th>email</th>\n",
       "      <th>social</th>\n",
       "      <th>mobile</th>\n",
       "      <th>gender</th>\n",
       "      <th>age</th>\n",
       "      <th>income</th>\n",
       "      <th>user_id_encoded</th>\n",
       "      <th>became_member_date</th>\n",
       "    </tr>\n",
       "  </thead>\n",
       "  <tbody>\n",
       "    <tr>\n",
       "      <th>0</th>\n",
       "      <td>offer received</td>\n",
       "      <td>0.0</td>\n",
       "      <td>NaN</td>\n",
       "      <td>NaN</td>\n",
       "      <td>5.0</td>\n",
       "      <td>5.0</td>\n",
       "      <td>7.0</td>\n",
       "      <td>bogo</td>\n",
       "      <td>4.0</td>\n",
       "      <td>1.0</td>\n",
       "      <td>1.0</td>\n",
       "      <td>0.0</td>\n",
       "      <td>1.0</td>\n",
       "      <td>F</td>\n",
       "      <td>75</td>\n",
       "      <td>100000.0</td>\n",
       "      <td>4</td>\n",
       "      <td>2017-05-09</td>\n",
       "    </tr>\n",
       "    <tr>\n",
       "      <th>1</th>\n",
       "      <td>offer received</td>\n",
       "      <td>0.0</td>\n",
       "      <td>NaN</td>\n",
       "      <td>NaN</td>\n",
       "      <td>5.0</td>\n",
       "      <td>20.0</td>\n",
       "      <td>10.0</td>\n",
       "      <td>discount</td>\n",
       "      <td>5.0</td>\n",
       "      <td>1.0</td>\n",
       "      <td>1.0</td>\n",
       "      <td>0.0</td>\n",
       "      <td>0.0</td>\n",
       "      <td>None</td>\n",
       "      <td>118</td>\n",
       "      <td>NaN</td>\n",
       "      <td>5</td>\n",
       "      <td>2017-08-04</td>\n",
       "    </tr>\n",
       "    <tr>\n",
       "      <th>2</th>\n",
       "      <td>offer received</td>\n",
       "      <td>0.0</td>\n",
       "      <td>NaN</td>\n",
       "      <td>NaN</td>\n",
       "      <td>2.0</td>\n",
       "      <td>10.0</td>\n",
       "      <td>7.0</td>\n",
       "      <td>discount</td>\n",
       "      <td>10.0</td>\n",
       "      <td>1.0</td>\n",
       "      <td>1.0</td>\n",
       "      <td>0.0</td>\n",
       "      <td>1.0</td>\n",
       "      <td>M</td>\n",
       "      <td>68</td>\n",
       "      <td>70000.0</td>\n",
       "      <td>6</td>\n",
       "      <td>2018-04-26</td>\n",
       "    </tr>\n",
       "    <tr>\n",
       "      <th>3</th>\n",
       "      <td>offer received</td>\n",
       "      <td>0.0</td>\n",
       "      <td>NaN</td>\n",
       "      <td>NaN</td>\n",
       "      <td>2.0</td>\n",
       "      <td>10.0</td>\n",
       "      <td>10.0</td>\n",
       "      <td>discount</td>\n",
       "      <td>7.0</td>\n",
       "      <td>1.0</td>\n",
       "      <td>1.0</td>\n",
       "      <td>1.0</td>\n",
       "      <td>1.0</td>\n",
       "      <td>None</td>\n",
       "      <td>118</td>\n",
       "      <td>NaN</td>\n",
       "      <td>7</td>\n",
       "      <td>2017-09-25</td>\n",
       "    </tr>\n",
       "    <tr>\n",
       "      <th>4</th>\n",
       "      <td>offer received</td>\n",
       "      <td>0.0</td>\n",
       "      <td>NaN</td>\n",
       "      <td>NaN</td>\n",
       "      <td>10.0</td>\n",
       "      <td>10.0</td>\n",
       "      <td>5.0</td>\n",
       "      <td>bogo</td>\n",
       "      <td>2.0</td>\n",
       "      <td>1.0</td>\n",
       "      <td>1.0</td>\n",
       "      <td>1.0</td>\n",
       "      <td>1.0</td>\n",
       "      <td>None</td>\n",
       "      <td>118</td>\n",
       "      <td>NaN</td>\n",
       "      <td>8</td>\n",
       "      <td>2017-10-02</td>\n",
       "    </tr>\n",
       "  </tbody>\n",
       "</table>\n",
       "</div>"
      ],
      "text/plain": [
       "            event  time  amount  reward_trans  reward_port  difficulty  \\\n",
       "0  offer received   0.0     NaN           NaN          5.0         5.0   \n",
       "1  offer received   0.0     NaN           NaN          5.0        20.0   \n",
       "2  offer received   0.0     NaN           NaN          2.0        10.0   \n",
       "3  offer received   0.0     NaN           NaN          2.0        10.0   \n",
       "4  offer received   0.0     NaN           NaN         10.0        10.0   \n",
       "\n",
       "   duration offer_type  offer_id_encoded  web  email  social  mobile gender  \\\n",
       "0       7.0       bogo               4.0  1.0    1.0     0.0     1.0      F   \n",
       "1      10.0   discount               5.0  1.0    1.0     0.0     0.0   None   \n",
       "2       7.0   discount              10.0  1.0    1.0     0.0     1.0      M   \n",
       "3      10.0   discount               7.0  1.0    1.0     1.0     1.0   None   \n",
       "4       5.0       bogo               2.0  1.0    1.0     1.0     1.0   None   \n",
       "\n",
       "   age    income  user_id_encoded became_member_date  \n",
       "0   75  100000.0                4         2017-05-09  \n",
       "1  118       NaN                5         2017-08-04  \n",
       "2   68   70000.0                6         2018-04-26  \n",
       "3  118       NaN                7         2017-09-25  \n",
       "4  118       NaN                8         2017-10-02  "
      ]
     },
     "execution_count": 31,
     "metadata": {},
     "output_type": "execute_result"
    }
   ],
   "source": [
    "# Glimpse at the data\n",
    "trascript_portfolio_profile.head()"
   ]
  },
  {
   "cell_type": "markdown",
   "metadata": {},
   "source": [
    "## Understanding offer types and events"
   ]
  },
  {
   "cell_type": "code",
   "execution_count": 32,
   "metadata": {},
   "outputs": [
    {
     "data": {
      "text/plain": [
       "transaction        138953\n",
       "offer received      76277\n",
       "offer viewed        57725\n",
       "offer completed     33579\n",
       "Name: event, dtype: int64"
      ]
     },
     "execution_count": 32,
     "metadata": {},
     "output_type": "execute_result"
    }
   ],
   "source": [
    "# Types of events and their counts\n",
    "trascript_portfolio_profile['event'].value_counts()"
   ]
  },
  {
   "cell_type": "code",
   "execution_count": 33,
   "metadata": {},
   "outputs": [
    {
     "data": {
      "text/plain": [
       "offer_type     event          \n",
       "bogo           offer completed    15669\n",
       "               offer received     30499\n",
       "               offer viewed       25449\n",
       "discount       offer completed    17910\n",
       "               offer received     30543\n",
       "               offer viewed       21445\n",
       "informational  offer received     15235\n",
       "               offer viewed       10831\n",
       "dtype: int64"
      ]
     },
     "execution_count": 33,
     "metadata": {},
     "output_type": "execute_result"
    }
   ],
   "source": [
    "# Types of events and offer types and their counts\n",
    "trascript_portfolio_profile.groupby(['offer_type','event']).size()"
   ]
  },
  {
   "cell_type": "markdown",
   "metadata": {},
   "source": [
    "- We have 4 events types in: `Transaction`, `Offer received`, `Offer viewed`, `Offer completed`.\n",
    "- There are no offer types for `transactions`."
   ]
  },
  {
   "cell_type": "markdown",
   "metadata": {},
   "source": [
    "### Sample bogo and discount journey"
   ]
  },
  {
   "cell_type": "code",
   "execution_count": 722,
   "metadata": {},
   "outputs": [
    {
     "data": {
      "text/html": [
       "<div>\n",
       "<style scoped>\n",
       "    .dataframe tbody tr th:only-of-type {\n",
       "        vertical-align: middle;\n",
       "    }\n",
       "\n",
       "    .dataframe tbody tr th {\n",
       "        vertical-align: top;\n",
       "    }\n",
       "\n",
       "    .dataframe thead th {\n",
       "        text-align: right;\n",
       "    }\n",
       "</style>\n",
       "<table border=\"1\" class=\"dataframe\">\n",
       "  <thead>\n",
       "    <tr style=\"text-align: right;\">\n",
       "      <th></th>\n",
       "      <th>event</th>\n",
       "      <th>time</th>\n",
       "      <th>amount</th>\n",
       "      <th>offer_type</th>\n",
       "      <th>offer_id_encoded</th>\n",
       "      <th>user_id_encoded</th>\n",
       "      <th>difficulty</th>\n",
       "      <th>reward_trans</th>\n",
       "    </tr>\n",
       "  </thead>\n",
       "  <tbody>\n",
       "    <tr>\n",
       "      <th>0</th>\n",
       "      <td>offer received</td>\n",
       "      <td>0.0</td>\n",
       "      <td>NaN</td>\n",
       "      <td>bogo</td>\n",
       "      <td>4.0</td>\n",
       "      <td>13481</td>\n",
       "      <td>5.0</td>\n",
       "      <td>NaN</td>\n",
       "    </tr>\n",
       "    <tr>\n",
       "      <th>1</th>\n",
       "      <td>offer viewed</td>\n",
       "      <td>66.0</td>\n",
       "      <td>NaN</td>\n",
       "      <td>bogo</td>\n",
       "      <td>4.0</td>\n",
       "      <td>13481</td>\n",
       "      <td>5.0</td>\n",
       "      <td>NaN</td>\n",
       "    </tr>\n",
       "    <tr>\n",
       "      <th>2</th>\n",
       "      <td>transaction</td>\n",
       "      <td>120.0</td>\n",
       "      <td>21.57</td>\n",
       "      <td>NaN</td>\n",
       "      <td>NaN</td>\n",
       "      <td>13481</td>\n",
       "      <td>NaN</td>\n",
       "      <td>NaN</td>\n",
       "    </tr>\n",
       "    <tr>\n",
       "      <th>3</th>\n",
       "      <td>offer completed</td>\n",
       "      <td>120.0</td>\n",
       "      <td>NaN</td>\n",
       "      <td>bogo</td>\n",
       "      <td>4.0</td>\n",
       "      <td>13481</td>\n",
       "      <td>5.0</td>\n",
       "      <td>5.0</td>\n",
       "    </tr>\n",
       "  </tbody>\n",
       "</table>\n",
       "</div>"
      ],
      "text/plain": [
       "             event   time  amount offer_type  offer_id_encoded  \\\n",
       "0   offer received    0.0     NaN       bogo               4.0   \n",
       "1     offer viewed   66.0     NaN       bogo               4.0   \n",
       "2      transaction  120.0   21.57        NaN               NaN   \n",
       "3  offer completed  120.0     NaN       bogo               4.0   \n",
       "\n",
       "   user_id_encoded  difficulty  reward_trans  \n",
       "0            13481         5.0           NaN  \n",
       "1            13481         5.0           NaN  \n",
       "2            13481         NaN           NaN  \n",
       "3            13481         5.0           5.0  "
      ]
     },
     "execution_count": 722,
     "metadata": {},
     "output_type": "execute_result"
    }
   ],
   "source": [
    "# Let's look at a sample bogo offer event space\n",
    "sample_bogo_offer = trascript_portfolio_profile[trascript_portfolio_profile['user_id_encoded']==13481][['event','time','amount','offer_type','offer_id_encoded','user_id_encoded','difficulty','reward_trans']].head(4).reset_index(drop=True)\n",
    "sample_bogo_offer"
   ]
  },
  {
   "cell_type": "code",
   "execution_count": 723,
   "metadata": {},
   "outputs": [
    {
     "data": {
      "text/html": [
       "<div>\n",
       "<style scoped>\n",
       "    .dataframe tbody tr th:only-of-type {\n",
       "        vertical-align: middle;\n",
       "    }\n",
       "\n",
       "    .dataframe tbody tr th {\n",
       "        vertical-align: top;\n",
       "    }\n",
       "\n",
       "    .dataframe thead th {\n",
       "        text-align: right;\n",
       "    }\n",
       "</style>\n",
       "<table border=\"1\" class=\"dataframe\">\n",
       "  <thead>\n",
       "    <tr style=\"text-align: right;\">\n",
       "      <th></th>\n",
       "      <th>event</th>\n",
       "      <th>time</th>\n",
       "      <th>amount</th>\n",
       "      <th>offer_type</th>\n",
       "      <th>offer_id_encoded</th>\n",
       "      <th>user_id_encoded</th>\n",
       "      <th>difficulty</th>\n",
       "      <th>reward_trans</th>\n",
       "    </tr>\n",
       "  </thead>\n",
       "  <tbody>\n",
       "    <tr>\n",
       "      <th>0</th>\n",
       "      <td>offer received</td>\n",
       "      <td>0.0</td>\n",
       "      <td>NaN</td>\n",
       "      <td>discount</td>\n",
       "      <td>5.0</td>\n",
       "      <td>3932</td>\n",
       "      <td>20.0</td>\n",
       "      <td>NaN</td>\n",
       "    </tr>\n",
       "    <tr>\n",
       "      <th>1</th>\n",
       "      <td>offer viewed</td>\n",
       "      <td>0.0</td>\n",
       "      <td>NaN</td>\n",
       "      <td>discount</td>\n",
       "      <td>5.0</td>\n",
       "      <td>3932</td>\n",
       "      <td>20.0</td>\n",
       "      <td>NaN</td>\n",
       "    </tr>\n",
       "    <tr>\n",
       "      <th>2</th>\n",
       "      <td>transaction</td>\n",
       "      <td>6.0</td>\n",
       "      <td>23.38</td>\n",
       "      <td>NaN</td>\n",
       "      <td>NaN</td>\n",
       "      <td>3932</td>\n",
       "      <td>NaN</td>\n",
       "      <td>NaN</td>\n",
       "    </tr>\n",
       "    <tr>\n",
       "      <th>3</th>\n",
       "      <td>offer completed</td>\n",
       "      <td>6.0</td>\n",
       "      <td>NaN</td>\n",
       "      <td>discount</td>\n",
       "      <td>5.0</td>\n",
       "      <td>3932</td>\n",
       "      <td>20.0</td>\n",
       "      <td>5.0</td>\n",
       "    </tr>\n",
       "  </tbody>\n",
       "</table>\n",
       "</div>"
      ],
      "text/plain": [
       "             event  time  amount offer_type  offer_id_encoded  \\\n",
       "0   offer received   0.0     NaN   discount               5.0   \n",
       "1     offer viewed   0.0     NaN   discount               5.0   \n",
       "2      transaction   6.0   23.38        NaN               NaN   \n",
       "3  offer completed   6.0     NaN   discount               5.0   \n",
       "\n",
       "   user_id_encoded  difficulty  reward_trans  \n",
       "0             3932        20.0           NaN  \n",
       "1             3932        20.0           NaN  \n",
       "2             3932         NaN           NaN  \n",
       "3             3932        20.0           5.0  "
      ]
     },
     "execution_count": 723,
     "metadata": {},
     "output_type": "execute_result"
    }
   ],
   "source": [
    "# Let's look at a sample discount offer event space\n",
    "sample_disc_offer = trascript_portfolio_profile[trascript_portfolio_profile['user_id_encoded']==3932][['event','time','amount','offer_type','offer_id_encoded','user_id_encoded','difficulty','reward_trans']].head(4).reset_index(drop=True)\n",
    "sample_disc_offer"
   ]
  },
  {
   "cell_type": "markdown",
   "metadata": {},
   "source": [
    "<img src = './images/bogo_disc_journey.png' width = 500 align = \"center\"> \n"
   ]
  },
  {
   "cell_type": "markdown",
   "metadata": {},
   "source": [
    "- Seems the user id 13481, `recieved` the 1st bogo offer at _time = 0._\n",
    "- They `viewed` the offer at _time = 66_\n",
    "- Given that the offer `difficulty` was 5 and `transaction` was worth $21, this offer is marked as `completed` at the same timestamp as transaction.\n",
    "- Needless to say, this is a happy path and won't always be the case. We can see a similar pattern for `discount` offer."
   ]
  },
  {
   "cell_type": "markdown",
   "metadata": {},
   "source": [
    "### Sample Informational offer journey"
   ]
  },
  {
   "cell_type": "code",
   "execution_count": 727,
   "metadata": {},
   "outputs": [
    {
     "data": {
      "text/html": [
       "<div>\n",
       "<style scoped>\n",
       "    .dataframe tbody tr th:only-of-type {\n",
       "        vertical-align: middle;\n",
       "    }\n",
       "\n",
       "    .dataframe tbody tr th {\n",
       "        vertical-align: top;\n",
       "    }\n",
       "\n",
       "    .dataframe thead th {\n",
       "        text-align: right;\n",
       "    }\n",
       "</style>\n",
       "<table border=\"1\" class=\"dataframe\">\n",
       "  <thead>\n",
       "    <tr style=\"text-align: right;\">\n",
       "      <th></th>\n",
       "      <th>event</th>\n",
       "      <th>time</th>\n",
       "      <th>amount</th>\n",
       "      <th>offer_type</th>\n",
       "      <th>offer_id_encoded</th>\n",
       "      <th>user_id_encoded</th>\n",
       "      <th>difficulty</th>\n",
       "      <th>reward_trans</th>\n",
       "    </tr>\n",
       "  </thead>\n",
       "  <tbody>\n",
       "    <tr>\n",
       "      <th>0</th>\n",
       "      <td>offer received</td>\n",
       "      <td>0.0</td>\n",
       "      <td>NaN</td>\n",
       "      <td>informational</td>\n",
       "      <td>8.0</td>\n",
       "      <td>11724</td>\n",
       "      <td>0.0</td>\n",
       "      <td>NaN</td>\n",
       "    </tr>\n",
       "    <tr>\n",
       "      <th>1</th>\n",
       "      <td>transaction</td>\n",
       "      <td>66.0</td>\n",
       "      <td>2.08</td>\n",
       "      <td>NaN</td>\n",
       "      <td>NaN</td>\n",
       "      <td>11724</td>\n",
       "      <td>NaN</td>\n",
       "      <td>NaN</td>\n",
       "    </tr>\n",
       "    <tr>\n",
       "      <th>2</th>\n",
       "      <td>offer viewed</td>\n",
       "      <td>90.0</td>\n",
       "      <td>NaN</td>\n",
       "      <td>informational</td>\n",
       "      <td>8.0</td>\n",
       "      <td>11724</td>\n",
       "      <td>0.0</td>\n",
       "      <td>NaN</td>\n",
       "    </tr>\n",
       "    <tr>\n",
       "      <th>3</th>\n",
       "      <td>offer received</td>\n",
       "      <td>168.0</td>\n",
       "      <td>NaN</td>\n",
       "      <td>informational</td>\n",
       "      <td>8.0</td>\n",
       "      <td>11724</td>\n",
       "      <td>0.0</td>\n",
       "      <td>NaN</td>\n",
       "    </tr>\n",
       "    <tr>\n",
       "      <th>4</th>\n",
       "      <td>offer viewed</td>\n",
       "      <td>174.0</td>\n",
       "      <td>NaN</td>\n",
       "      <td>informational</td>\n",
       "      <td>8.0</td>\n",
       "      <td>11724</td>\n",
       "      <td>0.0</td>\n",
       "      <td>NaN</td>\n",
       "    </tr>\n",
       "    <tr>\n",
       "      <th>5</th>\n",
       "      <td>transaction</td>\n",
       "      <td>216.0</td>\n",
       "      <td>1.86</td>\n",
       "      <td>NaN</td>\n",
       "      <td>NaN</td>\n",
       "      <td>11724</td>\n",
       "      <td>NaN</td>\n",
       "      <td>NaN</td>\n",
       "    </tr>\n",
       "  </tbody>\n",
       "</table>\n",
       "</div>"
      ],
      "text/plain": [
       "            event   time  amount     offer_type  offer_id_encoded  \\\n",
       "0  offer received    0.0     NaN  informational               8.0   \n",
       "1     transaction   66.0    2.08            NaN               NaN   \n",
       "2    offer viewed   90.0     NaN  informational               8.0   \n",
       "3  offer received  168.0     NaN  informational               8.0   \n",
       "4    offer viewed  174.0     NaN  informational               8.0   \n",
       "5     transaction  216.0    1.86            NaN               NaN   \n",
       "\n",
       "   user_id_encoded  difficulty  reward_trans  \n",
       "0            11724         0.0           NaN  \n",
       "1            11724         NaN           NaN  \n",
       "2            11724         0.0           NaN  \n",
       "3            11724         0.0           NaN  \n",
       "4            11724         0.0           NaN  \n",
       "5            11724         NaN           NaN  "
      ]
     },
     "execution_count": 727,
     "metadata": {},
     "output_type": "execute_result"
    }
   ],
   "source": [
    "# Let's look at a sample informational offer event space\n",
    "sample_info_offer = trascript_portfolio_profile[trascript_portfolio_profile['user_id_encoded']==11724][['event','time','amount','offer_type','offer_id_encoded','user_id_encoded','difficulty','reward_trans']].head(6).reset_index(drop=True)\n",
    "sample_info_offer\n"
   ]
  },
  {
   "cell_type": "markdown",
   "metadata": {},
   "source": [
    "<img src = './images/info_journey.png' width = 500 align = \"center\"> \n"
   ]
  },
  {
   "cell_type": "markdown",
   "metadata": {},
   "source": [
    "- This user has recieved 2 informational offer and events follow different patterns.\n",
    "- For the first event (t = 0):\n",
    "    - User `received` offer at t=0.\n",
    "    - They had a `transaction` at t=66\n",
    "    - They `viewed` the offer after transaction at t=99.\n",
    "    - So in this case, the user wasn't 'influenced' by the offer.\n",
    "- For the second offer (t = 168):\n",
    "    - User `received` offer at t=168.\n",
    "    - They `viewed` the offer at t = 174.\n",
    "    - They had a `transaction` at t = 216.\n",
    "    - In this case, we can say the user was influenced by the offer.\n",
    "- With both offers, it is important to note that there is no `offer completed` event."
   ]
  },
  {
   "cell_type": "markdown",
   "metadata": {},
   "source": [
    "## Defining Objective and Methodology for data cleaning\n",
    "\n",
    "### Motivation:\n",
    "\n",
    "- Although unclean, we have rich data at our disposal. We could create different types of ML models:\n",
    "    - __Supervised Learning -  Regression:__ An ML model that predicts how much an individual would end up spending on an offer type given the offer information and demographic data. \n",
    "\n",
    "    - __Supervised learning - Classification:__ Given an offer, demographic data, will the user end up completing an offer or not.\n",
    "\n",
    "    - __Unsupervised learning - Clustering:__ Create clusters of customers based on their demographic data and spending patterns. We could isolate high valued customers from mid and low valued ones. We could create clusters for targeted offers.\n"
   ]
  },
  {
   "cell_type": "markdown",
   "metadata": {},
   "source": [
    "- Amongst the 3 ideas stated above, the Classification problem interests me the most. So let's define our goal.\n",
    "\n",
    "- __The Goal of our ML Model__: Create a model that learns from historical data and helps the business predict whether or not a particular user will be influenced by an offer and end up completing it."
   ]
  },
  {
   "cell_type": "markdown",
   "metadata": {},
   "source": [
    "### Considerations prior to data cleaning:\n",
    "\n",
    "#### Event space:\n",
    "\n",
    "- We will define an __event space__ for a user as all the events that occur between 2 `received` offers. The event space will __always__ begin when a user `receives` an offer. So as an example, this is a potential event space: \n",
    "    - `Offer Received` -> `Offer Viewed` -> `Transaction` -> `Offer Completed`.\n",
    "\n",
    "\n",
    "- We looked at the happy path for all 3 offer types earlier. However, that won't always be the case for each event space. There could a wide variety of possible combinations and that's the entire challenge. Some of other possibilities:\n",
    "\n",
    "    - `Offer received` -> `transaction` -> `Offer completed` -> `Offer viewed`\n",
    "    - `Offer received` -> `transaction` -> `Offer viewed`\n",
    "    - and so on.\n",
    "\n",
    "\n",
    "<img src = './images/event_space.png' width = 800 align = \"center\"> "
   ]
  },
  {
   "cell_type": "markdown",
   "metadata": {},
   "source": [
    "#### Completed Informational offers:\n",
    "- As seen earlier, _Bogo_ and _Discount_ offers can be `completed` whereas users cannot complete _informational_ offers.\n",
    "\n",
    "\n",
    "- As opposed to removing informational offers altogether, we could design a proxy logic for `completed` informational event. This would ensure a level playing field regardless of the offer.\n",
    "\n",
    "\n",
    "- __Proposed logic:__\n",
    "    - If a user receives an _informational_ offer and later views and transacts, in that order,  the offer will be assumed to be \"completed.\" The rationale being the user was \"influenced\" by the offer. The happy path would look something like below. \n",
    "    - Needless to say, this needs to be validated by the business and only serves as makeshift logic in the absence of any other reasoning.\n",
    "    \n",
    "\n",
    "<img src = './images/info_proxy.png' width = 500 align = \"center\"> "
   ]
  },
  {
   "cell_type": "markdown",
   "metadata": {},
   "source": [
    "#### Duration:\n",
    "\n",
    "- Each offer has a `duration` or a validity period. We will only consider events within this validity period and drop everything else."
   ]
  },
  {
   "cell_type": "markdown",
   "metadata": {},
   "source": [
    "#### Defining Target variable:\n",
    "\n",
    "- Given that this will be a binary classification problem, we need to define our target variable.\n",
    "\n",
    "- The goal defined earlier is 2-fold:\n",
    "    - Will the user be influenced by the offer?\n",
    "    - Will the user complete the offer?\n",
    "- Having said that, we will have to design our target variable to capture both these aspects.\n",
    "\n",
    "\n",
    "- __Influence__: We will define scope of influence as `trasactions` occuring __after__ an offer is `viewed`. The rationale is that there are offers `completed` even when the user __doesn't__ `view` the offer. We will consider such events as _\"not influenced\"_ by the offer.\n",
    "\n",
    "\n",
    "- __Completed__ : We have `offer completed` event for bogo/ discount offers. For informational offers, if the offer was viewed and a transaction was registered within the validity period, it is complete.\n",
    "\n",
    "\n",
    "- __Target Variable__ : A successful event space, our first class, will have `transaction` influenced by the offer and an `offer completed` event as well. Below is the path an event space will have to follow to be successful:\n",
    "    - `Offer Received` -> `Offer Viewed` -> `Transaction` -> `Offer Completed`\n",
    "    \n",
    "    - All other event spaces will be considered unsuccesful, our second class. The table below will dive deeper into the logic.\n",
    "    \n",
    "    - We will use the `time` variable to define our target variables. \n",
    "    \n",
    "    - The variable itself will be a boolean and be called `viewed_before_completed`."
   ]
  },
  {
   "cell_type": "markdown",
   "metadata": {},
   "source": [
    "#### Using `time` to design target variable:\n",
    "\n",
    "- Given that not all event spaces will look similar and not all events exist in every event space, we will have to come up with a logic to maintain consitency in results. \n",
    "- As stated above, the `time` variable will serve as the foundation of our logic. In instances where it does not exist, we will assume a value so that there is consistency. The below table captures the logic in more detail:\n",
    "\n",
    "<img src = './images/logic_time.png'  height = 900 align = \"center\"> "
   ]
  },
  {
   "cell_type": "markdown",
   "metadata": {},
   "source": [
    "#### Cleaning pipeline process flow:\n",
    "\n",
    "- Any ML model would need more structured data than what we have, and the Goal of our data cleaning pipelines should be aligned as such.\n",
    "\n",
    "\n",
    "- __Goal for data cleaning:__ Create a pipeline that boils each event space into a single row and captures relevant pieces of information.\n",
    "\n",
    "\n",
    "- We will design our pipeline to iterate over every single event space and categorize it based on the rules stated above.\n",
    "\n",
    "\n",
    "- Given that there are no `completed` events for Informational offers, we will have to create a separate pipeline. Bogo/Discount will have the same pipeline.\n",
    "\n",
    "\n",
    "- We will create 3 functions:\n",
    "    1. `transcript_treatment`: This will be the \"master\" function that will loop through each user's event space and clean the data. Depending on the offer received in the event space, it will call one of the 2 other functions.\n",
    "    2. `bogo_discount_treatment`: This function will be used to clean the bogo/discount offers.\n",
    "    3. `informational_treatment`: This function will be used to clean the informational offers.\n",
    "\n",
    "\n",
    "- Below is the process flows at a high level:\n",
    "\n",
    "\n",
    "<img src = './images/transcript_treatment.png' height = 900 align = \"center\"> "
   ]
  },
  {
   "cell_type": "markdown",
   "metadata": {},
   "source": [
    "<img src = './images/discount_bogo.png' height = 900 align = \"center\"> "
   ]
  },
  {
   "cell_type": "markdown",
   "metadata": {},
   "source": [
    "<img src = './images/Informational_offer.png' height = 900 align = \"center\"> "
   ]
  },
  {
   "cell_type": "markdown",
   "metadata": {},
   "source": [
    "## Designing Data Cleaning Pipeline\n",
    "\n",
    "\n",
    "### Designing pipeline to clean bogo/discount offers"
   ]
  },
  {
   "cell_type": "code",
   "execution_count": 46,
   "metadata": {},
   "outputs": [],
   "source": [
    "# Function for treating bogo and discount offer types\n",
    "def bogo_discount_treatment(loop_data,offer_instance,events):\n",
    "    '''\n",
    "    Objective: Cleaning the bogo/discount offers. Appends the dataframe provided and without returning anything.\n",
    "    \n",
    "    Args:\n",
    "        loop_data: The data pertainin to the event space\n",
    "        offer_instance: The row pertaining to offer_received\n",
    "        events: list of all the events in the event space\n",
    "        \n",
    "    Returns:\n",
    "        None\n",
    "    '''\n",
    "    # check if offer viewed\n",
    "    if 'offer viewed' in events:\n",
    "        offer_instance['viewed'] = 1\n",
    "        viewed_time = loop_data[loop_data['event']=='offer viewed']['time'].values[0]\n",
    "    else:\n",
    "        offer_instance['viewed'] = 0\n",
    "        viewed_time = 1000\n",
    "        \n",
    "        \n",
    "    # check if offer completed\n",
    "    if 'offer completed' in events:\n",
    "        offer_instance['completed'] = 1\n",
    "        completed_time = loop_data[loop_data['event']=='offer completed']['time'].values[0]\n",
    "    else:\n",
    "        offer_instance['completed'] = 0\n",
    "        completed_time = -1\n",
    "    \n",
    "    # check if offer is viewed before completed\n",
    "    if viewed_time < completed_time:\n",
    "        offer_instance['viewed_before_completed'] = 1\n",
    "    else:\n",
    "        offer_instance['viewed_before_completed'] = 0\n",
    "    \n",
    "    \n",
    "    # Remove stray transactions after offer is completed\n",
    "    if offer_instance['completed'].values[0] == 1:\n",
    "        loop_data = loop_data[loop_data['time'] <= completed_time]\n",
    "     \n",
    "    # Calc total amount spent during this offer\n",
    "    offer_instance['amount'] = loop_data['amount'].sum()\n",
    "    \n",
    "    # calc total reward_trans during this offer\n",
    "    # we use a mean as opposed to sum because there are instances with 2 offer completed events for the same offer\n",
    "    offer_instance['reward_trans'] = loop_data['reward_trans'].mean()"
   ]
  },
  {
   "cell_type": "markdown",
   "metadata": {},
   "source": [
    "### Designing pipeline to clean informational offers"
   ]
  },
  {
   "cell_type": "code",
   "execution_count": 47,
   "metadata": {},
   "outputs": [],
   "source": [
    "# Function for treating informational offer types\n",
    "def informational_treatment(loop_data,offer_instance,events):\n",
    "    '''\n",
    "    Objective: Cleaning the informational offers. Appends the dataframe provided and without returning anything.\n",
    "    \n",
    "    Args:\n",
    "        loop_data: The data pertainin to the event space\n",
    "        offer_instance: The row pertaining to offer_received\n",
    "        events: list of all the events in the event space\n",
    "        \n",
    "    Returns:\n",
    "        None\n",
    "    '''\n",
    "    \n",
    "    # check if offer viewed\n",
    "    if 'offer viewed' in events:\n",
    "        offer_instance['viewed'] = 1\n",
    "        viewed_time = loop_data[loop_data['event']=='offer viewed']['time']\n",
    "        # remove transactions before event viewed\n",
    "        loop_data = loop_data[~((loop_data['event']=='transaction')&(loop_data['time'] < viewed_time.values[0]))]\n",
    "    else:\n",
    "        offer_instance['viewed'] = 0    \n",
    "     \n",
    "    # Calc total amount spent during this offer\n",
    "    offer_instance['amount'] = loop_data['amount'].sum()\n",
    "    \n",
    "    # calc total reward_trans during this offer\n",
    "    offer_instance['reward_trans'] = loop_data['reward_trans'].sum()\n",
    "    \n",
    "    # define completed\n",
    "    offer_instance['completed'] = 0\n",
    "    offer_instance.loc[(offer_instance['viewed']==1)&\n",
    "                       (offer_instance['amount']>0),\n",
    "                      'completed'] = 1\n",
    "    \n",
    "    # define viewed_before_completed\n",
    "    offer_instance['viewed_before_completed'] = 0\n",
    "    offer_instance.loc[(offer_instance['viewed']==1)&\n",
    "                       (offer_instance['completed']==1),\n",
    "                      'viewed_before_completed'] = 1"
   ]
  },
  {
   "cell_type": "markdown",
   "metadata": {},
   "source": [
    "### Designing the master pipeline"
   ]
  },
  {
   "cell_type": "code",
   "execution_count": 48,
   "metadata": {},
   "outputs": [],
   "source": [
    "def transcript_treatment(df=trascript_portfolio_profile):\n",
    "    '''\n",
    "    Objective: Master pipeline that handles data cleaning. \n",
    "                Used to reduce event space with multiple events to just 1 row.\n",
    "    \n",
    "    Args:\n",
    "        df: raw dataframe\n",
    "        \n",
    "    Returns:\n",
    "        offer_clean_df: Clean dataframe for each user, offer combination. One row per event space.\n",
    "        \n",
    "        transcript_master: Base data for clean offer_clean_df.\n",
    "                            Potentially multiple event rows per event space.\n",
    "    '''\n",
    "    # get a list of unisque user_ids\n",
    "    person_ids = df['user_id_encoded'].unique()\n",
    "    \n",
    "    # create a blank list to store detailed data\n",
    "    loop_list = []\n",
    "    \n",
    "    # Create a blank list for clean data\n",
    "    offer_instance_list = []\n",
    "    \n",
    "    # begin looping through the data for each user\n",
    "    for person in person_ids:\n",
    "        \n",
    "        # get all the data for this user\n",
    "        person_data = df[df['user_id_encoded'] == person]\n",
    "        \n",
    "        # create array for all the times an offer was received\n",
    "        times = person_data[person_data['event']=='offer received']['time'].tolist()\n",
    "        \n",
    "        # add the max of time + 1 as an additional last item \n",
    "        times.append(person_data['time'].max()+1)\n",
    "        \n",
    "        # Begin looping through each event space\n",
    "        for i in range(0,len(times)):\n",
    "            # Get data for this event space\n",
    "            try:\n",
    "                loop_data = person_data[(person_data['time']>=times[i]) & (person_data['time']<times[i+1])]\n",
    "            except IndexError:\n",
    "                break\n",
    "\n",
    "            # create row for offer instance\n",
    "            offer_instance = loop_data[loop_data['event']=='offer received'].copy()\n",
    "\n",
    "            # get time for offer recieved\n",
    "            offer_time = offer_instance['time']\n",
    "            # Calc validity period of offer\n",
    "            offer_validity = offer_time + (offer_instance['duration']*24)\n",
    "\n",
    "            # Keep only the instances within the validity period\n",
    "            loop_data = loop_data[loop_data['time'] <= offer_validity.values[0]]\n",
    "\n",
    "            # get list of all events in the event space\n",
    "            events = loop_data['event'].unique().tolist()\n",
    "            \n",
    "            # array with offer types\n",
    "            offer_types = ['discount','bogo']\n",
    "            offer_loop = (offer_instance['offer_type'])\n",
    "\n",
    "            #print(type(offer_instance['offer_type']))\n",
    "            if offer_loop.any() in offer_types:\n",
    "                bogo_discount_treatment(loop_data,offer_instance,events)\n",
    "            else:\n",
    "                informational_treatment(loop_data,offer_instance,events)\n",
    "\n",
    "            # append to offer instance list and loop data to loop list\n",
    "            offer_instance_list.append(offer_instance)\n",
    "            loop_list.append(loop_data)\n",
    "    \n",
    "    # concatenate list\n",
    "    transcript_master = pd.concat(loop_list)\n",
    "    offer_clean_df = pd.concat(offer_instance_list)\n",
    "    \n",
    "    return transcript_master, offer_clean_df"
   ]
  },
  {
   "cell_type": "markdown",
   "metadata": {},
   "source": [
    "### Run the pipeline"
   ]
  },
  {
   "cell_type": "code",
   "execution_count": 50,
   "metadata": {},
   "outputs": [
    {
     "name": "stdout",
     "output_type": "stream",
     "text": [
      "CPU times: user 8min 3s, sys: 6.47 s, total: 8min 9s\n",
      "Wall time: 7min 56s\n"
     ]
    }
   ],
   "source": [
    "%%time\n",
    "# Call the master pipeline\n",
    "transcript_master, offer_clean_df = transcript_treatment(trascript_portfolio_profile)"
   ]
  },
  {
   "cell_type": "code",
   "execution_count": 55,
   "metadata": {},
   "outputs": [
    {
     "data": {
      "text/html": [
       "<div>\n",
       "<style scoped>\n",
       "    .dataframe tbody tr th:only-of-type {\n",
       "        vertical-align: middle;\n",
       "    }\n",
       "\n",
       "    .dataframe tbody tr th {\n",
       "        vertical-align: top;\n",
       "    }\n",
       "\n",
       "    .dataframe thead th {\n",
       "        text-align: right;\n",
       "    }\n",
       "</style>\n",
       "<table border=\"1\" class=\"dataframe\">\n",
       "  <thead>\n",
       "    <tr style=\"text-align: right;\">\n",
       "      <th></th>\n",
       "      <th>event</th>\n",
       "      <th>time</th>\n",
       "      <th>amount</th>\n",
       "      <th>reward_trans</th>\n",
       "      <th>reward_port</th>\n",
       "      <th>difficulty</th>\n",
       "      <th>duration</th>\n",
       "      <th>offer_type</th>\n",
       "      <th>offer_id_encoded</th>\n",
       "      <th>web</th>\n",
       "      <th>...</th>\n",
       "      <th>social</th>\n",
       "      <th>mobile</th>\n",
       "      <th>gender</th>\n",
       "      <th>age</th>\n",
       "      <th>income</th>\n",
       "      <th>user_id_encoded</th>\n",
       "      <th>became_member_date</th>\n",
       "      <th>viewed</th>\n",
       "      <th>completed</th>\n",
       "      <th>viewed_before_completed</th>\n",
       "    </tr>\n",
       "  </thead>\n",
       "  <tbody>\n",
       "    <tr>\n",
       "      <th>0</th>\n",
       "      <td>offer received</td>\n",
       "      <td>0.0</td>\n",
       "      <td>19.89</td>\n",
       "      <td>5.0</td>\n",
       "      <td>5.0</td>\n",
       "      <td>5.0</td>\n",
       "      <td>7.0</td>\n",
       "      <td>bogo</td>\n",
       "      <td>4.0</td>\n",
       "      <td>1.0</td>\n",
       "      <td>...</td>\n",
       "      <td>0.0</td>\n",
       "      <td>1.0</td>\n",
       "      <td>F</td>\n",
       "      <td>75</td>\n",
       "      <td>100000.0</td>\n",
       "      <td>4</td>\n",
       "      <td>2017-05-09</td>\n",
       "      <td>1</td>\n",
       "      <td>1</td>\n",
       "      <td>1</td>\n",
       "    </tr>\n",
       "    <tr>\n",
       "      <th>1</th>\n",
       "      <td>offer received</td>\n",
       "      <td>168.0</td>\n",
       "      <td>49.39</td>\n",
       "      <td>0.0</td>\n",
       "      <td>0.0</td>\n",
       "      <td>0.0</td>\n",
       "      <td>3.0</td>\n",
       "      <td>informational</td>\n",
       "      <td>8.0</td>\n",
       "      <td>0.0</td>\n",
       "      <td>...</td>\n",
       "      <td>1.0</td>\n",
       "      <td>1.0</td>\n",
       "      <td>F</td>\n",
       "      <td>75</td>\n",
       "      <td>100000.0</td>\n",
       "      <td>4</td>\n",
       "      <td>2017-05-09</td>\n",
       "      <td>1</td>\n",
       "      <td>1</td>\n",
       "      <td>1</td>\n",
       "    </tr>\n",
       "    <tr>\n",
       "      <th>2</th>\n",
       "      <td>offer received</td>\n",
       "      <td>408.0</td>\n",
       "      <td>0.00</td>\n",
       "      <td>NaN</td>\n",
       "      <td>10.0</td>\n",
       "      <td>10.0</td>\n",
       "      <td>7.0</td>\n",
       "      <td>bogo</td>\n",
       "      <td>1.0</td>\n",
       "      <td>0.0</td>\n",
       "      <td>...</td>\n",
       "      <td>1.0</td>\n",
       "      <td>1.0</td>\n",
       "      <td>F</td>\n",
       "      <td>75</td>\n",
       "      <td>100000.0</td>\n",
       "      <td>4</td>\n",
       "      <td>2017-05-09</td>\n",
       "      <td>1</td>\n",
       "      <td>0</td>\n",
       "      <td>0</td>\n",
       "    </tr>\n",
       "    <tr>\n",
       "      <th>3</th>\n",
       "      <td>offer received</td>\n",
       "      <td>504.0</td>\n",
       "      <td>21.72</td>\n",
       "      <td>7.5</td>\n",
       "      <td>5.0</td>\n",
       "      <td>5.0</td>\n",
       "      <td>5.0</td>\n",
       "      <td>bogo</td>\n",
       "      <td>9.0</td>\n",
       "      <td>1.0</td>\n",
       "      <td>...</td>\n",
       "      <td>1.0</td>\n",
       "      <td>1.0</td>\n",
       "      <td>F</td>\n",
       "      <td>75</td>\n",
       "      <td>100000.0</td>\n",
       "      <td>4</td>\n",
       "      <td>2017-05-09</td>\n",
       "      <td>1</td>\n",
       "      <td>1</td>\n",
       "      <td>0</td>\n",
       "    </tr>\n",
       "    <tr>\n",
       "      <th>4</th>\n",
       "      <td>offer received</td>\n",
       "      <td>0.0</td>\n",
       "      <td>1.09</td>\n",
       "      <td>NaN</td>\n",
       "      <td>5.0</td>\n",
       "      <td>20.0</td>\n",
       "      <td>10.0</td>\n",
       "      <td>discount</td>\n",
       "      <td>5.0</td>\n",
       "      <td>1.0</td>\n",
       "      <td>...</td>\n",
       "      <td>0.0</td>\n",
       "      <td>0.0</td>\n",
       "      <td>None</td>\n",
       "      <td>118</td>\n",
       "      <td>NaN</td>\n",
       "      <td>5</td>\n",
       "      <td>2017-08-04</td>\n",
       "      <td>1</td>\n",
       "      <td>0</td>\n",
       "      <td>0</td>\n",
       "    </tr>\n",
       "  </tbody>\n",
       "</table>\n",
       "<p>5 rows × 21 columns</p>\n",
       "</div>"
      ],
      "text/plain": [
       "            event   time  amount  reward_trans  reward_port  difficulty  \\\n",
       "0  offer received    0.0   19.89           5.0          5.0         5.0   \n",
       "1  offer received  168.0   49.39           0.0          0.0         0.0   \n",
       "2  offer received  408.0    0.00           NaN         10.0        10.0   \n",
       "3  offer received  504.0   21.72           7.5          5.0         5.0   \n",
       "4  offer received    0.0    1.09           NaN          5.0        20.0   \n",
       "\n",
       "   duration     offer_type  offer_id_encoded  web  ...  social  mobile  \\\n",
       "0       7.0           bogo               4.0  1.0  ...     0.0     1.0   \n",
       "1       3.0  informational               8.0  0.0  ...     1.0     1.0   \n",
       "2       7.0           bogo               1.0  0.0  ...     1.0     1.0   \n",
       "3       5.0           bogo               9.0  1.0  ...     1.0     1.0   \n",
       "4      10.0       discount               5.0  1.0  ...     0.0     0.0   \n",
       "\n",
       "   gender  age    income  user_id_encoded  became_member_date viewed  \\\n",
       "0       F   75  100000.0                4          2017-05-09      1   \n",
       "1       F   75  100000.0                4          2017-05-09      1   \n",
       "2       F   75  100000.0                4          2017-05-09      1   \n",
       "3       F   75  100000.0                4          2017-05-09      1   \n",
       "4    None  118       NaN                5          2017-08-04      1   \n",
       "\n",
       "   completed  viewed_before_completed  \n",
       "0          1                        1  \n",
       "1          1                        1  \n",
       "2          0                        0  \n",
       "3          1                        0  \n",
       "4          0                        0  \n",
       "\n",
       "[5 rows x 21 columns]"
      ]
     },
     "execution_count": 55,
     "metadata": {},
     "output_type": "execute_result"
    }
   ],
   "source": [
    "# Reset index\n",
    "offer_clean_df.reset_index(drop=True,inplace=True)\n",
    "\n",
    "# Glimpse at the data\n",
    "offer_clean_df.head(5)"
   ]
  },
  {
   "cell_type": "code",
   "execution_count": null,
   "metadata": {},
   "outputs": [],
   "source": []
  },
  {
   "cell_type": "markdown",
   "metadata": {},
   "source": [
    "# EDA - Continued\n",
    "\n",
    "## Checking If we have imbalanced classes"
   ]
  },
  {
   "cell_type": "code",
   "execution_count": 58,
   "metadata": {},
   "outputs": [
    {
     "data": {
      "text/plain": [
       "0    52736\n",
       "1    23541\n",
       "Name: viewed_before_completed, dtype: int64"
      ]
     },
     "execution_count": 58,
     "metadata": {},
     "output_type": "execute_result"
    }
   ],
   "source": [
    "# checking if we have imbalanced class\n",
    "offer_clean_df['viewed_before_completed'].value_counts()"
   ]
  },
  {
   "cell_type": "markdown",
   "metadata": {},
   "source": [
    "- Doesn't look like we have a massively skewed dataset."
   ]
  },
  {
   "cell_type": "markdown",
   "metadata": {},
   "source": [
    "## Successful offers by offer types"
   ]
  },
  {
   "cell_type": "code",
   "execution_count": 85,
   "metadata": {},
   "outputs": [
    {
     "data": {
      "image/png": "[encoded data removed]",
      "text/plain": [
       "<Figure size 432x432 with 1 Axes>"
      ]
     },
     "metadata": {},
     "output_type": "display_data"
    }
   ],
   "source": [
    "# Setting plot area\n",
    "f, ax = plt.subplots(figsize=(6, 6))\n",
    "\n",
    "# plotting the distribution\n",
    "sns.countplot(data = offer_clean_df,\n",
    "              x = 'viewed_before_completed',\n",
    "              hue = 'offer_type')\n",
    "# add title\n",
    "ax.set(title=\"Distribution of successful offers by offer_type\")\n",
    "plt.show()"
   ]
  },
  {
   "cell_type": "markdown",
   "metadata": {},
   "source": [
    "- Seems we have almost equal number of bogo/info offers in the dataset.\n",
    "- Despite number, completion rate for info offers seems higher than bogo/discount."
   ]
  },
  {
   "cell_type": "markdown",
   "metadata": {},
   "source": [
    "### Amount spent by offer type"
   ]
  },
  {
   "cell_type": "code",
   "execution_count": 373,
   "metadata": {},
   "outputs": [
    {
     "data": {
      "image/png": "[encoded data removed]",
      "text/plain": [
       "<Figure size 864x288 with 3 Axes>"
      ]
     },
     "metadata": {},
     "output_type": "display_data"
    }
   ],
   "source": [
    "# plotting the distribution\n",
    "sns.displot(\n",
    "    data = offer_clean_df, \n",
    "    x=\"amount\",\n",
    "    col=\"offer_type\", \n",
    "    #row=\"viewed_before_completed\",\n",
    "    height=4, facet_kws=dict(margin_titles=True),bins=10\n",
    ")\n",
    "plt.show()"
   ]
  },
  {
   "cell_type": "markdown",
   "metadata": {},
   "source": [
    "- This is quite aligned with the earlier plot. Bogo/ Discount offers seem to have a lot more spend than informational offers. \n",
    "- There will be bunch of outliers regardless the offer tpye."
   ]
  },
  {
   "cell_type": "markdown",
   "metadata": {},
   "source": [
    "## Successful offers and gender, age"
   ]
  },
  {
   "cell_type": "code",
   "execution_count": 102,
   "metadata": {},
   "outputs": [
    {
     "data": {
      "image/png": "[encoded data removed]",
      "text/plain": [
       "<Figure size 864x576 with 6 Axes>"
      ]
     },
     "metadata": {},
     "output_type": "display_data"
    }
   ],
   "source": [
    "# create displot\n",
    "sns.displot(\n",
    "    offer_clean_df, \n",
    "    x=\"age\", \n",
    "    col=\"gender\", \n",
    "    row=\"viewed_before_completed\",\n",
    "    binwidth=3, height=4, facet_kws=dict(margin_titles=True),\n",
    ")\n",
    "plt.show()"
   ]
  },
  {
   "cell_type": "markdown",
   "metadata": {},
   "source": [
    "- We have a lot more males in the dataset vs Female and others.\n",
    "- The relative completion rate seems to be higher for females."
   ]
  },
  {
   "cell_type": "markdown",
   "metadata": {},
   "source": [
    "## Successful offers by income and gender"
   ]
  },
  {
   "cell_type": "code",
   "execution_count": 103,
   "metadata": {},
   "outputs": [
    {
     "data": {
      "image/png": "[encoded data removed]",
      "text/plain": [
       "<Figure size 864x576 with 6 Axes>"
      ]
     },
     "metadata": {},
     "output_type": "display_data"
    }
   ],
   "source": [
    "# create displot\n",
    "sns.displot(\n",
    "    offer_clean_df, \n",
    "    x=\"income\",\n",
    "    col=\"gender\", \n",
    "    row=\"viewed_before_completed\",\n",
    "    height=4, facet_kws=dict(margin_titles=True),bins=10\n",
    ")\n",
    "plt.show()"
   ]
  },
  {
   "cell_type": "markdown",
   "metadata": {},
   "source": [
    "- A lot more men seeem to be in the relatively low income groups vs females. This isn't particularly surprising as we have a lot more men in the dataset compared to females."
   ]
  },
  {
   "cell_type": "markdown",
   "metadata": {},
   "source": [
    "## Successful offers and membership data"
   ]
  },
  {
   "cell_type": "code",
   "execution_count": 136,
   "metadata": {},
   "outputs": [],
   "source": [
    "# Creating a column to calc # days since the individual is a member with cutoff set to Jan 1,2019\n",
    "offer_clean_df['days_since_member'] = (datetime.datetime(2019, 1, 1) - offer_clean_df['became_member_date']).dt.days"
   ]
  },
  {
   "cell_type": "code",
   "execution_count": 759,
   "metadata": {},
   "outputs": [
    {
     "data": {
      "image/png": "[encoded data removed]",
      "text/plain": [
       "<Figure size 864x576 with 6 Axes>"
      ]
     },
     "metadata": {},
     "output_type": "display_data"
    }
   ],
   "source": [
    "# Draw displot\n",
    "sns.displot(\n",
    "    offer_clean_df, \n",
    "    x=\"days_since_member\",\n",
    "    col=\"gender\", \n",
    "    row=\"viewed_before_completed\",\n",
    "    height=4, facet_kws=dict(margin_titles=True),bins=10\n",
    ")\n",
    "plt.show()"
   ]
  },
  {
   "cell_type": "markdown",
   "metadata": {},
   "source": [
    "# Final Data Preparation + Feature Engineering\n",
    "\n",
    "## Filling nulls for Income, Gender.\n",
    "\n",
    "- We know that there is missing data in income and gender columns. We will use the following section to impute values for these rows."
   ]
  },
  {
   "cell_type": "code",
   "execution_count": 319,
   "metadata": {},
   "outputs": [
    {
     "data": {
      "text/html": [
       "<div>\n",
       "<style scoped>\n",
       "    .dataframe tbody tr th:only-of-type {\n",
       "        vertical-align: middle;\n",
       "    }\n",
       "\n",
       "    .dataframe tbody tr th {\n",
       "        vertical-align: top;\n",
       "    }\n",
       "\n",
       "    .dataframe thead th {\n",
       "        text-align: right;\n",
       "    }\n",
       "</style>\n",
       "<table border=\"1\" class=\"dataframe\">\n",
       "  <thead>\n",
       "    <tr style=\"text-align: right;\">\n",
       "      <th></th>\n",
       "      <th>amount</th>\n",
       "      <th>reward_port</th>\n",
       "      <th>difficulty</th>\n",
       "      <th>duration</th>\n",
       "      <th>offer_type</th>\n",
       "      <th>offer_id_encoded</th>\n",
       "      <th>web</th>\n",
       "      <th>email</th>\n",
       "      <th>social</th>\n",
       "      <th>mobile</th>\n",
       "      <th>gender</th>\n",
       "      <th>age</th>\n",
       "      <th>income</th>\n",
       "      <th>user_id_encoded</th>\n",
       "      <th>viewed_before_completed</th>\n",
       "      <th>days_since_member</th>\n",
       "    </tr>\n",
       "  </thead>\n",
       "  <tbody>\n",
       "    <tr>\n",
       "      <th>0</th>\n",
       "      <td>19.89</td>\n",
       "      <td>5.0</td>\n",
       "      <td>5.0</td>\n",
       "      <td>7.0</td>\n",
       "      <td>bogo</td>\n",
       "      <td>4.0</td>\n",
       "      <td>1.0</td>\n",
       "      <td>1.0</td>\n",
       "      <td>0.0</td>\n",
       "      <td>1.0</td>\n",
       "      <td>F</td>\n",
       "      <td>75</td>\n",
       "      <td>100000.0</td>\n",
       "      <td>4</td>\n",
       "      <td>1</td>\n",
       "      <td>602</td>\n",
       "    </tr>\n",
       "    <tr>\n",
       "      <th>1</th>\n",
       "      <td>49.39</td>\n",
       "      <td>0.0</td>\n",
       "      <td>0.0</td>\n",
       "      <td>3.0</td>\n",
       "      <td>informational</td>\n",
       "      <td>8.0</td>\n",
       "      <td>0.0</td>\n",
       "      <td>1.0</td>\n",
       "      <td>1.0</td>\n",
       "      <td>1.0</td>\n",
       "      <td>F</td>\n",
       "      <td>75</td>\n",
       "      <td>100000.0</td>\n",
       "      <td>4</td>\n",
       "      <td>1</td>\n",
       "      <td>602</td>\n",
       "    </tr>\n",
       "    <tr>\n",
       "      <th>2</th>\n",
       "      <td>0.00</td>\n",
       "      <td>10.0</td>\n",
       "      <td>10.0</td>\n",
       "      <td>7.0</td>\n",
       "      <td>bogo</td>\n",
       "      <td>1.0</td>\n",
       "      <td>0.0</td>\n",
       "      <td>1.0</td>\n",
       "      <td>1.0</td>\n",
       "      <td>1.0</td>\n",
       "      <td>F</td>\n",
       "      <td>75</td>\n",
       "      <td>100000.0</td>\n",
       "      <td>4</td>\n",
       "      <td>0</td>\n",
       "      <td>602</td>\n",
       "    </tr>\n",
       "    <tr>\n",
       "      <th>3</th>\n",
       "      <td>21.72</td>\n",
       "      <td>5.0</td>\n",
       "      <td>5.0</td>\n",
       "      <td>5.0</td>\n",
       "      <td>bogo</td>\n",
       "      <td>9.0</td>\n",
       "      <td>1.0</td>\n",
       "      <td>1.0</td>\n",
       "      <td>1.0</td>\n",
       "      <td>1.0</td>\n",
       "      <td>F</td>\n",
       "      <td>75</td>\n",
       "      <td>100000.0</td>\n",
       "      <td>4</td>\n",
       "      <td>0</td>\n",
       "      <td>602</td>\n",
       "    </tr>\n",
       "    <tr>\n",
       "      <th>4</th>\n",
       "      <td>1.09</td>\n",
       "      <td>5.0</td>\n",
       "      <td>20.0</td>\n",
       "      <td>10.0</td>\n",
       "      <td>discount</td>\n",
       "      <td>5.0</td>\n",
       "      <td>1.0</td>\n",
       "      <td>1.0</td>\n",
       "      <td>0.0</td>\n",
       "      <td>0.0</td>\n",
       "      <td>None</td>\n",
       "      <td>118</td>\n",
       "      <td>NaN</td>\n",
       "      <td>5</td>\n",
       "      <td>0</td>\n",
       "      <td>515</td>\n",
       "    </tr>\n",
       "  </tbody>\n",
       "</table>\n",
       "</div>"
      ],
      "text/plain": [
       "   amount  reward_port  difficulty  duration     offer_type  offer_id_encoded  \\\n",
       "0   19.89          5.0         5.0       7.0           bogo               4.0   \n",
       "1   49.39          0.0         0.0       3.0  informational               8.0   \n",
       "2    0.00         10.0        10.0       7.0           bogo               1.0   \n",
       "3   21.72          5.0         5.0       5.0           bogo               9.0   \n",
       "4    1.09          5.0        20.0      10.0       discount               5.0   \n",
       "\n",
       "   web  email  social  mobile gender  age    income  user_id_encoded  \\\n",
       "0  1.0    1.0     0.0     1.0      F   75  100000.0                4   \n",
       "1  0.0    1.0     1.0     1.0      F   75  100000.0                4   \n",
       "2  0.0    1.0     1.0     1.0      F   75  100000.0                4   \n",
       "3  1.0    1.0     1.0     1.0      F   75  100000.0                4   \n",
       "4  1.0    1.0     0.0     0.0   None  118       NaN                5   \n",
       "\n",
       "   viewed_before_completed  days_since_member  \n",
       "0                        1                602  \n",
       "1                        1                602  \n",
       "2                        0                602  \n",
       "3                        0                602  \n",
       "4                        0                515  "
      ]
     },
     "execution_count": 319,
     "metadata": {},
     "output_type": "execute_result"
    }
   ],
   "source": [
    "# Creating copy\n",
    "offer_clean_df_copy = offer_clean_df.copy()\n",
    "\n",
    "# Drop redundant columns\n",
    "drop_cols = ['event','time','reward_trans','became_member_date','viewed','completed']\n",
    "offer_clean_df_copy.drop(drop_cols,axis=1,inplace=True)\n",
    "offer_clean_df_copy.head()\n"
   ]
  },
  {
   "cell_type": "markdown",
   "metadata": {},
   "source": [
    "### Understanding the proportion of missing values"
   ]
  },
  {
   "cell_type": "code",
   "execution_count": 320,
   "metadata": {},
   "outputs": [
    {
     "data": {
      "text/html": [
       "<div>\n",
       "<style scoped>\n",
       "    .dataframe tbody tr th:only-of-type {\n",
       "        vertical-align: middle;\n",
       "    }\n",
       "\n",
       "    .dataframe tbody tr th {\n",
       "        vertical-align: top;\n",
       "    }\n",
       "\n",
       "    .dataframe thead th {\n",
       "        text-align: right;\n",
       "    }\n",
       "</style>\n",
       "<table border=\"1\" class=\"dataframe\">\n",
       "  <thead>\n",
       "    <tr style=\"text-align: right;\">\n",
       "      <th></th>\n",
       "      <th>Total #</th>\n",
       "      <th>Percent</th>\n",
       "    </tr>\n",
       "  </thead>\n",
       "  <tbody>\n",
       "    <tr>\n",
       "      <th>income</th>\n",
       "      <td>9776</td>\n",
       "      <td>12.816445</td>\n",
       "    </tr>\n",
       "    <tr>\n",
       "      <th>gender</th>\n",
       "      <td>9776</td>\n",
       "      <td>12.816445</td>\n",
       "    </tr>\n",
       "    <tr>\n",
       "      <th>days_since_member</th>\n",
       "      <td>0</td>\n",
       "      <td>0.000000</td>\n",
       "    </tr>\n",
       "    <tr>\n",
       "      <th>viewed_before_completed</th>\n",
       "      <td>0</td>\n",
       "      <td>0.000000</td>\n",
       "    </tr>\n",
       "    <tr>\n",
       "      <th>user_id_encoded</th>\n",
       "      <td>0</td>\n",
       "      <td>0.000000</td>\n",
       "    </tr>\n",
       "  </tbody>\n",
       "</table>\n",
       "</div>"
      ],
      "text/plain": [
       "                         Total #    Percent\n",
       "income                      9776  12.816445\n",
       "gender                      9776  12.816445\n",
       "days_since_member              0   0.000000\n",
       "viewed_before_completed        0   0.000000\n",
       "user_id_encoded                0   0.000000"
      ]
     },
     "execution_count": 320,
     "metadata": {},
     "output_type": "execute_result"
    }
   ],
   "source": [
    "# check for missing values\n",
    "# calc total missing values\n",
    "total_series = offer_clean_df_copy.isnull().sum().sort_values(ascending=False)\n",
    "\n",
    "# calc percentages\n",
    "perc_series = (offer_clean_df_copy.isnull().sum()/offer_clean_df_copy.isnull().count()).sort_values(ascending = False)\n",
    "\n",
    "# concatenating total values and percentages\n",
    "missing_data = pd.concat([total_series, perc_series*100], axis=1, keys=['Total #', 'Percent'])\n",
    "\n",
    "# Looking at top 20 entries\n",
    "missing_data.head()"
   ]
  },
  {
   "cell_type": "markdown",
   "metadata": {},
   "source": [
    "- Given that the missing data is ~13%, we won't be dropping them. Instead, we fill them using educated guesses.\n",
    "- Also, we know that there are outliers in the profile data where some profile have an age of 118. These profiles account for all the missing instances for income, gender. Let's validate that now."
   ]
  },
  {
   "cell_type": "code",
   "execution_count": 321,
   "metadata": {},
   "outputs": [
    {
     "data": {
      "text/plain": [
       "((9776, 22), (66501, 22))"
      ]
     },
     "execution_count": 321,
     "metadata": {},
     "output_type": "execute_result"
    }
   ],
   "source": [
    "# Separating these outliers from the rest of the data\n",
    "outlier_rows = offer_clean_df[offer_clean_df['age']==118]\n",
    "regular_data = offer_clean_df[offer_clean_df['age']!=118]\n",
    "\n",
    "# check shape\n",
    "outlier_rows.shape, regular_data.shape"
   ]
  },
  {
   "cell_type": "markdown",
   "metadata": {},
   "source": [
    "### Understanding the distribution by offer type between outlier data and regular data"
   ]
  },
  {
   "cell_type": "code",
   "execution_count": 322,
   "metadata": {},
   "outputs": [
    {
     "data": {
      "image/png": "[encoded data removed]",
      "text/plain": [
       "<Figure size 576x432 with 1 Axes>"
      ]
     },
     "metadata": {},
     "output_type": "display_data"
    }
   ],
   "source": [
    "# Plot histogram by offer type for outliers\n",
    "plt.figure(figsize=(8,6))\n",
    "sns.histplot(data=outlier_rows,x='offer_type',hue='viewed_before_completed')\n",
    "plt.title('Distribution of outlier offers by offer type')\n",
    "plt.show()"
   ]
  },
  {
   "cell_type": "code",
   "execution_count": 323,
   "metadata": {},
   "outputs": [
    {
     "data": {
      "image/png": "[encoded data removed]",
      "text/plain": [
       "<Figure size 576x432 with 1 Axes>"
      ]
     },
     "metadata": {},
     "output_type": "display_data"
    }
   ],
   "source": [
    "# Plot histogram by offer type for the rest of the data\n",
    "plt.figure(figsize=(8,6))\n",
    "sns.histplot(data=regular_data,x='offer_type',hue='viewed_before_completed')\n",
    "plt.title('Distribution of offers by offer type for the rest of the data')\n",
    "plt.show()"
   ]
  },
  {
   "cell_type": "markdown",
   "metadata": {},
   "source": [
    "- Now, it seems the distribution for # offers by offer type follow the same pattern as the overall data. \n",
    "- However, it is interesting to note that the completion rate for discount and bogo offers is quite less. Meaning, the offer type could potentially have a bearing on these profiles."
   ]
  },
  {
   "cell_type": "markdown",
   "metadata": {},
   "source": [
    "### Understanding the distribution by spend between outlier data and regular data"
   ]
  },
  {
   "cell_type": "code",
   "execution_count": 324,
   "metadata": {},
   "outputs": [
    {
     "data": {
      "image/png": "[encoded data removed]",
      "text/plain": [
       "<Figure size 648x432 with 6 Axes>"
      ]
     },
     "metadata": {},
     "output_type": "display_data"
    }
   ],
   "source": [
    "# Plotting distribution of amount spend by offer type\n",
    "sns.displot(\n",
    "    data= outlier_rows, \n",
    "    x=\"amount\",\n",
    "    col=\"offer_type\", \n",
    "    row=\"viewed_before_completed\",\n",
    "    height=3, facet_kws=dict(margin_titles=True),bins=10\n",
    ")\n",
    "plt.title('Distribution of amount spend by the outlier profiles by offer type')\n",
    "plt.show()"
   ]
  },
  {
   "cell_type": "code",
   "execution_count": 325,
   "metadata": {},
   "outputs": [
    {
     "data": {
      "image/png": "[encoded data removed]",
      "text/plain": [
       "<Figure size 648x432 with 6 Axes>"
      ]
     },
     "metadata": {},
     "output_type": "display_data"
    }
   ],
   "source": [
    "# Plotting distribution of amount spend by offer type\n",
    "sns.displot(\n",
    "    data= regular_data, \n",
    "    x=\"amount\",\n",
    "    col=\"offer_type\", \n",
    "    row=\"viewed_before_completed\",\n",
    "    height=3, facet_kws=dict(margin_titles=True),bins=10\n",
    ")\n",
    "plt.title('Distribution of amount spend by the regular profiles by offer type')\n",
    "plt.show()"
   ]
  },
  {
   "cell_type": "markdown",
   "metadata": {},
   "source": [
    "- Given that the completion rate for bogo/discount was low, it is not surprising to see that the spend on these offers is low in the outlier dataset."
   ]
  },
  {
   "cell_type": "markdown",
   "metadata": {},
   "source": [
    "### Difference in descriptive stats for `amount` spent and `days_since_member` between outlier and regular data"
   ]
  },
  {
   "cell_type": "code",
   "execution_count": 326,
   "metadata": {},
   "outputs": [
    {
     "data": {
      "text/html": [
       "<div>\n",
       "<style scoped>\n",
       "    .dataframe tbody tr th:only-of-type {\n",
       "        vertical-align: middle;\n",
       "    }\n",
       "\n",
       "    .dataframe tbody tr th {\n",
       "        vertical-align: top;\n",
       "    }\n",
       "\n",
       "    .dataframe thead th {\n",
       "        text-align: right;\n",
       "    }\n",
       "</style>\n",
       "<table border=\"1\" class=\"dataframe\">\n",
       "  <thead>\n",
       "    <tr style=\"text-align: right;\">\n",
       "      <th></th>\n",
       "      <th>count</th>\n",
       "      <th>mean</th>\n",
       "      <th>std</th>\n",
       "      <th>min</th>\n",
       "      <th>25%</th>\n",
       "      <th>50%</th>\n",
       "      <th>75%</th>\n",
       "      <th>max</th>\n",
       "    </tr>\n",
       "  </thead>\n",
       "  <tbody>\n",
       "    <tr>\n",
       "      <th>amount</th>\n",
       "      <td>9776.0</td>\n",
       "      <td>3.282662</td>\n",
       "      <td>7.209932</td>\n",
       "      <td>0.0</td>\n",
       "      <td>0.0</td>\n",
       "      <td>1.31</td>\n",
       "      <td>4.73</td>\n",
       "      <td>164.14</td>\n",
       "    </tr>\n",
       "    <tr>\n",
       "      <th>days_since_member</th>\n",
       "      <td>9776.0</td>\n",
       "      <td>642.939444</td>\n",
       "      <td>353.499308</td>\n",
       "      <td>159.0</td>\n",
       "      <td>369.0</td>\n",
       "      <td>518.00</td>\n",
       "      <td>918.00</td>\n",
       "      <td>1978.00</td>\n",
       "    </tr>\n",
       "  </tbody>\n",
       "</table>\n",
       "</div>"
      ],
      "text/plain": [
       "                    count        mean         std    min    25%     50%  \\\n",
       "amount             9776.0    3.282662    7.209932    0.0    0.0    1.31   \n",
       "days_since_member  9776.0  642.939444  353.499308  159.0  369.0  518.00   \n",
       "\n",
       "                      75%      max  \n",
       "amount               4.73   164.14  \n",
       "days_since_member  918.00  1978.00  "
      ]
     },
     "execution_count": 326,
     "metadata": {},
     "output_type": "execute_result"
    }
   ],
   "source": [
    "# Descriptive stats for outlier profiles\n",
    "outlier_rows[['amount','days_since_member']].describe().T"
   ]
  },
  {
   "cell_type": "code",
   "execution_count": 327,
   "metadata": {},
   "outputs": [
    {
     "data": {
      "text/html": [
       "<div>\n",
       "<style scoped>\n",
       "    .dataframe tbody tr th:only-of-type {\n",
       "        vertical-align: middle;\n",
       "    }\n",
       "\n",
       "    .dataframe tbody tr th {\n",
       "        vertical-align: top;\n",
       "    }\n",
       "\n",
       "    .dataframe thead th {\n",
       "        text-align: right;\n",
       "    }\n",
       "</style>\n",
       "<table border=\"1\" class=\"dataframe\">\n",
       "  <thead>\n",
       "    <tr style=\"text-align: right;\">\n",
       "      <th></th>\n",
       "      <th>count</th>\n",
       "      <th>mean</th>\n",
       "      <th>std</th>\n",
       "      <th>min</th>\n",
       "      <th>25%</th>\n",
       "      <th>50%</th>\n",
       "      <th>75%</th>\n",
       "      <th>max</th>\n",
       "    </tr>\n",
       "  </thead>\n",
       "  <tbody>\n",
       "    <tr>\n",
       "      <th>amount</th>\n",
       "      <td>66501.0</td>\n",
       "      <td>12.956062</td>\n",
       "      <td>31.440542</td>\n",
       "      <td>0.0</td>\n",
       "      <td>0.0</td>\n",
       "      <td>8.92</td>\n",
       "      <td>19.02</td>\n",
       "      <td>1062.28</td>\n",
       "    </tr>\n",
       "    <tr>\n",
       "      <th>days_since_member</th>\n",
       "      <td>66501.0</td>\n",
       "      <td>680.901174</td>\n",
       "      <td>419.217454</td>\n",
       "      <td>159.0</td>\n",
       "      <td>367.0</td>\n",
       "      <td>517.00</td>\n",
       "      <td>957.00</td>\n",
       "      <td>1982.00</td>\n",
       "    </tr>\n",
       "  </tbody>\n",
       "</table>\n",
       "</div>"
      ],
      "text/plain": [
       "                     count        mean         std    min    25%     50%  \\\n",
       "amount             66501.0   12.956062   31.440542    0.0    0.0    8.92   \n",
       "days_since_member  66501.0  680.901174  419.217454  159.0  367.0  517.00   \n",
       "\n",
       "                      75%      max  \n",
       "amount              19.02  1062.28  \n",
       "days_since_member  957.00  1982.00  "
      ]
     },
     "execution_count": 327,
     "metadata": {},
     "output_type": "execute_result"
    }
   ],
   "source": [
    "# Descriptive stats for regular profiles\n",
    "regular_data[['amount','days_since_member']].describe().T"
   ]
  },
  {
   "cell_type": "markdown",
   "metadata": {},
   "source": [
    "- Based of the descriptive stats and the histograms, it seems the outlier profiles are typically low spenders. This is reflected by the `amount` spend.\n",
    "\n",
    "\n",
    "- The distribution for `days_since_member` looks pretty similar. \n",
    "\n",
    "\n",
    "- __In conclusion:__\n",
    "    - we will have to use some grouping of `amount` and `offer_type` to fill in the missing values. \n",
    "    - To this end we will divide the `amount` column in 4 groups, called `amount_quantile`.\n",
    "    - Later, we will group the data using `amount_quantile` and `offer_type` and fill in the most frequent value for `gender` and median for `income`"
   ]
  },
  {
   "cell_type": "markdown",
   "metadata": {},
   "source": [
    "### Filling missing values"
   ]
  },
  {
   "cell_type": "code",
   "execution_count": 328,
   "metadata": {},
   "outputs": [
    {
     "data": {
      "text/html": [
       "<div>\n",
       "<style scoped>\n",
       "    .dataframe tbody tr th:only-of-type {\n",
       "        vertical-align: middle;\n",
       "    }\n",
       "\n",
       "    .dataframe tbody tr th {\n",
       "        vertical-align: top;\n",
       "    }\n",
       "\n",
       "    .dataframe thead th {\n",
       "        text-align: right;\n",
       "    }\n",
       "</style>\n",
       "<table border=\"1\" class=\"dataframe\">\n",
       "  <thead>\n",
       "    <tr style=\"text-align: right;\">\n",
       "      <th></th>\n",
       "      <th>amount</th>\n",
       "      <th>reward_port</th>\n",
       "      <th>difficulty</th>\n",
       "      <th>duration</th>\n",
       "      <th>offer_type</th>\n",
       "      <th>offer_id_encoded</th>\n",
       "      <th>web</th>\n",
       "      <th>email</th>\n",
       "      <th>social</th>\n",
       "      <th>mobile</th>\n",
       "      <th>gender</th>\n",
       "      <th>age</th>\n",
       "      <th>income</th>\n",
       "      <th>user_id_encoded</th>\n",
       "      <th>viewed_before_completed</th>\n",
       "      <th>days_since_member</th>\n",
       "    </tr>\n",
       "  </thead>\n",
       "  <tbody>\n",
       "    <tr>\n",
       "      <th>0</th>\n",
       "      <td>19.89</td>\n",
       "      <td>5.0</td>\n",
       "      <td>5.0</td>\n",
       "      <td>7.0</td>\n",
       "      <td>bogo</td>\n",
       "      <td>4.0</td>\n",
       "      <td>1.0</td>\n",
       "      <td>1.0</td>\n",
       "      <td>0.0</td>\n",
       "      <td>1.0</td>\n",
       "      <td>F</td>\n",
       "      <td>75</td>\n",
       "      <td>100000.0</td>\n",
       "      <td>4</td>\n",
       "      <td>1</td>\n",
       "      <td>602</td>\n",
       "    </tr>\n",
       "    <tr>\n",
       "      <th>1</th>\n",
       "      <td>49.39</td>\n",
       "      <td>0.0</td>\n",
       "      <td>0.0</td>\n",
       "      <td>3.0</td>\n",
       "      <td>informational</td>\n",
       "      <td>8.0</td>\n",
       "      <td>0.0</td>\n",
       "      <td>1.0</td>\n",
       "      <td>1.0</td>\n",
       "      <td>1.0</td>\n",
       "      <td>F</td>\n",
       "      <td>75</td>\n",
       "      <td>100000.0</td>\n",
       "      <td>4</td>\n",
       "      <td>1</td>\n",
       "      <td>602</td>\n",
       "    </tr>\n",
       "    <tr>\n",
       "      <th>2</th>\n",
       "      <td>0.00</td>\n",
       "      <td>10.0</td>\n",
       "      <td>10.0</td>\n",
       "      <td>7.0</td>\n",
       "      <td>bogo</td>\n",
       "      <td>1.0</td>\n",
       "      <td>0.0</td>\n",
       "      <td>1.0</td>\n",
       "      <td>1.0</td>\n",
       "      <td>1.0</td>\n",
       "      <td>F</td>\n",
       "      <td>75</td>\n",
       "      <td>100000.0</td>\n",
       "      <td>4</td>\n",
       "      <td>0</td>\n",
       "      <td>602</td>\n",
       "    </tr>\n",
       "    <tr>\n",
       "      <th>3</th>\n",
       "      <td>21.72</td>\n",
       "      <td>5.0</td>\n",
       "      <td>5.0</td>\n",
       "      <td>5.0</td>\n",
       "      <td>bogo</td>\n",
       "      <td>9.0</td>\n",
       "      <td>1.0</td>\n",
       "      <td>1.0</td>\n",
       "      <td>1.0</td>\n",
       "      <td>1.0</td>\n",
       "      <td>F</td>\n",
       "      <td>75</td>\n",
       "      <td>100000.0</td>\n",
       "      <td>4</td>\n",
       "      <td>0</td>\n",
       "      <td>602</td>\n",
       "    </tr>\n",
       "    <tr>\n",
       "      <th>4</th>\n",
       "      <td>1.09</td>\n",
       "      <td>5.0</td>\n",
       "      <td>20.0</td>\n",
       "      <td>10.0</td>\n",
       "      <td>discount</td>\n",
       "      <td>5.0</td>\n",
       "      <td>1.0</td>\n",
       "      <td>1.0</td>\n",
       "      <td>0.0</td>\n",
       "      <td>0.0</td>\n",
       "      <td>M</td>\n",
       "      <td>118</td>\n",
       "      <td>62000.0</td>\n",
       "      <td>5</td>\n",
       "      <td>0</td>\n",
       "      <td>515</td>\n",
       "    </tr>\n",
       "  </tbody>\n",
       "</table>\n",
       "</div>"
      ],
      "text/plain": [
       "   amount  reward_port  difficulty  duration     offer_type  offer_id_encoded  \\\n",
       "0   19.89          5.0         5.0       7.0           bogo               4.0   \n",
       "1   49.39          0.0         0.0       3.0  informational               8.0   \n",
       "2    0.00         10.0        10.0       7.0           bogo               1.0   \n",
       "3   21.72          5.0         5.0       5.0           bogo               9.0   \n",
       "4    1.09          5.0        20.0      10.0       discount               5.0   \n",
       "\n",
       "   web  email  social  mobile gender  age    income  user_id_encoded  \\\n",
       "0  1.0    1.0     0.0     1.0      F   75  100000.0                4   \n",
       "1  0.0    1.0     1.0     1.0      F   75  100000.0                4   \n",
       "2  0.0    1.0     1.0     1.0      F   75  100000.0                4   \n",
       "3  1.0    1.0     1.0     1.0      F   75  100000.0                4   \n",
       "4  1.0    1.0     0.0     0.0      M  118   62000.0                5   \n",
       "\n",
       "   viewed_before_completed  days_since_member  \n",
       "0                        1                602  \n",
       "1                        1                602  \n",
       "2                        0                602  \n",
       "3                        0                602  \n",
       "4                        0                515  "
      ]
     },
     "execution_count": 328,
     "metadata": {},
     "output_type": "execute_result"
    }
   ],
   "source": [
    "# adding amounbt quantile column\n",
    "offer_clean_df_copy['amount_quantile'] = pd.qcut(offer_clean_df_copy['amount'], 5, labels=False,duplicates='drop')\n",
    "\n",
    "# Fill gender values\n",
    "offer_clean_df_copy['gender'] = offer_clean_df_copy.groupby(['amount_quantile','offer_type'])['gender'].apply(lambda x: x.fillna(x.mode()[0]))\n",
    "\n",
    "# fill income\n",
    "offer_clean_df_copy['income'] = offer_clean_df_copy.groupby(['amount_quantile','offer_type'])['income'].apply(lambda x: x.fillna(x.median()))\n",
    "\n",
    "# Drop amount_quantile\n",
    "offer_clean_df_copy.drop('amount_quantile',axis=1,inplace=True)\n",
    "\n",
    "# glimpse\n",
    "offer_clean_df_copy.head()"
   ]
  },
  {
   "cell_type": "code",
   "execution_count": 329,
   "metadata": {},
   "outputs": [
    {
     "data": {
      "text/html": [
       "<div>\n",
       "<style scoped>\n",
       "    .dataframe tbody tr th:only-of-type {\n",
       "        vertical-align: middle;\n",
       "    }\n",
       "\n",
       "    .dataframe tbody tr th {\n",
       "        vertical-align: top;\n",
       "    }\n",
       "\n",
       "    .dataframe thead th {\n",
       "        text-align: right;\n",
       "    }\n",
       "</style>\n",
       "<table border=\"1\" class=\"dataframe\">\n",
       "  <thead>\n",
       "    <tr style=\"text-align: right;\">\n",
       "      <th></th>\n",
       "      <th>Total #</th>\n",
       "      <th>Percent</th>\n",
       "    </tr>\n",
       "  </thead>\n",
       "  <tbody>\n",
       "    <tr>\n",
       "      <th>days_since_member</th>\n",
       "      <td>0</td>\n",
       "      <td>0.0</td>\n",
       "    </tr>\n",
       "    <tr>\n",
       "      <th>viewed_before_completed</th>\n",
       "      <td>0</td>\n",
       "      <td>0.0</td>\n",
       "    </tr>\n",
       "    <tr>\n",
       "      <th>user_id_encoded</th>\n",
       "      <td>0</td>\n",
       "      <td>0.0</td>\n",
       "    </tr>\n",
       "    <tr>\n",
       "      <th>income</th>\n",
       "      <td>0</td>\n",
       "      <td>0.0</td>\n",
       "    </tr>\n",
       "    <tr>\n",
       "      <th>age</th>\n",
       "      <td>0</td>\n",
       "      <td>0.0</td>\n",
       "    </tr>\n",
       "  </tbody>\n",
       "</table>\n",
       "</div>"
      ],
      "text/plain": [
       "                         Total #  Percent\n",
       "days_since_member              0      0.0\n",
       "viewed_before_completed        0      0.0\n",
       "user_id_encoded                0      0.0\n",
       "income                         0      0.0\n",
       "age                            0      0.0"
      ]
     },
     "execution_count": 329,
     "metadata": {},
     "output_type": "execute_result"
    }
   ],
   "source": [
    "# check for missing values\n",
    "# calc total missing values\n",
    "total_series = offer_clean_df_copy.isnull().sum().sort_values(ascending=False)\n",
    "\n",
    "# calc percentages\n",
    "perc_series = (offer_clean_df_copy.isnull().sum()/offer_clean_df_copy.isnull().count()).sort_values(ascending = False)\n",
    "\n",
    "# concatenating total values and percentages\n",
    "missing_data = pd.concat([total_series, perc_series*100], axis=1, keys=['Total #', 'Percent'])\n",
    "\n",
    "# Looking at top 20 entries\n",
    "missing_data.head()"
   ]
  },
  {
   "cell_type": "markdown",
   "metadata": {},
   "source": [
    "- We no longer have missing values."
   ]
  },
  {
   "cell_type": "markdown",
   "metadata": {},
   "source": [
    "## Creating Strattified training and testing data\n",
    "\n",
    "- Now, let's start the modeling process. First, we need to split our data into stratified training and testing sets."
   ]
  },
  {
   "cell_type": "code",
   "execution_count": 330,
   "metadata": {},
   "outputs": [],
   "source": [
    "# import the necessary module\n",
    "from sklearn.model_selection import StratifiedShuffleSplit\n",
    "\n",
    "# Create split\n",
    "split = StratifiedShuffleSplit(n_splits=1,test_size=0.2,random_state=42)\n",
    "\n",
    "# call for loop to create stratified training and testing sets\n",
    "for train_index, test_index in split.split(offer_clean_df_copy,offer_clean_df_copy['viewed_before_completed']):\n",
    "    strat_train = offer_clean_df_copy.loc[train_index]\n",
    "    strat_test = offer_clean_df_copy.loc[test_index]"
   ]
  },
  {
   "cell_type": "code",
   "execution_count": 747,
   "metadata": {},
   "outputs": [],
   "source": [
    "# Separating features and Labels\n",
    "starbucks = strat_train.drop(['viewed_before_completed','user_id_encoded'],axis=1)\n",
    "starbucks_labels = strat_train['viewed_before_completed']"
   ]
  },
  {
   "cell_type": "code",
   "execution_count": 748,
   "metadata": {},
   "outputs": [
    {
     "data": {
      "text/html": [
       "<div>\n",
       "<style scoped>\n",
       "    .dataframe tbody tr th:only-of-type {\n",
       "        vertical-align: middle;\n",
       "    }\n",
       "\n",
       "    .dataframe tbody tr th {\n",
       "        vertical-align: top;\n",
       "    }\n",
       "\n",
       "    .dataframe thead th {\n",
       "        text-align: right;\n",
       "    }\n",
       "</style>\n",
       "<table border=\"1\" class=\"dataframe\">\n",
       "  <thead>\n",
       "    <tr style=\"text-align: right;\">\n",
       "      <th></th>\n",
       "      <th>amount</th>\n",
       "      <th>reward_port</th>\n",
       "      <th>difficulty</th>\n",
       "      <th>duration</th>\n",
       "      <th>offer_type</th>\n",
       "      <th>offer_id_encoded</th>\n",
       "      <th>web</th>\n",
       "      <th>email</th>\n",
       "      <th>social</th>\n",
       "      <th>mobile</th>\n",
       "      <th>gender</th>\n",
       "      <th>age</th>\n",
       "      <th>income</th>\n",
       "      <th>days_since_member</th>\n",
       "    </tr>\n",
       "  </thead>\n",
       "  <tbody>\n",
       "    <tr>\n",
       "      <th>18007</th>\n",
       "      <td>0.00</td>\n",
       "      <td>5.0</td>\n",
       "      <td>5.0</td>\n",
       "      <td>5.0</td>\n",
       "      <td>bogo</td>\n",
       "      <td>9.0</td>\n",
       "      <td>1.0</td>\n",
       "      <td>1.0</td>\n",
       "      <td>1.0</td>\n",
       "      <td>1.0</td>\n",
       "      <td>M</td>\n",
       "      <td>53</td>\n",
       "      <td>81000.0</td>\n",
       "      <td>207</td>\n",
       "    </tr>\n",
       "    <tr>\n",
       "      <th>72287</th>\n",
       "      <td>14.43</td>\n",
       "      <td>10.0</td>\n",
       "      <td>10.0</td>\n",
       "      <td>7.0</td>\n",
       "      <td>bogo</td>\n",
       "      <td>1.0</td>\n",
       "      <td>0.0</td>\n",
       "      <td>1.0</td>\n",
       "      <td>1.0</td>\n",
       "      <td>1.0</td>\n",
       "      <td>M</td>\n",
       "      <td>52</td>\n",
       "      <td>67000.0</td>\n",
       "      <td>674</td>\n",
       "    </tr>\n",
       "    <tr>\n",
       "      <th>30806</th>\n",
       "      <td>0.00</td>\n",
       "      <td>0.0</td>\n",
       "      <td>0.0</td>\n",
       "      <td>4.0</td>\n",
       "      <td>informational</td>\n",
       "      <td>3.0</td>\n",
       "      <td>1.0</td>\n",
       "      <td>1.0</td>\n",
       "      <td>0.0</td>\n",
       "      <td>1.0</td>\n",
       "      <td>F</td>\n",
       "      <td>68</td>\n",
       "      <td>84000.0</td>\n",
       "      <td>443</td>\n",
       "    </tr>\n",
       "    <tr>\n",
       "      <th>20438</th>\n",
       "      <td>16.54</td>\n",
       "      <td>5.0</td>\n",
       "      <td>20.0</td>\n",
       "      <td>10.0</td>\n",
       "      <td>discount</td>\n",
       "      <td>5.0</td>\n",
       "      <td>1.0</td>\n",
       "      <td>1.0</td>\n",
       "      <td>0.0</td>\n",
       "      <td>0.0</td>\n",
       "      <td>M</td>\n",
       "      <td>62</td>\n",
       "      <td>94000.0</td>\n",
       "      <td>450</td>\n",
       "    </tr>\n",
       "    <tr>\n",
       "      <th>35003</th>\n",
       "      <td>2.40</td>\n",
       "      <td>5.0</td>\n",
       "      <td>20.0</td>\n",
       "      <td>10.0</td>\n",
       "      <td>discount</td>\n",
       "      <td>5.0</td>\n",
       "      <td>1.0</td>\n",
       "      <td>1.0</td>\n",
       "      <td>0.0</td>\n",
       "      <td>0.0</td>\n",
       "      <td>F</td>\n",
       "      <td>53</td>\n",
       "      <td>42000.0</td>\n",
       "      <td>672</td>\n",
       "    </tr>\n",
       "  </tbody>\n",
       "</table>\n",
       "</div>"
      ],
      "text/plain": [
       "       amount  reward_port  difficulty  duration     offer_type  \\\n",
       "18007    0.00          5.0         5.0       5.0           bogo   \n",
       "72287   14.43         10.0        10.0       7.0           bogo   \n",
       "30806    0.00          0.0         0.0       4.0  informational   \n",
       "20438   16.54          5.0        20.0      10.0       discount   \n",
       "35003    2.40          5.0        20.0      10.0       discount   \n",
       "\n",
       "       offer_id_encoded  web  email  social  mobile gender  age   income  \\\n",
       "18007               9.0  1.0    1.0     1.0     1.0      M   53  81000.0   \n",
       "72287               1.0  0.0    1.0     1.0     1.0      M   52  67000.0   \n",
       "30806               3.0  1.0    1.0     0.0     1.0      F   68  84000.0   \n",
       "20438               5.0  1.0    1.0     0.0     0.0      M   62  94000.0   \n",
       "35003               5.0  1.0    1.0     0.0     0.0      F   53  42000.0   \n",
       "\n",
       "       days_since_member  \n",
       "18007                207  \n",
       "72287                674  \n",
       "30806                443  \n",
       "20438                450  \n",
       "35003                672  "
      ]
     },
     "execution_count": 748,
     "metadata": {},
     "output_type": "execute_result"
    }
   ],
   "source": [
    "# Glimpse at the data\n",
    "starbucks.head()"
   ]
  },
  {
   "cell_type": "code",
   "execution_count": 750,
   "metadata": {},
   "outputs": [],
   "source": [
    "# List of numerical columns\n",
    "num_cols = ['amount','reward_port','difficulty','duration','age','income','days_since_member'] \n",
    "\n",
    "# List of categorical columns\n",
    "cat_cols = ['offer_type','offer_id_encoded','gender']\n",
    "\n",
    "# List of columns that need no processing\n",
    "pass_cols = ['web','email','social','mobile']"
   ]
  },
  {
   "cell_type": "markdown",
   "metadata": {},
   "source": [
    "## Pipelines\n",
    "\n",
    "### Numerical Pipeline"
   ]
  },
  {
   "cell_type": "code",
   "execution_count": 383,
   "metadata": {},
   "outputs": [],
   "source": [
    "# Importing necessary libraries\n",
    "from sklearn.pipeline import Pipeline\n",
    "from sklearn.preprocessing import StandardScaler\n",
    "from sklearn.impute import SimpleImputer\n",
    "\n",
    "# Creating numerical pipeline\n",
    "num_pipeline = Pipeline([\n",
    "        ('std_scaler', StandardScaler()), # Scale the numeric features\n",
    "    ])"
   ]
  },
  {
   "cell_type": "markdown",
   "metadata": {},
   "source": [
    "### Categorical Pipeline"
   ]
  },
  {
   "cell_type": "code",
   "execution_count": 384,
   "metadata": {},
   "outputs": [],
   "source": [
    "# Importing necessary libraries\n",
    "from sklearn.preprocessing import OneHotEncoder\n",
    "\n",
    "# Creating pipeline for categorical variables with missing value should be \"None\"\n",
    "cat_pipeline = Pipeline([\n",
    "        ('encoder', OneHotEncoder(sparse=False,handle_unknown='ignore'))\n",
    "    ])"
   ]
  },
  {
   "cell_type": "markdown",
   "metadata": {},
   "source": [
    "### Fill Pipeline"
   ]
  },
  {
   "cell_type": "code",
   "execution_count": 751,
   "metadata": {},
   "outputs": [],
   "source": [
    "# Importing ColumnTransformer\n",
    "from sklearn.compose import ColumnTransformer\n",
    "\n",
    "# Creating full pipeline to process numeric and categorical features\n",
    "full_pipeline = ColumnTransformer(transformers=[\n",
    "        (\"num\", num_pipeline, num_cols),\n",
    "        (\"cat\", cat_pipeline, cat_cols),\n",
    "    ],remainder='passthrough')\n",
    "\n",
    "# Creating prepared data by passing the training set without labels\n",
    "transf = full_pipeline.fit(starbucks)\n",
    "\n",
    "starbucks_prepared = transf.transform(starbucks)"
   ]
  },
  {
   "cell_type": "code",
   "execution_count": 752,
   "metadata": {},
   "outputs": [
    {
     "data": {
      "text/plain": [
       "(61021, 27)"
      ]
     },
     "execution_count": 752,
     "metadata": {},
     "output_type": "execute_result"
    }
   ],
   "source": [
    "# Check shape\n",
    "starbucks_prepared.shape"
   ]
  },
  {
   "cell_type": "code",
   "execution_count": 753,
   "metadata": {},
   "outputs": [],
   "source": [
    "# get names of categorically encoded columns\n",
    "encoded_names = list(transf.transformers_[1][1]['encoder'].get_feature_names(cat_cols))\n",
    "\n",
    "# Combine column names\n",
    "cols = num_cols  + encoded_names +pass_cols"
   ]
  },
  {
   "cell_type": "code",
   "execution_count": 754,
   "metadata": {},
   "outputs": [],
   "source": [
    "# Create dataframe with column names\n",
    "starbucks_prepared = pd.DataFrame(starbucks_prepared,columns=cols)"
   ]
  },
  {
   "cell_type": "code",
   "execution_count": 755,
   "metadata": {},
   "outputs": [
    {
     "data": {
      "text/html": [
       "<div>\n",
       "<style scoped>\n",
       "    .dataframe tbody tr th:only-of-type {\n",
       "        vertical-align: middle;\n",
       "    }\n",
       "\n",
       "    .dataframe tbody tr th {\n",
       "        vertical-align: top;\n",
       "    }\n",
       "\n",
       "    .dataframe thead th {\n",
       "        text-align: right;\n",
       "    }\n",
       "</style>\n",
       "<table border=\"1\" class=\"dataframe\">\n",
       "  <thead>\n",
       "    <tr style=\"text-align: right;\">\n",
       "      <th></th>\n",
       "      <th>amount</th>\n",
       "      <th>reward_port</th>\n",
       "      <th>difficulty</th>\n",
       "      <th>duration</th>\n",
       "      <th>age</th>\n",
       "      <th>income</th>\n",
       "      <th>days_since_member</th>\n",
       "      <th>offer_type_bogo</th>\n",
       "      <th>offer_type_discount</th>\n",
       "      <th>offer_type_informational</th>\n",
       "      <th>...</th>\n",
       "      <th>offer_id_encoded_8.0</th>\n",
       "      <th>offer_id_encoded_9.0</th>\n",
       "      <th>offer_id_encoded_10.0</th>\n",
       "      <th>gender_F</th>\n",
       "      <th>gender_M</th>\n",
       "      <th>gender_O</th>\n",
       "      <th>web</th>\n",
       "      <th>email</th>\n",
       "      <th>social</th>\n",
       "      <th>mobile</th>\n",
       "    </tr>\n",
       "  </thead>\n",
       "  <tbody>\n",
       "    <tr>\n",
       "      <th>0</th>\n",
       "      <td>-0.393284</td>\n",
       "      <td>0.230624</td>\n",
       "      <td>-0.489333</td>\n",
       "      <td>-0.680397</td>\n",
       "      <td>-0.356259</td>\n",
       "      <td>0.804069</td>\n",
       "      <td>-1.137891</td>\n",
       "      <td>1.0</td>\n",
       "      <td>0.0</td>\n",
       "      <td>0.0</td>\n",
       "      <td>...</td>\n",
       "      <td>0.0</td>\n",
       "      <td>1.0</td>\n",
       "      <td>0.0</td>\n",
       "      <td>0.0</td>\n",
       "      <td>1.0</td>\n",
       "      <td>0.0</td>\n",
       "      <td>1.0</td>\n",
       "      <td>1.0</td>\n",
       "      <td>1.0</td>\n",
       "      <td>1.0</td>\n",
       "    </tr>\n",
       "    <tr>\n",
       "      <th>1</th>\n",
       "      <td>0.089041</td>\n",
       "      <td>1.699305</td>\n",
       "      <td>0.414282</td>\n",
       "      <td>0.229059</td>\n",
       "      <td>-0.393666</td>\n",
       "      <td>0.117854</td>\n",
       "      <td>-0.004118</td>\n",
       "      <td>1.0</td>\n",
       "      <td>0.0</td>\n",
       "      <td>0.0</td>\n",
       "      <td>...</td>\n",
       "      <td>0.0</td>\n",
       "      <td>0.0</td>\n",
       "      <td>0.0</td>\n",
       "      <td>0.0</td>\n",
       "      <td>1.0</td>\n",
       "      <td>0.0</td>\n",
       "      <td>0.0</td>\n",
       "      <td>1.0</td>\n",
       "      <td>1.0</td>\n",
       "      <td>1.0</td>\n",
       "    </tr>\n",
       "    <tr>\n",
       "      <th>2</th>\n",
       "      <td>-0.393284</td>\n",
       "      <td>-1.238057</td>\n",
       "      <td>-1.392948</td>\n",
       "      <td>-1.135125</td>\n",
       "      <td>0.204844</td>\n",
       "      <td>0.951116</td>\n",
       "      <td>-0.564935</td>\n",
       "      <td>0.0</td>\n",
       "      <td>0.0</td>\n",
       "      <td>1.0</td>\n",
       "      <td>...</td>\n",
       "      <td>0.0</td>\n",
       "      <td>0.0</td>\n",
       "      <td>0.0</td>\n",
       "      <td>1.0</td>\n",
       "      <td>0.0</td>\n",
       "      <td>0.0</td>\n",
       "      <td>1.0</td>\n",
       "      <td>1.0</td>\n",
       "      <td>0.0</td>\n",
       "      <td>1.0</td>\n",
       "    </tr>\n",
       "    <tr>\n",
       "      <th>3</th>\n",
       "      <td>0.159568</td>\n",
       "      <td>0.230624</td>\n",
       "      <td>2.221511</td>\n",
       "      <td>1.593244</td>\n",
       "      <td>-0.019598</td>\n",
       "      <td>1.441269</td>\n",
       "      <td>-0.547941</td>\n",
       "      <td>0.0</td>\n",
       "      <td>1.0</td>\n",
       "      <td>0.0</td>\n",
       "      <td>...</td>\n",
       "      <td>0.0</td>\n",
       "      <td>0.0</td>\n",
       "      <td>0.0</td>\n",
       "      <td>0.0</td>\n",
       "      <td>1.0</td>\n",
       "      <td>0.0</td>\n",
       "      <td>1.0</td>\n",
       "      <td>1.0</td>\n",
       "      <td>0.0</td>\n",
       "      <td>0.0</td>\n",
       "    </tr>\n",
       "    <tr>\n",
       "      <th>4</th>\n",
       "      <td>-0.313064</td>\n",
       "      <td>0.230624</td>\n",
       "      <td>2.221511</td>\n",
       "      <td>1.593244</td>\n",
       "      <td>-0.356259</td>\n",
       "      <td>-1.107530</td>\n",
       "      <td>-0.008973</td>\n",
       "      <td>0.0</td>\n",
       "      <td>1.0</td>\n",
       "      <td>0.0</td>\n",
       "      <td>...</td>\n",
       "      <td>0.0</td>\n",
       "      <td>0.0</td>\n",
       "      <td>0.0</td>\n",
       "      <td>1.0</td>\n",
       "      <td>0.0</td>\n",
       "      <td>0.0</td>\n",
       "      <td>1.0</td>\n",
       "      <td>1.0</td>\n",
       "      <td>0.0</td>\n",
       "      <td>0.0</td>\n",
       "    </tr>\n",
       "  </tbody>\n",
       "</table>\n",
       "<p>5 rows × 27 columns</p>\n",
       "</div>"
      ],
      "text/plain": [
       "     amount  reward_port  difficulty  duration       age    income  \\\n",
       "0 -0.393284     0.230624   -0.489333 -0.680397 -0.356259  0.804069   \n",
       "1  0.089041     1.699305    0.414282  0.229059 -0.393666  0.117854   \n",
       "2 -0.393284    -1.238057   -1.392948 -1.135125  0.204844  0.951116   \n",
       "3  0.159568     0.230624    2.221511  1.593244 -0.019598  1.441269   \n",
       "4 -0.313064     0.230624    2.221511  1.593244 -0.356259 -1.107530   \n",
       "\n",
       "   days_since_member  offer_type_bogo  offer_type_discount  \\\n",
       "0          -1.137891              1.0                  0.0   \n",
       "1          -0.004118              1.0                  0.0   \n",
       "2          -0.564935              0.0                  0.0   \n",
       "3          -0.547941              0.0                  1.0   \n",
       "4          -0.008973              0.0                  1.0   \n",
       "\n",
       "   offer_type_informational  ...  offer_id_encoded_8.0  offer_id_encoded_9.0  \\\n",
       "0                       0.0  ...                   0.0                   1.0   \n",
       "1                       0.0  ...                   0.0                   0.0   \n",
       "2                       1.0  ...                   0.0                   0.0   \n",
       "3                       0.0  ...                   0.0                   0.0   \n",
       "4                       0.0  ...                   0.0                   0.0   \n",
       "\n",
       "   offer_id_encoded_10.0  gender_F  gender_M  gender_O  web  email  social  \\\n",
       "0                    0.0       0.0       1.0       0.0  1.0    1.0     1.0   \n",
       "1                    0.0       0.0       1.0       0.0  0.0    1.0     1.0   \n",
       "2                    0.0       1.0       0.0       0.0  1.0    1.0     0.0   \n",
       "3                    0.0       0.0       1.0       0.0  1.0    1.0     0.0   \n",
       "4                    0.0       1.0       0.0       0.0  1.0    1.0     0.0   \n",
       "\n",
       "   mobile  \n",
       "0     1.0  \n",
       "1     1.0  \n",
       "2     1.0  \n",
       "3     0.0  \n",
       "4     0.0  \n",
       "\n",
       "[5 rows x 27 columns]"
      ]
     },
     "execution_count": 755,
     "metadata": {},
     "output_type": "execute_result"
    }
   ],
   "source": [
    "# Glimpse\n",
    "starbucks_prepared.head()"
   ]
  },
  {
   "cell_type": "markdown",
   "metadata": {},
   "source": [
    "# Modeling\n",
    "\n",
    "## Performance Metric\n",
    "\n",
    "1. Given that this is a classification problem, we have a host of performance metrics we can optimize for. \n",
    "\n",
    "\n",
    "2. For this case in particular, I am making an assumption that we care more about identifying users who would engage in an \"effective order\". Another way to think about this is that we want to identify all the users who eventually engaged in an effective order. To this end, we wouldn't mind few false positives as long as we identify all the effective orders. So, we care more about the `recall` than `precision`. \n",
    "\n",
    "\n",
    "3. Needless to say, this has to be validated by the business but going ahead, I am choosing `recall` as my performance metric. Below is the little representation of a confusion matrix highlighting the difference between the 2.\n",
    "\n",
    "<img src = './images/precision_recall.png' width = 500 align = \"center\"> \n",
    "\n"
   ]
  },
  {
   "cell_type": "markdown",
   "metadata": {},
   "source": [
    "## Create a function for cross validating multiple algorithms"
   ]
  },
  {
   "cell_type": "code",
   "execution_count": 592,
   "metadata": {},
   "outputs": [],
   "source": [
    "# Create a function that takes in different models and performs a k fold cross cross validation\n",
    "def cross_val_algos(algo_grid,n_splits=3):\n",
    "    '''\n",
    "    Objective: This function performs a k fold CV across multiple models and spits out a grid with results.\n",
    "    \n",
    "    Args:\n",
    "        algo_grid: a list of different models to test.\n",
    "        n_splits: number of folds for CV\n",
    "    \n",
    "    Returns:\n",
    "        algo_compare: A df with summary stats across different models\n",
    "        algo_predict: A df with actuals and predicted values across all the models.\n",
    "        \n",
    "    \n",
    "    '''\n",
    "    \n",
    "    # Instantiate StratifiedKFold \n",
    "    kfold = StratifiedKFold(n_splits=n_splits)\n",
    "    \n",
    "    # Let's create a grid to store results\n",
    "    algo_columns = ['algo', 'algo_params','Train_recall', 'Test_recall','Train_roc','Test_roc']\n",
    "    algo_compare = pd.DataFrame(columns = algo_columns)\n",
    "    \n",
    "    #create table to compare predictions of different alogrithms\n",
    "    algo_predict = pd.DataFrame({'Actuals':starbucks_labels})\n",
    "    \n",
    "    # Create a loop to go through all algorithms\n",
    "    ix = 0\n",
    "    for algo in algo_grid:\n",
    "    \n",
    "        # store name\n",
    "        algo_name = algo.__class__.__name__\n",
    "        algo_compare.loc[ix, 'algo'] = algo_name\n",
    "        # Store param\n",
    "        algo_compare.loc[ix, 'algo_params'] = str(algo.get_params())\n",
    "\n",
    "        # Perform Cross validation\n",
    "        cv_results = model_selection.cross_validate(algo, \n",
    "                                                    starbucks_prepared, \n",
    "                                                    starbucks_labels, \n",
    "                                                    cv  = kfold,\n",
    "                                                    return_train_score = True,\n",
    "                                                    scoring = ['recall','roc_auc'])\n",
    "\n",
    "        # Calc CV Training recall\n",
    "        algo_compare.loc[ix, 'Train_recall'] = cv_results['train_recall'].mean()\n",
    "        # Calc CV Test recall\n",
    "        algo_compare.loc[ix, 'Test_recall'] = cv_results['test_recall'].mean()\n",
    "\n",
    "        # Calc CV Training roc_auc\n",
    "        algo_compare.loc[ix, 'Train_roc'] = cv_results['train_roc_auc'].mean()\n",
    "        # Calc CV Test roc_auc\n",
    "        algo_compare.loc[ix, 'Test_roc'] = cv_results['test_roc_auc'].mean()\n",
    "\n",
    "        #saving predictions \n",
    "        algo.fit(starbucks_prepared, starbucks_labels)\n",
    "        algo_predict[algo_name] = algo.predict(starbucks_prepared)\n",
    "\n",
    "        # increment index by 1\n",
    "        ix+=1\n",
    "    \n",
    "    # sort results based on recall\n",
    "    algo_compare.sort_values('Test_recall',ascending=False,inplace=True)\n",
    "    \n",
    "    return algo_compare, algo_predict"
   ]
  },
  {
   "cell_type": "code",
   "execution_count": null,
   "metadata": {},
   "outputs": [],
   "source": [
    "# Import necessary libraries\n",
    "from sklearn.tree import DecisionTreeClassifier\n",
    "from sklearn.ensemble import RandomForestClassifier\n",
    "from sklearn.ensemble import AdaBoostClassifier\n",
    "from sklearn.ensemble import GradientBoostingClassifier\n",
    "from sklearn.linear_model import LogisticRegression\n",
    "from sklearn.linear_model import RidgeClassifier\n",
    "from sklearn.linear_model import SGDClassifier\n",
    "from sklearn.naive_bayes import GaussianNB\n",
    "from sklearn.neighbors import KNeighborsClassifier\n",
    "from sklearn.svm import LinearSVC\n",
    "from sklearn.discriminant_analysis import LinearDiscriminantAnalysis\n",
    "import xgboost as xgb\n",
    "from sklearn.dummy import DummyClassifier"
   ]
  },
  {
   "cell_type": "code",
   "execution_count": null,
   "metadata": {},
   "outputs": [],
   "source": [
    "# Instantiating instances and saving in a grid\n",
    "\n",
    "# Instantiate Dummy Classifier\n",
    "dummy = DummyClassifier(strategy=\"stratified\")\n",
    "\n",
    "# Instantiate Decision tree\n",
    "dt = DecisionTreeClassifier(random_state=42)\n",
    "\n",
    "# Instantiate Random Forest\n",
    "rf = RandomForestClassifier(random_state=42)\n",
    "\n",
    "# Instantiate AdaBoost\n",
    "ab = AdaBoostClassifier(random_state=42)\n",
    "\n",
    "# Instantiate Gradient Boosting\n",
    "gb = GradientBoostingClassifier(random_state=42)\n",
    "\n",
    "# Instantiate Logistic Regression\n",
    "lr = LogisticRegression(random_state=42)\n",
    "\n",
    "# Instantiate Ridge Regression\n",
    "rc = RidgeClassifier(random_state=42)\n",
    "\n",
    "# Instantiate Stochastic Gradient Descent\n",
    "sgd = SGDClassifier(random_state=42)\n",
    "\n",
    "# Instantiate Gaussian Naive Bayes\n",
    "gnb = GaussianNB()\n",
    "\n",
    "# Instantiate KNN\n",
    "knn = KNeighborsClassifier()\n",
    "\n",
    "# Instantiate SVM\n",
    "svc = LinearSVC(random_state=42)\n",
    "\n",
    "# Instantiate LDA\n",
    "lda = LinearDiscriminantAnalysis()\n",
    "\n",
    "# Instantiate XGboost\n",
    "xgbC = xgb.XGBClassifier()\n",
    "\n",
    "algo_grid = [dt,rf,ab,gb,rc,sgd,gnb,knn,lda,xgbC,dummy] #"
   ]
  },
  {
   "cell_type": "code",
   "execution_count": 756,
   "metadata": {},
   "outputs": [],
   "source": [
    "# Call the function and store results\n",
    "algo_compare, algo_predict = cross_val_algos(algo_grid)"
   ]
  },
  {
   "cell_type": "code",
   "execution_count": 757,
   "metadata": {},
   "outputs": [
    {
     "data": {
      "image/png": "[encoded data removed]",
      "text/plain": [
       "<Figure size 864x432 with 1 Axes>"
      ]
     },
     "metadata": {},
     "output_type": "display_data"
    }
   ],
   "source": [
    "# plot the results.\n",
    "plt.figure(figsize=(12,6))\n",
    "\n",
    "# lets plot the values\n",
    "chart = sns.barplot(x='algo', y = 'Test_recall', data = algo_compare, color = 'g')\n",
    "\n",
    "#prettify using pyplot: https://matplotlib.org/api/pyplot_api.html\n",
    "plt.title('Test Recall by different Models \\n')\n",
    "plt.ylabel('Recall Score(%)')\n",
    "plt.xlabel('Models')\n",
    "\n",
    "chart.set_xticklabels(fontweight='light',\n",
    "                      fontsize='small',\n",
    "                      rotation=45,\n",
    "                      horizontalalignment='center',\n",
    "                     labels=algo_compare['algo'])\n",
    "plt.show()"
   ]
  },
  {
   "cell_type": "code",
   "execution_count": 758,
   "metadata": {},
   "outputs": [
    {
     "data": {
      "text/html": [
       "<div>\n",
       "<style scoped>\n",
       "    .dataframe tbody tr th:only-of-type {\n",
       "        vertical-align: middle;\n",
       "    }\n",
       "\n",
       "    .dataframe tbody tr th {\n",
       "        vertical-align: top;\n",
       "    }\n",
       "\n",
       "    .dataframe thead th {\n",
       "        text-align: right;\n",
       "    }\n",
       "</style>\n",
       "<table border=\"1\" class=\"dataframe\">\n",
       "  <thead>\n",
       "    <tr style=\"text-align: right;\">\n",
       "      <th></th>\n",
       "      <th>algo</th>\n",
       "      <th>Train_recall</th>\n",
       "      <th>Test_recall</th>\n",
       "    </tr>\n",
       "  </thead>\n",
       "  <tbody>\n",
       "    <tr>\n",
       "      <th>9</th>\n",
       "      <td>XGBClassifier</td>\n",
       "      <td>0.80128</td>\n",
       "      <td>0.794775</td>\n",
       "    </tr>\n",
       "    <tr>\n",
       "      <th>3</th>\n",
       "      <td>GradientBoostingClassifier</td>\n",
       "      <td>0.79005</td>\n",
       "      <td>0.782721</td>\n",
       "    </tr>\n",
       "    <tr>\n",
       "      <th>1</th>\n",
       "      <td>RandomForestClassifier</td>\n",
       "      <td>0.999947</td>\n",
       "      <td>0.747729</td>\n",
       "    </tr>\n",
       "    <tr>\n",
       "      <th>2</th>\n",
       "      <td>AdaBoostClassifier</td>\n",
       "      <td>0.66102</td>\n",
       "      <td>0.656136</td>\n",
       "    </tr>\n",
       "    <tr>\n",
       "      <th>0</th>\n",
       "      <td>DecisionTreeClassifier</td>\n",
       "      <td>0.999947</td>\n",
       "      <td>0.646578</td>\n",
       "    </tr>\n",
       "    <tr>\n",
       "      <th>7</th>\n",
       "      <td>KNeighborsClassifier</td>\n",
       "      <td>0.755828</td>\n",
       "      <td>0.632719</td>\n",
       "    </tr>\n",
       "    <tr>\n",
       "      <th>6</th>\n",
       "      <td>GaussianNB</td>\n",
       "      <td>0.626825</td>\n",
       "      <td>0.624914</td>\n",
       "    </tr>\n",
       "    <tr>\n",
       "      <th>5</th>\n",
       "      <td>SGDClassifier</td>\n",
       "      <td>0.562842</td>\n",
       "      <td>0.557585</td>\n",
       "    </tr>\n",
       "    <tr>\n",
       "      <th>10</th>\n",
       "      <td>DummyClassifier</td>\n",
       "      <td>0.310678</td>\n",
       "      <td>0.303138</td>\n",
       "    </tr>\n",
       "    <tr>\n",
       "      <th>8</th>\n",
       "      <td>LinearDiscriminantAnalysis</td>\n",
       "      <td>0.252323</td>\n",
       "      <td>0.253066</td>\n",
       "    </tr>\n",
       "    <tr>\n",
       "      <th>4</th>\n",
       "      <td>RidgeClassifier</td>\n",
       "      <td>0.212951</td>\n",
       "      <td>0.21319</td>\n",
       "    </tr>\n",
       "  </tbody>\n",
       "</table>\n",
       "</div>"
      ],
      "text/plain": [
       "                          algo Train_recall Test_recall\n",
       "9                XGBClassifier      0.80128    0.794775\n",
       "3   GradientBoostingClassifier      0.79005    0.782721\n",
       "1       RandomForestClassifier     0.999947    0.747729\n",
       "2           AdaBoostClassifier      0.66102    0.656136\n",
       "0       DecisionTreeClassifier     0.999947    0.646578\n",
       "7         KNeighborsClassifier     0.755828    0.632719\n",
       "6                   GaussianNB     0.626825    0.624914\n",
       "5                SGDClassifier     0.562842    0.557585\n",
       "10             DummyClassifier     0.310678    0.303138\n",
       "8   LinearDiscriminantAnalysis     0.252323    0.253066\n",
       "4              RidgeClassifier     0.212951     0.21319"
      ]
     },
     "execution_count": 758,
     "metadata": {},
     "output_type": "execute_result"
    }
   ],
   "source": [
    "# View our algo comparison DF\n",
    "algo_compare[['algo','Train_recall','Test_recall']]"
   ]
  },
  {
   "cell_type": "markdown",
   "metadata": {},
   "source": [
    "- Looking at the test recall values, it is clear that XGBoost, Gradient boost, Random Forest perform the best. \n",
    "- It is important to be mindful how prone Random Forest is to overfitting with a recall of almost 100% on the traning set.\n",
    "- We will pick and tune these 3 models and later create an ensemble learner on these tuned models."
   ]
  },
  {
   "cell_type": "markdown",
   "metadata": {},
   "source": [
    "## Hyperparameter tuning\n",
    "\n",
    "### XGBoost Classifier"
   ]
  },
  {
   "cell_type": "code",
   "execution_count": 614,
   "metadata": {},
   "outputs": [
    {
     "name": "stdout",
     "output_type": "stream",
     "text": [
      "Fitting 3 folds for each of 64 candidates, totalling 192 fits\n"
     ]
    },
    {
     "name": "stderr",
     "output_type": "stream",
     "text": [
      "[Parallel(n_jobs=-1)]: Using backend LokyBackend with 12 concurrent workers.\n",
      "[Parallel(n_jobs=-1)]: Done  26 tasks      | elapsed:   26.2s\n",
      "[Parallel(n_jobs=-1)]: Done 192 out of 192 | elapsed:  2.3min finished\n"
     ]
    },
    {
     "name": "stdout",
     "output_type": "stream",
     "text": [
      "CPU times: user 4.59 s, sys: 1.09 s, total: 5.68 s\n",
      "Wall time: 2min 24s\n"
     ]
    },
    {
     "data": {
      "text/plain": [
       "GridSearchCV(cv=3, estimator=XGBClassifier(), n_jobs=-1,\n",
       "             param_grid={'gamma': [0.45, 0.5], 'learning_rate': [0.15, 0.09],\n",
       "                         'max_depth': [6, 5], 'n_estimators': [30, 60],\n",
       "                         'reg_alpha': [0.05, 0.1], 'reg_lambda': [0.4, 0.5],\n",
       "                         'subsample': [0.8]},\n",
       "             scoring='recall', verbose=1)"
      ]
     },
     "execution_count": 614,
     "metadata": {},
     "output_type": "execute_result"
    }
   ],
   "source": [
    "%%time\n",
    "from sklearn.model_selection import GridSearchCV\n",
    "\n",
    "# Creating Parameter grid for GridSearch CV\n",
    "params_xgb = {\n",
    "    'n_estimators': [30,60], \n",
    "    'max_depth': [6,5], #8\n",
    "    'gamma':[0.45,0.5], # Minimum loss reduction to create new tree split ,0.5,0.9\n",
    "    'subsample':[0.8], \n",
    "    'reg_lambda':[0.4,0.5], \n",
    "    'reg_alpha':[0.05,0.1],\n",
    "    'learning_rate':[0.15,0.09]\n",
    "}\n",
    "\n",
    "# Instantiate grid search using GradientBoostingRegressor\n",
    "grid_xgb = GridSearchCV(estimator = xgbC, # regressor we want to use\n",
    "                       param_grid = params_xgb, # Hyperparameter space\n",
    "                       scoring ='recall',\n",
    "                       cv = 3, # No of folds\n",
    "                       verbose = 1,\n",
    "                       n_jobs = -1) # use all cores\n",
    "\n",
    "# fit the model\n",
    "grid_xgb.fit(starbucks_prepared,starbucks_labels)"
   ]
  },
  {
   "cell_type": "code",
   "execution_count": 615,
   "metadata": {},
   "outputs": [
    {
     "name": "stdout",
     "output_type": "stream",
     "text": [
      "CV Score for best XGBoost model: 0.8217\n"
     ]
    }
   ],
   "source": [
    "print('CV Score for best XGBoost model: {:.4f}'.format(grid_xgb.best_score_))"
   ]
  },
  {
   "cell_type": "code",
   "execution_count": 616,
   "metadata": {},
   "outputs": [],
   "source": [
    "# Store the best model \n",
    "best_model_xgb = grid_xgb.best_estimator_"
   ]
  },
  {
   "cell_type": "markdown",
   "metadata": {},
   "source": [
    "### Gradient Boosting Classifier"
   ]
  },
  {
   "cell_type": "code",
   "execution_count": 628,
   "metadata": {},
   "outputs": [
    {
     "name": "stdout",
     "output_type": "stream",
     "text": [
      "Fitting 3 folds for each of 72 candidates, totalling 216 fits\n"
     ]
    },
    {
     "name": "stderr",
     "output_type": "stream",
     "text": [
      "[Parallel(n_jobs=-1)]: Using backend LokyBackend with 12 concurrent workers.\n",
      "[Parallel(n_jobs=-1)]: Done  26 tasks      | elapsed:   37.8s\n",
      "[Parallel(n_jobs=-1)]: Done 176 tasks      | elapsed:  4.2min\n",
      "[Parallel(n_jobs=-1)]: Done 216 out of 216 | elapsed:  5.2min finished\n"
     ]
    },
    {
     "name": "stdout",
     "output_type": "stream",
     "text": [
      "CPU times: user 8.41 s, sys: 1.48 s, total: 9.89 s\n",
      "Wall time: 5min 21s\n"
     ]
    },
    {
     "data": {
      "text/plain": [
       "GridSearchCV(cv=3, estimator=GradientBoostingClassifier(random_state=42),\n",
       "             n_jobs=-1,\n",
       "             param_grid={'learning_rate': [0.01, 0.1], 'max_depth': [3, 5],\n",
       "                         'max_features': [0.8, 0.9],\n",
       "                         'min_samples_split': [3, 5, 7],\n",
       "                         'n_estimators': [40, 60, 90], 'subsample': [0.9]},\n",
       "             scoring='recall', verbose=1)"
      ]
     },
     "execution_count": 628,
     "metadata": {},
     "output_type": "execute_result"
    }
   ],
   "source": [
    "%%time\n",
    "\n",
    "# Creating Parameter grid for GridSearch CV\n",
    "params_gbr = {\n",
    "    'n_estimators': [40,60,90],\n",
    "    'max_depth': [3,5,7], \n",
    "    'min_samples_split':[3,5,7],\n",
    "    #'min_samples_leaf':[5,15],\n",
    "    #'max_features': ['log2', 'auto', 'sqrt'],\n",
    "    'subsample' : [0.9], #0.8,\n",
    "    'max_features' : [0.8,0.9],\n",
    "    'learning_rate' : [0.01,0.1]   \n",
    "}\n",
    "\n",
    "# Instantiate grid search using GradientBoostingRegressor\n",
    "grid_gbr = GridSearchCV(estimator = gb, # regressor we want to use\n",
    "                       param_grid = params_gbr, # Hyperparameter space\n",
    "                       scoring ='recall',\n",
    "                       cv = 3, # No of folds\n",
    "                       verbose = 1,\n",
    "                       n_jobs = -1) # use all cores\n",
    "\n",
    "# fit the model\n",
    "grid_gbr.fit(starbucks_prepared,starbucks_labels)"
   ]
  },
  {
   "cell_type": "code",
   "execution_count": 629,
   "metadata": {},
   "outputs": [
    {
     "name": "stdout",
     "output_type": "stream",
     "text": [
      "CV Score for best GradientBoostingClassifier model: 0.8121\n"
     ]
    }
   ],
   "source": [
    "print('CV Score for best GradientBoostingClassifier model: {:.4f}'.format(grid_gbr.best_score_))"
   ]
  },
  {
   "cell_type": "code",
   "execution_count": 630,
   "metadata": {},
   "outputs": [],
   "source": [
    "# Store the best model \n",
    "best_model_gbr = grid_gbr.best_estimator_"
   ]
  },
  {
   "cell_type": "markdown",
   "metadata": {},
   "source": [
    "### Random Forest"
   ]
  },
  {
   "cell_type": "code",
   "execution_count": 661,
   "metadata": {},
   "outputs": [
    {
     "name": "stdout",
     "output_type": "stream",
     "text": [
      "Fitting 3 folds for each of 27 candidates, totalling 81 fits\n"
     ]
    },
    {
     "name": "stderr",
     "output_type": "stream",
     "text": [
      "[Parallel(n_jobs=-1)]: Using backend LokyBackend with 12 concurrent workers.\n",
      "[Parallel(n_jobs=-1)]: Done  26 tasks      | elapsed:  1.1min\n",
      "[Parallel(n_jobs=-1)]: Done  81 out of  81 | elapsed:  2.7min finished\n"
     ]
    },
    {
     "name": "stdout",
     "output_type": "stream",
     "text": [
      "CPU times: user 10.5 s, sys: 262 ms, total: 10.8 s\n",
      "Wall time: 2min 49s\n"
     ]
    },
    {
     "data": {
      "text/plain": [
       "GridSearchCV(cv=3, estimator=RandomForestClassifier(random_state=42), n_jobs=-1,\n",
       "             param_grid={'max_depth': [13, 15, 17],\n",
       "                         'min_samples_split': [3, 5, 7],\n",
       "                         'n_estimators': [210, 240, 290]},\n",
       "             scoring='recall', verbose=1)"
      ]
     },
     "execution_count": 661,
     "metadata": {},
     "output_type": "execute_result"
    }
   ],
   "source": [
    "%%time\n",
    "\n",
    "# Creating Parameter grid for GridSearch CV\n",
    "params_rf = {\n",
    "    'n_estimators': [210,240,290],\n",
    "    'max_depth': [13,15,17], \n",
    "    'min_samples_split':[3,5,7]  \n",
    "}\n",
    "\n",
    "# Instantiate grid search using GradientBoostingRegressor\n",
    "grid_rf = GridSearchCV(estimator = rf, # regressor we want to use\n",
    "                       param_grid = params_rf, # Hyperparameter space\n",
    "                       scoring ='recall',\n",
    "                       cv = 3, # No of folds\n",
    "                       verbose = 1,\n",
    "                       n_jobs = -1) # use all cores\n",
    "\n",
    "# fit the model\n",
    "grid_rf.fit(starbucks_prepared,starbucks_labels)"
   ]
  },
  {
   "cell_type": "code",
   "execution_count": 662,
   "metadata": {},
   "outputs": [
    {
     "name": "stdout",
     "output_type": "stream",
     "text": [
      "CV Score for best RandomForest model: 0.7930\n"
     ]
    }
   ],
   "source": [
    "print('CV Score for best RandomForest model: {:.4f}'.format(grid_rf.best_score_))"
   ]
  },
  {
   "cell_type": "code",
   "execution_count": 663,
   "metadata": {},
   "outputs": [],
   "source": [
    "# Store the best model \n",
    "best_model_rf = grid_rf.best_estimator_"
   ]
  },
  {
   "cell_type": "markdown",
   "metadata": {},
   "source": [
    "## Ensemble Classifier\n",
    "\n",
    "- We will now create an ensemble classifier, thereby combining the strenghts of out tuned models."
   ]
  },
  {
   "cell_type": "code",
   "execution_count": 762,
   "metadata": {},
   "outputs": [],
   "source": [
    "# import module\n",
    "from sklearn.ensemble import VotingClassifier\n",
    "\n",
    "# Initiating voting classifier\n",
    "voting_grid = VotingClassifier(\n",
    "    estimators=[('gbr', best_model_gbr), \n",
    "                ('rd', best_model_rf),\n",
    "               ('xgb',best_model_xgb)])"
   ]
  },
  {
   "cell_type": "code",
   "execution_count": 761,
   "metadata": {},
   "outputs": [
    {
     "name": "stdout",
     "output_type": "stream",
     "text": [
      "CPU times: user 40.4 s, sys: 418 ms, total: 40.8 s\n",
      "Wall time: 41 s\n"
     ]
    },
    {
     "data": {
      "text/plain": [
       "array([0.81076776, 0.80962243, 0.81873208])"
      ]
     },
     "execution_count": 761,
     "metadata": {},
     "output_type": "execute_result"
    }
   ],
   "source": [
    "%%time\n",
    "# check cross validation scores\n",
    "cross_val_score(voting_grid,starbucks_prepared,starbucks_labels,cv=3,scoring='recall')"
   ]
  },
  {
   "cell_type": "code",
   "execution_count": 674,
   "metadata": {},
   "outputs": [],
   "source": [
    "# Fitting the model on the entire training set\n",
    "voting_clf = voting_grid.fit(starbucks_prepared,starbucks_labels)"
   ]
  },
  {
   "cell_type": "markdown",
   "metadata": {},
   "source": [
    "## Predicting\n",
    "\n",
    "- We will now predict on our test set."
   ]
  },
  {
   "cell_type": "code",
   "execution_count": 683,
   "metadata": {},
   "outputs": [],
   "source": [
    "# Separating the labels and features\n",
    "test_id = strat_test['viewed_before_completed']\n",
    "test_features = strat_test.drop(['user_id_encoded','viewed_before_completed'],axis=1)\n",
    "\n",
    "# transforming the features\n",
    "test_prepared = transf.transform(test_features)\n",
    "\n",
    "# Create dataframe with column names\n",
    "starbucks_test_prepared = pd.DataFrame(test_prepared,columns=cols)"
   ]
  },
  {
   "cell_type": "code",
   "execution_count": 684,
   "metadata": {},
   "outputs": [],
   "source": [
    "# Predicting\n",
    "preds = voting_clf.predict(starbucks_test_prepared)"
   ]
  },
  {
   "cell_type": "code",
   "execution_count": 685,
   "metadata": {},
   "outputs": [],
   "source": [
    "# import recall score\n",
    "from sklearn.metrics import recall_score\n",
    "\n",
    "# Calc recall\n",
    "recall_score = recall_score(test_id,preds)"
   ]
  },
  {
   "cell_type": "code",
   "execution_count": 689,
   "metadata": {},
   "outputs": [
    {
     "name": "stdout",
     "output_type": "stream",
     "text": [
      "The recall score on the test set is. 0.82\n"
     ]
    }
   ],
   "source": [
    "print('The recall score on the test set is. {:.2f}'.format(recall_score))"
   ]
  },
  {
   "cell_type": "markdown",
   "metadata": {},
   "source": [
    "### Thoughts:\n",
    "\n",
    "- With a recall of 82%, the ensemble predictor isn't top notch but it was the best we could come up with given the rules we set and the data available.\n",
    "- In terms of feature engineering, we could have engineered features like time difference between different events but we can't expect the business to know how a user would interact with the offer in real time.\n",
    "- Enriching the data with additional user demographic or/and offer information might help."
   ]
  },
  {
   "cell_type": "markdown",
   "metadata": {},
   "source": [
    "# Conclusion\n",
    "\n",
    "## Reflections:\n",
    "\n",
    "\n",
    "- We went through the following major blocks for completing this project:\n",
    "    1. Defining the problem statement.\n",
    "    2. Understanding the 3 datasets and cleaning them.\n",
    "    3. Designing data cleaning logic.\n",
    "    4. EDA, post data cleanup.\n",
    "    5. Defining the ML problem statement and pereformance metrics\n",
    "    6. Building and training multiple models and shortlisting 3 for tuning.\n",
    "    7. Building Ensemble learner and predicting on test set.\n",
    "    \n",
    "    \n",
    "- The overall problem was way more challenging and exploratory in nature than I had previously anticipated and took me a lot longer than I had thought. There were loads of nuggets of learning that I was able to pick up along the way. \n",
    "\n",
    "\n",
    "- One of the biggest takeaway and one which is relevant to all data science problems, was to take a step back now and again to think about the bigger picture, business use case and the end goal. Clearly defining the goal for each sub task was also critical."
   ]
  },
  {
   "cell_type": "markdown",
   "metadata": {},
   "source": [
    "## Potential Improvements:\n",
    "\n",
    "1. One of the sticking points was that users receive the offer and complete it but never view it. They get a reward for the completed offers, but it might not do the business any good as it might be cash wasted by the company. The business could consider adding an \"Activate\" option to each offer. The user will have to activate the offer to attain the rewards associated with the offer. Such a system would incentivize the user to interact with the Starbucks app actively. It would also impact the business's OPEX. This system could be one of the drivers towards attaining a higher interaction with the app. Data collected from increased interactions would also help drive initiatives for increased personalization for the user, increasing delight and NPS score.\n",
    "\n",
    "\n",
    "2. As for the model, as stated earlier, enriching the data with additional user demographics, offer data could be one way to improve the model. \n",
    "\n",
    "\n",
    "3. We could also do some feature engineering and extract time-based features. We didn't opt for it here because it might not be practically possible for the business to generalize such specific features and extend them to the user base."
   ]
  },
  {
   "cell_type": "code",
   "execution_count": null,
   "metadata": {},
   "outputs": [],
   "source": []
  }
 ],
 "metadata": {
  "kernelspec": {
   "display_name": "Python 3",
   "language": "python",
   "name": "python3"
  },
  "language_info": {
   "codemirror_mode": {
    "name": "ipython",
    "version": 3
   },
   "file_extension": ".py",
   "mimetype": "text/x-python",
   "name": "python",
   "nbconvert_exporter": "python",
   "pygments_lexer": "ipython3",
   "version": "3.7.9"
  },
  "toc": {
   "base_numbering": 1,
   "nav_menu": {},
   "number_sections": true,
   "sideBar": true,
   "skip_h1_title": false,
   "title_cell": "Table of Contents",
   "title_sidebar": "Contents",
   "toc_cell": true,
   "toc_position": {
    "height": "calc(100% - 180px)",
    "left": "10px",
    "top": "150px",
    "width": "245px"
   },
   "toc_section_display": true,
   "toc_window_display": true
  }
 },
 "nbformat": 4,
 "nbformat_minor": 2
}
